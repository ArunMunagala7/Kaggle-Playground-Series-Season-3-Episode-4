{
 "cells": [
  {
   "cell_type": "code",
   "execution_count": 1,
   "id": "01dc8502",
   "metadata": {
    "_cell_guid": "b1076dfc-b9ad-4769-8c92-a6c4dae69d19",
    "_uuid": "8f2839f25d086af736a60e9eeb907d3b93b6e0e5",
    "execution": {
     "iopub.execute_input": "2023-01-30T19:32:24.838874Z",
     "iopub.status.busy": "2023-01-30T19:32:24.838272Z",
     "iopub.status.idle": "2023-01-30T19:32:24.851586Z",
     "shell.execute_reply": "2023-01-30T19:32:24.850694Z"
    },
    "papermill": {
     "duration": 0.024556,
     "end_time": "2023-01-30T19:32:24.853677",
     "exception": false,
     "start_time": "2023-01-30T19:32:24.829121",
     "status": "completed"
    },
    "tags": []
   },
   "outputs": [
    {
     "name": "stdout",
     "output_type": "stream",
     "text": [
      "/kaggle/input/playground-series-s3e4/sample_submission.csv\n",
      "/kaggle/input/playground-series-s3e4/train.csv\n",
      "/kaggle/input/playground-series-s3e4/test.csv\n"
     ]
    }
   ],
   "source": [
    "# This Python 3 environment comes with many helpful analytics libraries installed\n",
    "# It is defined by the kaggle/python Docker image: https://github.com/kaggle/docker-python\n",
    "# For example, here's several helpful packages to load\n",
    "\n",
    "import numpy as np # linear algebra\n",
    "import pandas as pd # data processing, CSV file I/O (e.g. pd.read_csv)\n",
    "\n",
    "# Input data files are available in the read-only \"../input/\" directory\n",
    "# For example, running this (by clicking run or pressing Shift+Enter) will list all files under the input directory\n",
    "\n",
    "import os\n",
    "for dirname, _, filenames in os.walk('/kaggle/input'):\n",
    "    for filename in filenames:\n",
    "        print(os.path.join(dirname, filename))\n",
    "\n",
    "# You can write up to 20GB to the current directory (/kaggle/working/) that gets preserved as output when you create a version using \"Save & Run All\" \n",
    "# You can also write temporary files to /kaggle/temp/, but they won't be saved outside of the current session"
   ]
  },
  {
   "cell_type": "markdown",
   "id": "a5146c8d",
   "metadata": {
    "papermill": {
     "duration": 0.006189,
     "end_time": "2023-01-30T19:32:24.866550",
     "exception": false,
     "start_time": "2023-01-30T19:32:24.860361",
     "status": "completed"
    },
    "tags": []
   },
   "source": [
    "importing the necessary data"
   ]
  },
  {
   "cell_type": "code",
   "execution_count": 2,
   "id": "3c698729",
   "metadata": {
    "execution": {
     "iopub.execute_input": "2023-01-30T19:32:24.881345Z",
     "iopub.status.busy": "2023-01-30T19:32:24.880739Z",
     "iopub.status.idle": "2023-01-30T19:32:30.024771Z",
     "shell.execute_reply": "2023-01-30T19:32:30.023339Z"
    },
    "papermill": {
     "duration": 5.154054,
     "end_time": "2023-01-30T19:32:30.027122",
     "exception": false,
     "start_time": "2023-01-30T19:32:24.873068",
     "status": "completed"
    },
    "tags": []
   },
   "outputs": [],
   "source": [
    "train_data=pd.read_csv('/kaggle/input/playground-series-s3e4/train.csv')\n",
    "test_data=pd.read_csv('/kaggle/input/playground-series-s3e4/test.csv')"
   ]
  },
  {
   "cell_type": "markdown",
   "id": "7b7a8657",
   "metadata": {
    "papermill": {
     "duration": 0.006528,
     "end_time": "2023-01-30T19:32:30.040496",
     "exception": false,
     "start_time": "2023-01-30T19:32:30.033968",
     "status": "completed"
    },
    "tags": []
   },
   "source": []
  },
  {
   "cell_type": "code",
   "execution_count": 3,
   "id": "4e392491",
   "metadata": {
    "execution": {
     "iopub.execute_input": "2023-01-30T19:32:30.055300Z",
     "iopub.status.busy": "2023-01-30T19:32:30.054880Z",
     "iopub.status.idle": "2023-01-30T19:32:30.105811Z",
     "shell.execute_reply": "2023-01-30T19:32:30.104935Z"
    },
    "papermill": {
     "duration": 0.061054,
     "end_time": "2023-01-30T19:32:30.107906",
     "exception": false,
     "start_time": "2023-01-30T19:32:30.046852",
     "status": "completed"
    },
    "tags": []
   },
   "outputs": [
    {
     "data": {
      "text/html": [
       "<div>\n",
       "<style scoped>\n",
       "    .dataframe tbody tr th:only-of-type {\n",
       "        vertical-align: middle;\n",
       "    }\n",
       "\n",
       "    .dataframe tbody tr th {\n",
       "        vertical-align: top;\n",
       "    }\n",
       "\n",
       "    .dataframe thead th {\n",
       "        text-align: right;\n",
       "    }\n",
       "</style>\n",
       "<table border=\"1\" class=\"dataframe\">\n",
       "  <thead>\n",
       "    <tr style=\"text-align: right;\">\n",
       "      <th></th>\n",
       "      <th>id</th>\n",
       "      <th>Time</th>\n",
       "      <th>V1</th>\n",
       "      <th>V2</th>\n",
       "      <th>V3</th>\n",
       "      <th>V4</th>\n",
       "      <th>V5</th>\n",
       "      <th>V6</th>\n",
       "      <th>V7</th>\n",
       "      <th>V8</th>\n",
       "      <th>...</th>\n",
       "      <th>V20</th>\n",
       "      <th>V21</th>\n",
       "      <th>V22</th>\n",
       "      <th>V23</th>\n",
       "      <th>V24</th>\n",
       "      <th>V25</th>\n",
       "      <th>V26</th>\n",
       "      <th>V27</th>\n",
       "      <th>V28</th>\n",
       "      <th>Amount</th>\n",
       "    </tr>\n",
       "  </thead>\n",
       "  <tbody>\n",
       "    <tr>\n",
       "      <th>0</th>\n",
       "      <td>0</td>\n",
       "      <td>0.0</td>\n",
       "      <td>2.074329</td>\n",
       "      <td>-0.129425</td>\n",
       "      <td>-1.137418</td>\n",
       "      <td>0.412846</td>\n",
       "      <td>-0.192638</td>\n",
       "      <td>-1.210144</td>\n",
       "      <td>0.110697</td>\n",
       "      <td>-0.263477</td>\n",
       "      <td>...</td>\n",
       "      <td>-0.292969</td>\n",
       "      <td>-0.334701</td>\n",
       "      <td>-0.887840</td>\n",
       "      <td>0.336701</td>\n",
       "      <td>-0.110835</td>\n",
       "      <td>-0.291459</td>\n",
       "      <td>0.207733</td>\n",
       "      <td>-0.076576</td>\n",
       "      <td>-0.059577</td>\n",
       "      <td>1.98</td>\n",
       "    </tr>\n",
       "    <tr>\n",
       "      <th>1</th>\n",
       "      <td>1</td>\n",
       "      <td>0.0</td>\n",
       "      <td>1.998827</td>\n",
       "      <td>-1.250891</td>\n",
       "      <td>-0.520969</td>\n",
       "      <td>-0.894539</td>\n",
       "      <td>-1.122528</td>\n",
       "      <td>-0.270866</td>\n",
       "      <td>-1.029289</td>\n",
       "      <td>0.050198</td>\n",
       "      <td>...</td>\n",
       "      <td>0.065717</td>\n",
       "      <td>0.054848</td>\n",
       "      <td>-0.038367</td>\n",
       "      <td>0.133518</td>\n",
       "      <td>-0.461928</td>\n",
       "      <td>-0.465491</td>\n",
       "      <td>-0.464655</td>\n",
       "      <td>-0.009413</td>\n",
       "      <td>-0.038238</td>\n",
       "      <td>84.00</td>\n",
       "    </tr>\n",
       "    <tr>\n",
       "      <th>2</th>\n",
       "      <td>2</td>\n",
       "      <td>0.0</td>\n",
       "      <td>0.091535</td>\n",
       "      <td>1.004517</td>\n",
       "      <td>-0.223445</td>\n",
       "      <td>-0.435249</td>\n",
       "      <td>0.667548</td>\n",
       "      <td>-0.988351</td>\n",
       "      <td>0.948146</td>\n",
       "      <td>-0.084789</td>\n",
       "      <td>...</td>\n",
       "      <td>-0.021375</td>\n",
       "      <td>-0.326725</td>\n",
       "      <td>-0.803736</td>\n",
       "      <td>0.154495</td>\n",
       "      <td>0.951233</td>\n",
       "      <td>-0.506919</td>\n",
       "      <td>0.085046</td>\n",
       "      <td>0.224458</td>\n",
       "      <td>0.087356</td>\n",
       "      <td>2.69</td>\n",
       "    </tr>\n",
       "    <tr>\n",
       "      <th>3</th>\n",
       "      <td>3</td>\n",
       "      <td>0.0</td>\n",
       "      <td>1.979649</td>\n",
       "      <td>-0.184949</td>\n",
       "      <td>-1.064206</td>\n",
       "      <td>0.120125</td>\n",
       "      <td>-0.215238</td>\n",
       "      <td>-0.648829</td>\n",
       "      <td>-0.087826</td>\n",
       "      <td>-0.035367</td>\n",
       "      <td>...</td>\n",
       "      <td>-0.340089</td>\n",
       "      <td>-0.095514</td>\n",
       "      <td>-0.079792</td>\n",
       "      <td>0.167701</td>\n",
       "      <td>-0.042939</td>\n",
       "      <td>0.000799</td>\n",
       "      <td>-0.096148</td>\n",
       "      <td>-0.057780</td>\n",
       "      <td>-0.073839</td>\n",
       "      <td>1.00</td>\n",
       "    </tr>\n",
       "    <tr>\n",
       "      <th>4</th>\n",
       "      <td>4</td>\n",
       "      <td>0.0</td>\n",
       "      <td>1.025898</td>\n",
       "      <td>-0.171827</td>\n",
       "      <td>1.203717</td>\n",
       "      <td>1.243900</td>\n",
       "      <td>-0.636572</td>\n",
       "      <td>1.099074</td>\n",
       "      <td>-0.938651</td>\n",
       "      <td>0.569239</td>\n",
       "      <td>...</td>\n",
       "      <td>-0.203628</td>\n",
       "      <td>0.099157</td>\n",
       "      <td>0.608908</td>\n",
       "      <td>0.027901</td>\n",
       "      <td>-0.262813</td>\n",
       "      <td>0.257834</td>\n",
       "      <td>-0.252829</td>\n",
       "      <td>0.108338</td>\n",
       "      <td>0.021051</td>\n",
       "      <td>1.00</td>\n",
       "    </tr>\n",
       "  </tbody>\n",
       "</table>\n",
       "<p>5 rows × 31 columns</p>\n",
       "</div>"
      ],
      "text/plain": [
       "   id  Time        V1        V2        V3        V4        V5        V6  \\\n",
       "0   0   0.0  2.074329 -0.129425 -1.137418  0.412846 -0.192638 -1.210144   \n",
       "1   1   0.0  1.998827 -1.250891 -0.520969 -0.894539 -1.122528 -0.270866   \n",
       "2   2   0.0  0.091535  1.004517 -0.223445 -0.435249  0.667548 -0.988351   \n",
       "3   3   0.0  1.979649 -0.184949 -1.064206  0.120125 -0.215238 -0.648829   \n",
       "4   4   0.0  1.025898 -0.171827  1.203717  1.243900 -0.636572  1.099074   \n",
       "\n",
       "         V7        V8  ...       V20       V21       V22       V23       V24  \\\n",
       "0  0.110697 -0.263477  ... -0.292969 -0.334701 -0.887840  0.336701 -0.110835   \n",
       "1 -1.029289  0.050198  ...  0.065717  0.054848 -0.038367  0.133518 -0.461928   \n",
       "2  0.948146 -0.084789  ... -0.021375 -0.326725 -0.803736  0.154495  0.951233   \n",
       "3 -0.087826 -0.035367  ... -0.340089 -0.095514 -0.079792  0.167701 -0.042939   \n",
       "4 -0.938651  0.569239  ... -0.203628  0.099157  0.608908  0.027901 -0.262813   \n",
       "\n",
       "        V25       V26       V27       V28  Amount  \n",
       "0 -0.291459  0.207733 -0.076576 -0.059577    1.98  \n",
       "1 -0.465491 -0.464655 -0.009413 -0.038238   84.00  \n",
       "2 -0.506919  0.085046  0.224458  0.087356    2.69  \n",
       "3  0.000799 -0.096148 -0.057780 -0.073839    1.00  \n",
       "4  0.257834 -0.252829  0.108338  0.021051    1.00  \n",
       "\n",
       "[5 rows x 31 columns]"
      ]
     },
     "execution_count": 3,
     "metadata": {},
     "output_type": "execute_result"
    }
   ],
   "source": [
    "X_train=train_data.drop('Class',axis=1)\n",
    "y_train=train_data['Class']\n",
    "X_train.head()"
   ]
  },
  {
   "cell_type": "code",
   "execution_count": 4,
   "id": "cfee0fca",
   "metadata": {
    "execution": {
     "iopub.execute_input": "2023-01-30T19:32:30.123572Z",
     "iopub.status.busy": "2023-01-30T19:32:30.123027Z",
     "iopub.status.idle": "2023-01-30T19:32:30.129777Z",
     "shell.execute_reply": "2023-01-30T19:32:30.128817Z"
    },
    "papermill": {
     "duration": 0.016619,
     "end_time": "2023-01-30T19:32:30.131470",
     "exception": false,
     "start_time": "2023-01-30T19:32:30.114851",
     "status": "completed"
    },
    "tags": []
   },
   "outputs": [
    {
     "data": {
      "text/plain": [
       "0    0\n",
       "1    0\n",
       "2    0\n",
       "3    0\n",
       "4    0\n",
       "Name: Class, dtype: int64"
      ]
     },
     "execution_count": 4,
     "metadata": {},
     "output_type": "execute_result"
    }
   ],
   "source": [
    "y_train.head()"
   ]
  },
  {
   "cell_type": "markdown",
   "id": "3b619ed2",
   "metadata": {
    "papermill": {
     "duration": 0.006569,
     "end_time": "2023-01-30T19:32:30.145076",
     "exception": false,
     "start_time": "2023-01-30T19:32:30.138507",
     "status": "completed"
    },
    "tags": []
   },
   "source": [
    "dropping id for the training"
   ]
  },
  {
   "cell_type": "code",
   "execution_count": 5,
   "id": "a0443073",
   "metadata": {
    "execution": {
     "iopub.execute_input": "2023-01-30T19:32:30.161339Z",
     "iopub.status.busy": "2023-01-30T19:32:30.160965Z",
     "iopub.status.idle": "2023-01-30T19:32:30.207560Z",
     "shell.execute_reply": "2023-01-30T19:32:30.206732Z"
    },
    "papermill": {
     "duration": 0.056745,
     "end_time": "2023-01-30T19:32:30.209512",
     "exception": false,
     "start_time": "2023-01-30T19:32:30.152767",
     "status": "completed"
    },
    "tags": []
   },
   "outputs": [
    {
     "data": {
      "text/html": [
       "<div>\n",
       "<style scoped>\n",
       "    .dataframe tbody tr th:only-of-type {\n",
       "        vertical-align: middle;\n",
       "    }\n",
       "\n",
       "    .dataframe tbody tr th {\n",
       "        vertical-align: top;\n",
       "    }\n",
       "\n",
       "    .dataframe thead th {\n",
       "        text-align: right;\n",
       "    }\n",
       "</style>\n",
       "<table border=\"1\" class=\"dataframe\">\n",
       "  <thead>\n",
       "    <tr style=\"text-align: right;\">\n",
       "      <th></th>\n",
       "      <th>Time</th>\n",
       "      <th>V1</th>\n",
       "      <th>V2</th>\n",
       "      <th>V3</th>\n",
       "      <th>V4</th>\n",
       "      <th>V5</th>\n",
       "      <th>V6</th>\n",
       "      <th>V7</th>\n",
       "      <th>V8</th>\n",
       "      <th>V9</th>\n",
       "      <th>...</th>\n",
       "      <th>V20</th>\n",
       "      <th>V21</th>\n",
       "      <th>V22</th>\n",
       "      <th>V23</th>\n",
       "      <th>V24</th>\n",
       "      <th>V25</th>\n",
       "      <th>V26</th>\n",
       "      <th>V27</th>\n",
       "      <th>V28</th>\n",
       "      <th>Amount</th>\n",
       "    </tr>\n",
       "  </thead>\n",
       "  <tbody>\n",
       "    <tr>\n",
       "      <th>0</th>\n",
       "      <td>0.0</td>\n",
       "      <td>2.074329</td>\n",
       "      <td>-0.129425</td>\n",
       "      <td>-1.137418</td>\n",
       "      <td>0.412846</td>\n",
       "      <td>-0.192638</td>\n",
       "      <td>-1.210144</td>\n",
       "      <td>0.110697</td>\n",
       "      <td>-0.263477</td>\n",
       "      <td>0.742144</td>\n",
       "      <td>...</td>\n",
       "      <td>-0.292969</td>\n",
       "      <td>-0.334701</td>\n",
       "      <td>-0.887840</td>\n",
       "      <td>0.336701</td>\n",
       "      <td>-0.110835</td>\n",
       "      <td>-0.291459</td>\n",
       "      <td>0.207733</td>\n",
       "      <td>-0.076576</td>\n",
       "      <td>-0.059577</td>\n",
       "      <td>1.98</td>\n",
       "    </tr>\n",
       "    <tr>\n",
       "      <th>1</th>\n",
       "      <td>0.0</td>\n",
       "      <td>1.998827</td>\n",
       "      <td>-1.250891</td>\n",
       "      <td>-0.520969</td>\n",
       "      <td>-0.894539</td>\n",
       "      <td>-1.122528</td>\n",
       "      <td>-0.270866</td>\n",
       "      <td>-1.029289</td>\n",
       "      <td>0.050198</td>\n",
       "      <td>-0.109948</td>\n",
       "      <td>...</td>\n",
       "      <td>0.065717</td>\n",
       "      <td>0.054848</td>\n",
       "      <td>-0.038367</td>\n",
       "      <td>0.133518</td>\n",
       "      <td>-0.461928</td>\n",
       "      <td>-0.465491</td>\n",
       "      <td>-0.464655</td>\n",
       "      <td>-0.009413</td>\n",
       "      <td>-0.038238</td>\n",
       "      <td>84.00</td>\n",
       "    </tr>\n",
       "    <tr>\n",
       "      <th>2</th>\n",
       "      <td>0.0</td>\n",
       "      <td>0.091535</td>\n",
       "      <td>1.004517</td>\n",
       "      <td>-0.223445</td>\n",
       "      <td>-0.435249</td>\n",
       "      <td>0.667548</td>\n",
       "      <td>-0.988351</td>\n",
       "      <td>0.948146</td>\n",
       "      <td>-0.084789</td>\n",
       "      <td>-0.042027</td>\n",
       "      <td>...</td>\n",
       "      <td>-0.021375</td>\n",
       "      <td>-0.326725</td>\n",
       "      <td>-0.803736</td>\n",
       "      <td>0.154495</td>\n",
       "      <td>0.951233</td>\n",
       "      <td>-0.506919</td>\n",
       "      <td>0.085046</td>\n",
       "      <td>0.224458</td>\n",
       "      <td>0.087356</td>\n",
       "      <td>2.69</td>\n",
       "    </tr>\n",
       "    <tr>\n",
       "      <th>3</th>\n",
       "      <td>0.0</td>\n",
       "      <td>1.979649</td>\n",
       "      <td>-0.184949</td>\n",
       "      <td>-1.064206</td>\n",
       "      <td>0.120125</td>\n",
       "      <td>-0.215238</td>\n",
       "      <td>-0.648829</td>\n",
       "      <td>-0.087826</td>\n",
       "      <td>-0.035367</td>\n",
       "      <td>0.885838</td>\n",
       "      <td>...</td>\n",
       "      <td>-0.340089</td>\n",
       "      <td>-0.095514</td>\n",
       "      <td>-0.079792</td>\n",
       "      <td>0.167701</td>\n",
       "      <td>-0.042939</td>\n",
       "      <td>0.000799</td>\n",
       "      <td>-0.096148</td>\n",
       "      <td>-0.057780</td>\n",
       "      <td>-0.073839</td>\n",
       "      <td>1.00</td>\n",
       "    </tr>\n",
       "    <tr>\n",
       "      <th>4</th>\n",
       "      <td>0.0</td>\n",
       "      <td>1.025898</td>\n",
       "      <td>-0.171827</td>\n",
       "      <td>1.203717</td>\n",
       "      <td>1.243900</td>\n",
       "      <td>-0.636572</td>\n",
       "      <td>1.099074</td>\n",
       "      <td>-0.938651</td>\n",
       "      <td>0.569239</td>\n",
       "      <td>0.692665</td>\n",
       "      <td>...</td>\n",
       "      <td>-0.203628</td>\n",
       "      <td>0.099157</td>\n",
       "      <td>0.608908</td>\n",
       "      <td>0.027901</td>\n",
       "      <td>-0.262813</td>\n",
       "      <td>0.257834</td>\n",
       "      <td>-0.252829</td>\n",
       "      <td>0.108338</td>\n",
       "      <td>0.021051</td>\n",
       "      <td>1.00</td>\n",
       "    </tr>\n",
       "  </tbody>\n",
       "</table>\n",
       "<p>5 rows × 30 columns</p>\n",
       "</div>"
      ],
      "text/plain": [
       "   Time        V1        V2        V3        V4        V5        V6        V7  \\\n",
       "0   0.0  2.074329 -0.129425 -1.137418  0.412846 -0.192638 -1.210144  0.110697   \n",
       "1   0.0  1.998827 -1.250891 -0.520969 -0.894539 -1.122528 -0.270866 -1.029289   \n",
       "2   0.0  0.091535  1.004517 -0.223445 -0.435249  0.667548 -0.988351  0.948146   \n",
       "3   0.0  1.979649 -0.184949 -1.064206  0.120125 -0.215238 -0.648829 -0.087826   \n",
       "4   0.0  1.025898 -0.171827  1.203717  1.243900 -0.636572  1.099074 -0.938651   \n",
       "\n",
       "         V8        V9  ...       V20       V21       V22       V23       V24  \\\n",
       "0 -0.263477  0.742144  ... -0.292969 -0.334701 -0.887840  0.336701 -0.110835   \n",
       "1  0.050198 -0.109948  ...  0.065717  0.054848 -0.038367  0.133518 -0.461928   \n",
       "2 -0.084789 -0.042027  ... -0.021375 -0.326725 -0.803736  0.154495  0.951233   \n",
       "3 -0.035367  0.885838  ... -0.340089 -0.095514 -0.079792  0.167701 -0.042939   \n",
       "4  0.569239  0.692665  ... -0.203628  0.099157  0.608908  0.027901 -0.262813   \n",
       "\n",
       "        V25       V26       V27       V28  Amount  \n",
       "0 -0.291459  0.207733 -0.076576 -0.059577    1.98  \n",
       "1 -0.465491 -0.464655 -0.009413 -0.038238   84.00  \n",
       "2 -0.506919  0.085046  0.224458  0.087356    2.69  \n",
       "3  0.000799 -0.096148 -0.057780 -0.073839    1.00  \n",
       "4  0.257834 -0.252829  0.108338  0.021051    1.00  \n",
       "\n",
       "[5 rows x 30 columns]"
      ]
     },
     "execution_count": 5,
     "metadata": {},
     "output_type": "execute_result"
    }
   ],
   "source": [
    "X_train1=X_train.copy()\n",
    "X_train=X_train.drop('id',axis=1)\n",
    "X_train.head()"
   ]
  },
  {
   "cell_type": "markdown",
   "id": "464005a4",
   "metadata": {
    "papermill": {
     "duration": 0.006873,
     "end_time": "2023-01-30T19:32:30.223392",
     "exception": false,
     "start_time": "2023-01-30T19:32:30.216519",
     "status": "completed"
    },
    "tags": []
   },
   "source": [
    "using mutual information to find the information gain needed"
   ]
  },
  {
   "cell_type": "code",
   "execution_count": 6,
   "id": "3ef9ddc3",
   "metadata": {
    "execution": {
     "iopub.execute_input": "2023-01-30T19:32:30.240011Z",
     "iopub.status.busy": "2023-01-30T19:32:30.238578Z",
     "iopub.status.idle": "2023-01-30T19:32:30.245111Z",
     "shell.execute_reply": "2023-01-30T19:32:30.243422Z"
    },
    "papermill": {
     "duration": 0.017274,
     "end_time": "2023-01-30T19:32:30.247616",
     "exception": false,
     "start_time": "2023-01-30T19:32:30.230342",
     "status": "completed"
    },
    "tags": []
   },
   "outputs": [
    {
     "name": "stdout",
     "output_type": "stream",
     "text": [
      "['Time', 'V1', 'V2', 'V3', 'V4', 'V5', 'V6', 'V7', 'V8', 'V9', 'V10', 'V11', 'V12', 'V13', 'V14', 'V15', 'V16', 'V17', 'V18', 'V19', 'V20', 'V21', 'V22', 'V23', 'V24', 'V25', 'V26', 'V27', 'V28', 'Amount']\n"
     ]
    }
   ],
   "source": [
    "discrete_features=list(X_train.columns)\n",
    "print(discrete_features)"
   ]
  },
  {
   "cell_type": "markdown",
   "id": "7e6a715b",
   "metadata": {
    "papermill": {
     "duration": 0.00769,
     "end_time": "2023-01-30T19:32:30.263062",
     "exception": false,
     "start_time": "2023-01-30T19:32:30.255372",
     "status": "completed"
    },
    "tags": []
   },
   "source": [
    "using mutual info classif to find the best features for training the target features"
   ]
  },
  {
   "cell_type": "code",
   "execution_count": 7,
   "id": "6d9a84df",
   "metadata": {
    "execution": {
     "iopub.execute_input": "2023-01-30T19:32:30.280056Z",
     "iopub.status.busy": "2023-01-30T19:32:30.279679Z",
     "iopub.status.idle": "2023-01-30T19:33:03.021084Z",
     "shell.execute_reply": "2023-01-30T19:33:03.019713Z"
    },
    "papermill": {
     "duration": 32.758461,
     "end_time": "2023-01-30T19:33:03.029262",
     "exception": false,
     "start_time": "2023-01-30T19:32:30.270801",
     "status": "completed"
    },
    "tags": []
   },
   "outputs": [
    {
     "data": {
      "text/plain": [
       "V14       0.001185\n",
       "V17       0.001135\n",
       "V2        0.000989\n",
       "V3        0.000956\n",
       "V21       0.000791\n",
       "V10       0.000788\n",
       "V7        0.000720\n",
       "V8        0.000694\n",
       "V11       0.000674\n",
       "Amount    0.000591\n",
       "V1        0.000590\n",
       "V4        0.000555\n",
       "V5        0.000544\n",
       "V18       0.000521\n",
       "V12       0.000490\n",
       "V6        0.000485\n",
       "V16       0.000477\n",
       "V20       0.000428\n",
       "V23       0.000405\n",
       "V27       0.000387\n",
       "V28       0.000385\n",
       "V9        0.000245\n",
       "V22       0.000232\n",
       "Time      0.000181\n",
       "V26       0.000085\n",
       "V25       0.000077\n",
       "V24       0.000070\n",
       "V13       0.000066\n",
       "V15       0.000053\n",
       "V19       0.000021\n",
       "Name: MI Scores, dtype: float64"
      ]
     },
     "execution_count": 7,
     "metadata": {},
     "output_type": "execute_result"
    }
   ],
   "source": [
    "from sklearn.feature_selection import mutual_info_classif\n",
    "\n",
    "def make_mi_scores(X_train,y_train):\n",
    "    mi_scores = mutual_info_classif(X_train,y_train)\n",
    "    mi_scores = pd.Series(mi_scores, name=\"MI Scores\", index=X_train.columns)\n",
    "    mi_scores = mi_scores.sort_values(ascending=False)\n",
    "    return mi_scores\n",
    "\n",
    "mi_scores = make_mi_scores(X_train,y_train)\n",
    "mi_scores"
   ]
  },
  {
   "cell_type": "markdown",
   "id": "6d9edc37",
   "metadata": {
    "papermill": {
     "duration": 0.006951,
     "end_time": "2023-01-30T19:33:03.043381",
     "exception": false,
     "start_time": "2023-01-30T19:33:03.036430",
     "status": "completed"
    },
    "tags": []
   },
   "source": [
    "lets try to plot all the mutual information scores and obtain a specific threshold "
   ]
  },
  {
   "cell_type": "code",
   "execution_count": 8,
   "id": "40fec898",
   "metadata": {
    "execution": {
     "iopub.execute_input": "2023-01-30T19:33:03.059484Z",
     "iopub.status.busy": "2023-01-30T19:33:03.059139Z",
     "iopub.status.idle": "2023-01-30T19:33:03.302051Z",
     "shell.execute_reply": "2023-01-30T19:33:03.300866Z"
    },
    "papermill": {
     "duration": 0.253573,
     "end_time": "2023-01-30T19:33:03.304104",
     "exception": false,
     "start_time": "2023-01-30T19:33:03.050531",
     "status": "completed"
    },
    "tags": []
   },
   "outputs": [
    {
     "data": {
      "text/plain": [
       "[<matplotlib.lines.Line2D at 0x7fbb14e8a690>]"
      ]
     },
     "execution_count": 8,
     "metadata": {},
     "output_type": "execute_result"
    },
    {
     "data": {
      "image/png": "[encoded data removed]",
      "text/plain": [
       "<Figure size 432x288 with 1 Axes>"
      ]
     },
     "metadata": {
      "needs_background": "light"
     },
     "output_type": "display_data"
    }
   ],
   "source": [
    "import matplotlib.pyplot as plt\n",
    "plt.plot(mi_scores.index,mi_scores)"
   ]
  },
  {
   "cell_type": "markdown",
   "id": "ecadcdc0",
   "metadata": {
    "papermill": {
     "duration": 0.007673,
     "end_time": "2023-01-30T19:33:03.319716",
     "exception": false,
     "start_time": "2023-01-30T19:33:03.312043",
     "status": "completed"
    },
    "tags": []
   },
   "source": [
    "lets select all features above the threshold of 0.001"
   ]
  },
  {
   "cell_type": "code",
   "execution_count": 9,
   "id": "526a61d1",
   "metadata": {
    "execution": {
     "iopub.execute_input": "2023-01-30T19:33:03.337287Z",
     "iopub.status.busy": "2023-01-30T19:33:03.336490Z",
     "iopub.status.idle": "2023-01-30T19:33:03.341315Z",
     "shell.execute_reply": "2023-01-30T19:33:03.340612Z"
    },
    "papermill": {
     "duration": 0.016211,
     "end_time": "2023-01-30T19:33:03.343554",
     "exception": false,
     "start_time": "2023-01-30T19:33:03.327343",
     "status": "completed"
    },
    "tags": []
   },
   "outputs": [],
   "source": [
    "threshold=0.0006\n",
    "feature=mi_scores\n",
    "# Find the indexes of the rows where the feature is greater than the threshold\n",
    "indexes = feature[feature > threshold].index"
   ]
  },
  {
   "cell_type": "code",
   "execution_count": 10,
   "id": "782f9d5e",
   "metadata": {
    "execution": {
     "iopub.execute_input": "2023-01-30T19:33:03.361725Z",
     "iopub.status.busy": "2023-01-30T19:33:03.360344Z",
     "iopub.status.idle": "2023-01-30T19:33:03.367489Z",
     "shell.execute_reply": "2023-01-30T19:33:03.365921Z"
    },
    "papermill": {
     "duration": 0.018872,
     "end_time": "2023-01-30T19:33:03.370396",
     "exception": false,
     "start_time": "2023-01-30T19:33:03.351524",
     "status": "completed"
    },
    "tags": []
   },
   "outputs": [
    {
     "name": "stdout",
     "output_type": "stream",
     "text": [
      "Index(['V14', 'V17', 'V2', 'V3', 'V21', 'V10', 'V7', 'V8', 'V11'], dtype='object')\n"
     ]
    }
   ],
   "source": [
    "print(indexes)"
   ]
  },
  {
   "cell_type": "markdown",
   "id": "19970236",
   "metadata": {
    "papermill": {
     "duration": 0.007678,
     "end_time": "2023-01-30T19:33:03.386233",
     "exception": false,
     "start_time": "2023-01-30T19:33:03.378555",
     "status": "completed"
    },
    "tags": []
   },
   "source": [
    "finding the final training dataset\""
   ]
  },
  {
   "cell_type": "code",
   "execution_count": 11,
   "id": "eaeded91",
   "metadata": {
    "execution": {
     "iopub.execute_input": "2023-01-30T19:33:03.404464Z",
     "iopub.status.busy": "2023-01-30T19:33:03.403064Z",
     "iopub.status.idle": "2023-01-30T19:33:03.416730Z",
     "shell.execute_reply": "2023-01-30T19:33:03.415027Z"
    },
    "papermill": {
     "duration": 0.025267,
     "end_time": "2023-01-30T19:33:03.419364",
     "exception": false,
     "start_time": "2023-01-30T19:33:03.394097",
     "status": "completed"
    },
    "tags": []
   },
   "outputs": [],
   "source": [
    "X_train_final=X_train[indexes]\n",
    "X_train_final.head()\n",
    "X_test_final=test_data[indexes]"
   ]
  },
  {
   "cell_type": "markdown",
   "id": "a2cdef4f",
   "metadata": {
    "papermill": {
     "duration": 0.007415,
     "end_time": "2023-01-30T19:33:03.434964",
     "exception": false,
     "start_time": "2023-01-30T19:33:03.427549",
     "status": "completed"
    },
    "tags": []
   },
   "source": [
    "scaling training and test data"
   ]
  },
  {
   "cell_type": "code",
   "execution_count": 12,
   "id": "37e8aab6",
   "metadata": {
    "execution": {
     "iopub.execute_input": "2023-01-30T19:33:03.452228Z",
     "iopub.status.busy": "2023-01-30T19:33:03.451873Z",
     "iopub.status.idle": "2023-01-30T19:33:03.480400Z",
     "shell.execute_reply": "2023-01-30T19:33:03.478557Z"
    },
    "papermill": {
     "duration": 0.040501,
     "end_time": "2023-01-30T19:33:03.483077",
     "exception": false,
     "start_time": "2023-01-30T19:33:03.442576",
     "status": "completed"
    },
    "tags": []
   },
   "outputs": [],
   "source": [
    "from sklearn.preprocessing import StandardScaler\n",
    "\n",
    "# create the scaler\n",
    "scaler = StandardScaler()\n",
    "\n",
    "# fit and transform the training data\n",
    "X_train_scaled = scaler.fit_transform(X_train_final)\n",
    "\n",
    "# convert the scaled data back to a pandas DataFrame\n",
    "X_train_scaled = pd.DataFrame(X_train_scaled, columns=X_train_final.columns)\n",
    "\n",
    "# transform the test data\n",
    "X_test_scaled = scaler.transform(X_test_final)\n",
    "\n",
    "# convert the scaled data back to a pandas DataFrame\n",
    "X_test_scaled = pd.DataFrame(X_test_scaled, columns=X_test_final.columns)"
   ]
  },
  {
   "cell_type": "markdown",
   "id": "d16fd4e0",
   "metadata": {
    "papermill": {
     "duration": 0.008158,
     "end_time": "2023-01-30T19:33:03.499989",
     "exception": false,
     "start_time": "2023-01-30T19:33:03.491831",
     "status": "completed"
    },
    "tags": []
   },
   "source": [
    "viewing the scaled datasets"
   ]
  },
  {
   "cell_type": "code",
   "execution_count": 13,
   "id": "f6051bee",
   "metadata": {
    "execution": {
     "iopub.execute_input": "2023-01-30T19:33:03.517531Z",
     "iopub.status.busy": "2023-01-30T19:33:03.517177Z",
     "iopub.status.idle": "2023-01-30T19:33:03.531299Z",
     "shell.execute_reply": "2023-01-30T19:33:03.530162Z"
    },
    "papermill": {
     "duration": 0.02575,
     "end_time": "2023-01-30T19:33:03.533851",
     "exception": false,
     "start_time": "2023-01-30T19:33:03.508101",
     "status": "completed"
    },
    "tags": []
   },
   "outputs": [
    {
     "data": {
      "text/html": [
       "<div>\n",
       "<style scoped>\n",
       "    .dataframe tbody tr th:only-of-type {\n",
       "        vertical-align: middle;\n",
       "    }\n",
       "\n",
       "    .dataframe tbody tr th {\n",
       "        vertical-align: top;\n",
       "    }\n",
       "\n",
       "    .dataframe thead th {\n",
       "        text-align: right;\n",
       "    }\n",
       "</style>\n",
       "<table border=\"1\" class=\"dataframe\">\n",
       "  <thead>\n",
       "    <tr style=\"text-align: right;\">\n",
       "      <th></th>\n",
       "      <th>V14</th>\n",
       "      <th>V17</th>\n",
       "      <th>V2</th>\n",
       "      <th>V3</th>\n",
       "      <th>V21</th>\n",
       "      <th>V10</th>\n",
       "      <th>V7</th>\n",
       "      <th>V8</th>\n",
       "      <th>V11</th>\n",
       "    </tr>\n",
       "  </thead>\n",
       "  <tbody>\n",
       "    <tr>\n",
       "      <th>0</th>\n",
       "      <td>0.542618</td>\n",
       "      <td>-0.496991</td>\n",
       "      <td>-0.153277</td>\n",
       "      <td>-1.526656</td>\n",
       "      <td>-0.718199</td>\n",
       "      <td>0.180730</td>\n",
       "      <td>0.292364</td>\n",
       "      <td>-0.576662</td>\n",
       "      <td>-1.252759</td>\n",
       "    </tr>\n",
       "    <tr>\n",
       "      <th>1</th>\n",
       "      <td>-0.264156</td>\n",
       "      <td>-0.419851</td>\n",
       "      <td>-1.120222</td>\n",
       "      <td>-0.982513</td>\n",
       "      <td>0.203208</td>\n",
       "      <td>1.154090</td>\n",
       "      <td>-1.102617</td>\n",
       "      <td>-0.138696</td>\n",
       "      <td>0.699288</td>\n",
       "    </tr>\n",
       "    <tr>\n",
       "      <th>2</th>\n",
       "      <td>-1.190660</td>\n",
       "      <td>0.800575</td>\n",
       "      <td>0.824427</td>\n",
       "      <td>-0.719888</td>\n",
       "      <td>-0.699333</td>\n",
       "      <td>-0.947362</td>\n",
       "      <td>1.317136</td>\n",
       "      <td>-0.327171</td>\n",
       "      <td>-0.542656</td>\n",
       "    </tr>\n",
       "    <tr>\n",
       "      <th>3</th>\n",
       "      <td>0.606976</td>\n",
       "      <td>-0.191776</td>\n",
       "      <td>-0.201150</td>\n",
       "      <td>-1.462031</td>\n",
       "      <td>-0.152446</td>\n",
       "      <td>0.039215</td>\n",
       "      <td>0.049435</td>\n",
       "      <td>-0.258165</td>\n",
       "      <td>0.495227</td>\n",
       "    </tr>\n",
       "    <tr>\n",
       "      <th>4</th>\n",
       "      <td>-0.186545</td>\n",
       "      <td>0.078138</td>\n",
       "      <td>-0.189836</td>\n",
       "      <td>0.539876</td>\n",
       "      <td>0.308014</td>\n",
       "      <td>-0.070249</td>\n",
       "      <td>-0.991706</td>\n",
       "      <td>0.586008</td>\n",
       "      <td>1.213209</td>\n",
       "    </tr>\n",
       "  </tbody>\n",
       "</table>\n",
       "</div>"
      ],
      "text/plain": [
       "        V14       V17        V2        V3       V21       V10        V7  \\\n",
       "0  0.542618 -0.496991 -0.153277 -1.526656 -0.718199  0.180730  0.292364   \n",
       "1 -0.264156 -0.419851 -1.120222 -0.982513  0.203208  1.154090 -1.102617   \n",
       "2 -1.190660  0.800575  0.824427 -0.719888 -0.699333 -0.947362  1.317136   \n",
       "3  0.606976 -0.191776 -0.201150 -1.462031 -0.152446  0.039215  0.049435   \n",
       "4 -0.186545  0.078138 -0.189836  0.539876  0.308014 -0.070249 -0.991706   \n",
       "\n",
       "         V8       V11  \n",
       "0 -0.576662 -1.252759  \n",
       "1 -0.138696  0.699288  \n",
       "2 -0.327171 -0.542656  \n",
       "3 -0.258165  0.495227  \n",
       "4  0.586008  1.213209  "
      ]
     },
     "execution_count": 13,
     "metadata": {},
     "output_type": "execute_result"
    }
   ],
   "source": [
    "X_train_scaled.head()"
   ]
  },
  {
   "cell_type": "code",
   "execution_count": 14,
   "id": "ac6100a6",
   "metadata": {
    "execution": {
     "iopub.execute_input": "2023-01-30T19:33:03.552661Z",
     "iopub.status.busy": "2023-01-30T19:33:03.552256Z",
     "iopub.status.idle": "2023-01-30T19:33:03.566846Z",
     "shell.execute_reply": "2023-01-30T19:33:03.565841Z"
    },
    "papermill": {
     "duration": 0.026299,
     "end_time": "2023-01-30T19:33:03.568703",
     "exception": false,
     "start_time": "2023-01-30T19:33:03.542404",
     "status": "completed"
    },
    "tags": []
   },
   "outputs": [
    {
     "data": {
      "text/html": [
       "<div>\n",
       "<style scoped>\n",
       "    .dataframe tbody tr th:only-of-type {\n",
       "        vertical-align: middle;\n",
       "    }\n",
       "\n",
       "    .dataframe tbody tr th {\n",
       "        vertical-align: top;\n",
       "    }\n",
       "\n",
       "    .dataframe thead th {\n",
       "        text-align: right;\n",
       "    }\n",
       "</style>\n",
       "<table border=\"1\" class=\"dataframe\">\n",
       "  <thead>\n",
       "    <tr style=\"text-align: right;\">\n",
       "      <th></th>\n",
       "      <th>V14</th>\n",
       "      <th>V17</th>\n",
       "      <th>V2</th>\n",
       "      <th>V3</th>\n",
       "      <th>V21</th>\n",
       "      <th>V10</th>\n",
       "      <th>V7</th>\n",
       "      <th>V8</th>\n",
       "      <th>V11</th>\n",
       "    </tr>\n",
       "  </thead>\n",
       "  <tbody>\n",
       "    <tr>\n",
       "      <th>0</th>\n",
       "      <td>-2.884393</td>\n",
       "      <td>1.701181</td>\n",
       "      <td>-0.638173</td>\n",
       "      <td>-1.675036</td>\n",
       "      <td>0.645192</td>\n",
       "      <td>0.316793</td>\n",
       "      <td>-0.974097</td>\n",
       "      <td>-0.240939</td>\n",
       "      <td>0.926044</td>\n",
       "    </tr>\n",
       "    <tr>\n",
       "      <th>1</th>\n",
       "      <td>-0.789088</td>\n",
       "      <td>0.179392</td>\n",
       "      <td>-1.491439</td>\n",
       "      <td>-1.005833</td>\n",
       "      <td>1.358501</td>\n",
       "      <td>0.636456</td>\n",
       "      <td>-1.841196</td>\n",
       "      <td>1.290116</td>\n",
       "      <td>0.123739</td>\n",
       "    </tr>\n",
       "    <tr>\n",
       "      <th>2</th>\n",
       "      <td>-0.742928</td>\n",
       "      <td>0.031310</td>\n",
       "      <td>-1.396609</td>\n",
       "      <td>-0.733587</td>\n",
       "      <td>-0.237628</td>\n",
       "      <td>2.027176</td>\n",
       "      <td>-1.901407</td>\n",
       "      <td>-0.061323</td>\n",
       "      <td>0.458077</td>\n",
       "    </tr>\n",
       "    <tr>\n",
       "      <th>3</th>\n",
       "      <td>-0.406968</td>\n",
       "      <td>0.090593</td>\n",
       "      <td>-0.880542</td>\n",
       "      <td>-2.233562</td>\n",
       "      <td>-0.116021</td>\n",
       "      <td>-1.442818</td>\n",
       "      <td>0.466362</td>\n",
       "      <td>-0.766985</td>\n",
       "      <td>-1.047143</td>\n",
       "    </tr>\n",
       "    <tr>\n",
       "      <th>4</th>\n",
       "      <td>0.329516</td>\n",
       "      <td>-1.287038</td>\n",
       "      <td>-1.480516</td>\n",
       "      <td>-0.201699</td>\n",
       "      <td>0.270717</td>\n",
       "      <td>-0.367594</td>\n",
       "      <td>0.205497</td>\n",
       "      <td>-0.277054</td>\n",
       "      <td>0.325501</td>\n",
       "    </tr>\n",
       "  </tbody>\n",
       "</table>\n",
       "</div>"
      ],
      "text/plain": [
       "        V14       V17        V2        V3       V21       V10        V7  \\\n",
       "0 -2.884393  1.701181 -0.638173 -1.675036  0.645192  0.316793 -0.974097   \n",
       "1 -0.789088  0.179392 -1.491439 -1.005833  1.358501  0.636456 -1.841196   \n",
       "2 -0.742928  0.031310 -1.396609 -0.733587 -0.237628  2.027176 -1.901407   \n",
       "3 -0.406968  0.090593 -0.880542 -2.233562 -0.116021 -1.442818  0.466362   \n",
       "4  0.329516 -1.287038 -1.480516 -0.201699  0.270717 -0.367594  0.205497   \n",
       "\n",
       "         V8       V11  \n",
       "0 -0.240939  0.926044  \n",
       "1  1.290116  0.123739  \n",
       "2 -0.061323  0.458077  \n",
       "3 -0.766985 -1.047143  \n",
       "4 -0.277054  0.325501  "
      ]
     },
     "execution_count": 14,
     "metadata": {},
     "output_type": "execute_result"
    }
   ],
   "source": [
    "X_test_scaled.head()"
   ]
  },
  {
   "cell_type": "markdown",
   "id": "6ac6ef1a",
   "metadata": {
    "papermill": {
     "duration": 0.007687,
     "end_time": "2023-01-30T19:33:03.584691",
     "exception": false,
     "start_time": "2023-01-30T19:33:03.577004",
     "status": "completed"
    },
    "tags": []
   },
   "source": [
    "importing catboost"
   ]
  },
  {
   "cell_type": "code",
   "execution_count": 15,
   "id": "e5e25c16",
   "metadata": {
    "execution": {
     "iopub.execute_input": "2023-01-30T19:33:03.602410Z",
     "iopub.status.busy": "2023-01-30T19:33:03.602048Z",
     "iopub.status.idle": "2023-01-30T19:33:03.984370Z",
     "shell.execute_reply": "2023-01-30T19:33:03.983106Z"
    },
    "papermill": {
     "duration": 0.394304,
     "end_time": "2023-01-30T19:33:03.987042",
     "exception": false,
     "start_time": "2023-01-30T19:33:03.592738",
     "status": "completed"
    },
    "tags": []
   },
   "outputs": [],
   "source": [
    "from catboost import CatBoostClassifier\n"
   ]
  },
  {
   "cell_type": "markdown",
   "id": "22be34d6",
   "metadata": {
    "papermill": {
     "duration": 0.008116,
     "end_time": "2023-01-30T19:33:04.003623",
     "exception": false,
     "start_time": "2023-01-30T19:33:03.995507",
     "status": "completed"
    },
    "tags": []
   },
   "source": [
    "defining a classifier model"
   ]
  },
  {
   "cell_type": "code",
   "execution_count": 16,
   "id": "edfcc759",
   "metadata": {
    "execution": {
     "iopub.execute_input": "2023-01-30T19:33:04.021928Z",
     "iopub.status.busy": "2023-01-30T19:33:04.021310Z",
     "iopub.status.idle": "2023-01-30T19:33:04.029112Z",
     "shell.execute_reply": "2023-01-30T19:33:04.028205Z"
    },
    "papermill": {
     "duration": 0.019072,
     "end_time": "2023-01-30T19:33:04.030889",
     "exception": false,
     "start_time": "2023-01-30T19:33:04.011817",
     "status": "completed"
    },
    "tags": []
   },
   "outputs": [],
   "source": [
    "model_cbc=CatBoostClassifier(iterations=100,random_state=42,eval_metric='AUC')"
   ]
  },
  {
   "cell_type": "code",
   "execution_count": 17,
   "id": "f7fcdf0c",
   "metadata": {
    "execution": {
     "iopub.execute_input": "2023-01-30T19:33:04.049144Z",
     "iopub.status.busy": "2023-01-30T19:33:04.048809Z",
     "iopub.status.idle": "2023-01-30T19:33:05.929003Z",
     "shell.execute_reply": "2023-01-30T19:33:05.926698Z"
    },
    "papermill": {
     "duration": 1.891709,
     "end_time": "2023-01-30T19:33:05.930964",
     "exception": false,
     "start_time": "2023-01-30T19:33:04.039255",
     "status": "completed"
    },
    "scrolled": true,
    "tags": []
   },
   "outputs": [
    {
     "name": "stdout",
     "output_type": "stream",
     "text": [
      "Learning rate set to 0.5\n",
      "0:\ttotal: 79.9ms\tremaining: 7.91s\n",
      "1:\ttotal: 104ms\tremaining: 5.11s\n",
      "2:\ttotal: 121ms\tremaining: 3.91s\n",
      "3:\ttotal: 144ms\tremaining: 3.46s\n",
      "4:\ttotal: 164ms\tremaining: 3.11s\n",
      "5:\ttotal: 185ms\tremaining: 2.89s\n",
      "6:\ttotal: 201ms\tremaining: 2.68s\n",
      "7:\ttotal: 217ms\tremaining: 2.5s\n",
      "8:\ttotal: 231ms\tremaining: 2.34s\n",
      "9:\ttotal: 247ms\tremaining: 2.22s\n",
      "10:\ttotal: 261ms\tremaining: 2.11s\n",
      "11:\ttotal: 278ms\tremaining: 2.04s\n",
      "12:\ttotal: 293ms\tremaining: 1.96s\n",
      "13:\ttotal: 308ms\tremaining: 1.89s\n",
      "14:\ttotal: 322ms\tremaining: 1.82s\n",
      "15:\ttotal: 337ms\tremaining: 1.77s\n",
      "16:\ttotal: 351ms\tremaining: 1.71s\n",
      "17:\ttotal: 368ms\tremaining: 1.67s\n",
      "18:\ttotal: 388ms\tremaining: 1.65s\n",
      "19:\ttotal: 404ms\tremaining: 1.61s\n",
      "20:\ttotal: 417ms\tremaining: 1.57s\n",
      "21:\ttotal: 432ms\tremaining: 1.53s\n",
      "22:\ttotal: 448ms\tremaining: 1.5s\n",
      "23:\ttotal: 463ms\tremaining: 1.47s\n",
      "24:\ttotal: 477ms\tremaining: 1.43s\n",
      "25:\ttotal: 492ms\tremaining: 1.4s\n",
      "26:\ttotal: 507ms\tremaining: 1.37s\n",
      "27:\ttotal: 522ms\tremaining: 1.34s\n",
      "28:\ttotal: 535ms\tremaining: 1.31s\n",
      "29:\ttotal: 549ms\tremaining: 1.28s\n",
      "30:\ttotal: 564ms\tremaining: 1.25s\n",
      "31:\ttotal: 578ms\tremaining: 1.23s\n",
      "32:\ttotal: 594ms\tremaining: 1.21s\n",
      "33:\ttotal: 609ms\tremaining: 1.18s\n",
      "34:\ttotal: 622ms\tremaining: 1.16s\n",
      "35:\ttotal: 637ms\tremaining: 1.13s\n",
      "36:\ttotal: 652ms\tremaining: 1.11s\n",
      "37:\ttotal: 667ms\tremaining: 1.09s\n",
      "38:\ttotal: 682ms\tremaining: 1.07s\n",
      "39:\ttotal: 699ms\tremaining: 1.05s\n",
      "40:\ttotal: 716ms\tremaining: 1.03s\n",
      "41:\ttotal: 731ms\tremaining: 1.01s\n",
      "42:\ttotal: 748ms\tremaining: 991ms\n",
      "43:\ttotal: 762ms\tremaining: 970ms\n",
      "44:\ttotal: 776ms\tremaining: 949ms\n",
      "45:\ttotal: 790ms\tremaining: 928ms\n",
      "46:\ttotal: 807ms\tremaining: 910ms\n",
      "47:\ttotal: 823ms\tremaining: 892ms\n",
      "48:\ttotal: 838ms\tremaining: 872ms\n",
      "49:\ttotal: 852ms\tremaining: 852ms\n",
      "50:\ttotal: 864ms\tremaining: 830ms\n",
      "51:\ttotal: 878ms\tremaining: 810ms\n",
      "52:\ttotal: 893ms\tremaining: 792ms\n",
      "53:\ttotal: 908ms\tremaining: 773ms\n",
      "54:\ttotal: 921ms\tremaining: 754ms\n",
      "55:\ttotal: 938ms\tremaining: 737ms\n",
      "56:\ttotal: 954ms\tremaining: 719ms\n",
      "57:\ttotal: 971ms\tremaining: 703ms\n",
      "58:\ttotal: 986ms\tremaining: 685ms\n",
      "59:\ttotal: 1s\tremaining: 669ms\n",
      "60:\ttotal: 1.02s\tremaining: 653ms\n",
      "61:\ttotal: 1.04s\tremaining: 640ms\n",
      "62:\ttotal: 1.06s\tremaining: 623ms\n",
      "63:\ttotal: 1.08s\tremaining: 606ms\n",
      "64:\ttotal: 1.09s\tremaining: 590ms\n",
      "65:\ttotal: 1.11s\tremaining: 573ms\n",
      "66:\ttotal: 1.13s\tremaining: 555ms\n",
      "67:\ttotal: 1.14s\tremaining: 539ms\n",
      "68:\ttotal: 1.16s\tremaining: 521ms\n",
      "69:\ttotal: 1.17s\tremaining: 503ms\n",
      "70:\ttotal: 1.19s\tremaining: 485ms\n",
      "71:\ttotal: 1.2s\tremaining: 468ms\n",
      "72:\ttotal: 1.22s\tremaining: 450ms\n",
      "73:\ttotal: 1.23s\tremaining: 433ms\n",
      "74:\ttotal: 1.25s\tremaining: 416ms\n",
      "75:\ttotal: 1.26s\tremaining: 399ms\n",
      "76:\ttotal: 1.28s\tremaining: 383ms\n",
      "77:\ttotal: 1.3s\tremaining: 366ms\n",
      "78:\ttotal: 1.31s\tremaining: 349ms\n",
      "79:\ttotal: 1.33s\tremaining: 332ms\n",
      "80:\ttotal: 1.34s\tremaining: 315ms\n",
      "81:\ttotal: 1.36s\tremaining: 298ms\n",
      "82:\ttotal: 1.37s\tremaining: 281ms\n",
      "83:\ttotal: 1.39s\tremaining: 264ms\n",
      "84:\ttotal: 1.4s\tremaining: 248ms\n",
      "85:\ttotal: 1.42s\tremaining: 231ms\n",
      "86:\ttotal: 1.43s\tremaining: 214ms\n",
      "87:\ttotal: 1.45s\tremaining: 198ms\n",
      "88:\ttotal: 1.46s\tremaining: 181ms\n",
      "89:\ttotal: 1.48s\tremaining: 164ms\n",
      "90:\ttotal: 1.49s\tremaining: 148ms\n",
      "91:\ttotal: 1.51s\tremaining: 131ms\n",
      "92:\ttotal: 1.52s\tremaining: 115ms\n",
      "93:\ttotal: 1.54s\tremaining: 98.2ms\n",
      "94:\ttotal: 1.55s\tremaining: 81.8ms\n",
      "95:\ttotal: 1.57s\tremaining: 65.4ms\n",
      "96:\ttotal: 1.59s\tremaining: 49.1ms\n",
      "97:\ttotal: 1.6s\tremaining: 32.7ms\n",
      "98:\ttotal: 1.62s\tremaining: 16.3ms\n",
      "99:\ttotal: 1.63s\tremaining: 0us\n"
     ]
    },
    {
     "data": {
      "text/plain": [
       "<catboost.core.CatBoostClassifier at 0x7fbaae0d1610>"
      ]
     },
     "execution_count": 17,
     "metadata": {},
     "output_type": "execute_result"
    }
   ],
   "source": [
    "model_cbc.fit(X_train_scaled,y_train)"
   ]
  },
  {
   "cell_type": "markdown",
   "id": "8ab1b909",
   "metadata": {
    "papermill": {
     "duration": 0.008521,
     "end_time": "2023-01-30T19:33:05.948585",
     "exception": false,
     "start_time": "2023-01-30T19:33:05.940064",
     "status": "completed"
    },
    "tags": []
   },
   "source": [
    "predicting values using the fitted model"
   ]
  },
  {
   "cell_type": "code",
   "execution_count": 18,
   "id": "999fcc71",
   "metadata": {
    "execution": {
     "iopub.execute_input": "2023-01-30T19:33:05.968247Z",
     "iopub.status.busy": "2023-01-30T19:33:05.967830Z",
     "iopub.status.idle": "2023-01-30T19:33:06.017150Z",
     "shell.execute_reply": "2023-01-30T19:33:06.015986Z"
    },
    "papermill": {
     "duration": 0.062114,
     "end_time": "2023-01-30T19:33:06.019652",
     "exception": false,
     "start_time": "2023-01-30T19:33:05.957538",
     "status": "completed"
    },
    "tags": []
   },
   "outputs": [],
   "source": [
    "pred=model_cbc.predict(X_test_scaled)"
   ]
  },
  {
   "cell_type": "code",
   "execution_count": 19,
   "id": "c7e78ec9",
   "metadata": {
    "execution": {
     "iopub.execute_input": "2023-01-30T19:33:06.039335Z",
     "iopub.status.busy": "2023-01-30T19:33:06.038490Z",
     "iopub.status.idle": "2023-01-30T19:33:06.167187Z",
     "shell.execute_reply": "2023-01-30T19:33:06.166295Z"
    },
    "papermill": {
     "duration": 0.140488,
     "end_time": "2023-01-30T19:33:06.169084",
     "exception": false,
     "start_time": "2023-01-30T19:33:06.028596",
     "status": "completed"
    },
    "tags": []
   },
   "outputs": [
    {
     "name": "stdout",
     "output_type": "stream",
     "text": [
      "Submission successful\n"
     ]
    }
   ],
   "source": [
    "output=pd.DataFrame({'id':test_data['id'],'Class':pred})\n",
    "output.to_csv('submission.csv',index=False)\n",
    "print('Submission successful')"
   ]
  },
  {
   "cell_type": "code",
   "execution_count": 20,
   "id": "55e69252",
   "metadata": {
    "execution": {
     "iopub.execute_input": "2023-01-30T19:33:06.188920Z",
     "iopub.status.busy": "2023-01-30T19:33:06.187768Z",
     "iopub.status.idle": "2023-01-30T19:33:06.197159Z",
     "shell.execute_reply": "2023-01-30T19:33:06.196200Z"
    },
    "papermill": {
     "duration": 0.021379,
     "end_time": "2023-01-30T19:33:06.199282",
     "exception": false,
     "start_time": "2023-01-30T19:33:06.177903",
     "status": "completed"
    },
    "tags": []
   },
   "outputs": [
    {
     "data": {
      "text/html": [
       "<div>\n",
       "<style scoped>\n",
       "    .dataframe tbody tr th:only-of-type {\n",
       "        vertical-align: middle;\n",
       "    }\n",
       "\n",
       "    .dataframe tbody tr th {\n",
       "        vertical-align: top;\n",
       "    }\n",
       "\n",
       "    .dataframe thead th {\n",
       "        text-align: right;\n",
       "    }\n",
       "</style>\n",
       "<table border=\"1\" class=\"dataframe\">\n",
       "  <thead>\n",
       "    <tr style=\"text-align: right;\">\n",
       "      <th></th>\n",
       "      <th>id</th>\n",
       "      <th>Class</th>\n",
       "    </tr>\n",
       "  </thead>\n",
       "  <tbody>\n",
       "    <tr>\n",
       "      <th>0</th>\n",
       "      <td>219129</td>\n",
       "      <td>0</td>\n",
       "    </tr>\n",
       "    <tr>\n",
       "      <th>1</th>\n",
       "      <td>219130</td>\n",
       "      <td>0</td>\n",
       "    </tr>\n",
       "    <tr>\n",
       "      <th>2</th>\n",
       "      <td>219131</td>\n",
       "      <td>0</td>\n",
       "    </tr>\n",
       "    <tr>\n",
       "      <th>3</th>\n",
       "      <td>219132</td>\n",
       "      <td>0</td>\n",
       "    </tr>\n",
       "    <tr>\n",
       "      <th>4</th>\n",
       "      <td>219133</td>\n",
       "      <td>0</td>\n",
       "    </tr>\n",
       "  </tbody>\n",
       "</table>\n",
       "</div>"
      ],
      "text/plain": [
       "       id  Class\n",
       "0  219129      0\n",
       "1  219130      0\n",
       "2  219131      0\n",
       "3  219132      0\n",
       "4  219133      0"
      ]
     },
     "execution_count": 20,
     "metadata": {},
     "output_type": "execute_result"
    }
   ],
   "source": [
    "output.head()"
   ]
  },
  {
   "cell_type": "markdown",
   "id": "c83099db",
   "metadata": {
    "papermill": {
     "duration": 0.009356,
     "end_time": "2023-01-30T19:33:06.217622",
     "exception": false,
     "start_time": "2023-01-30T19:33:06.208266",
     "status": "completed"
    },
    "tags": []
   },
   "source": [
    "**first submission.**"
   ]
  },
  {
   "cell_type": "code",
   "execution_count": null,
   "id": "fa8db218",
   "metadata": {
    "papermill": {
     "duration": 0.008556,
     "end_time": "2023-01-30T19:33:06.235508",
     "exception": false,
     "start_time": "2023-01-30T19:33:06.226952",
     "status": "completed"
    },
    "tags": []
   },
   "outputs": [],
   "source": []
  }
 ],
 "metadata": {
  "kernelspec": {
   "display_name": "Python 3",
   "language": "python",
   "name": "python3"
  },
  "language_info": {
   "codemirror_mode": {
    "name": "ipython",
    "version": 3
   },
   "file_extension": ".py",
   "mimetype": "text/x-python",
   "name": "python",
   "nbconvert_exporter": "python",
   "pygments_lexer": "ipython3",
   "version": "3.7.12"
  },
  "papermill": {
   "default_parameters": {},
   "duration": 49.946299,
   "end_time": "2023-01-30T19:33:06.965425",
   "environment_variables": {},
   "exception": null,
   "input_path": "__notebook__.ipynb",
   "output_path": "__notebook__.ipynb",
   "parameters": {},
   "start_time": "2023-01-30T19:32:17.019126",
   "version": "2.3.4"
  }
 },
 "nbformat": 4,
 "nbformat_minor": 5
}
