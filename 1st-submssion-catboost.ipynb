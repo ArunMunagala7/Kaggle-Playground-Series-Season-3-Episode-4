{
 "cells": [
  {
   "cell_type": "code",
   "execution_count": 1,
   "id": "c9563575",
   "metadata": {
    "_cell_guid": "b1076dfc-b9ad-4769-8c92-a6c4dae69d19",
    "_uuid": "8f2839f25d086af736a60e9eeb907d3b93b6e0e5",
    "execution": {
     "iopub.execute_input": "2023-01-30T19:28:20.013944Z",
     "iopub.status.busy": "2023-01-30T19:28:20.013228Z",
     "iopub.status.idle": "2023-01-30T19:28:20.030481Z",
     "shell.execute_reply": "2023-01-30T19:28:20.029141Z"
    },
    "papermill": {
     "duration": 0.032192,
     "end_time": "2023-01-30T19:28:20.033508",
     "exception": false,
     "start_time": "2023-01-30T19:28:20.001316",
     "status": "completed"
    },
    "tags": []
   },
   "outputs": [
    {
     "name": "stdout",
     "output_type": "stream",
     "text": [
      "/kaggle/input/playground-series-s3e4/sample_submission.csv\n",
      "/kaggle/input/playground-series-s3e4/train.csv\n",
      "/kaggle/input/playground-series-s3e4/test.csv\n"
     ]
    }
   ],
   "source": [
    "# This Python 3 environment comes with many helpful analytics libraries installed\n",
    "# It is defined by the kaggle/python Docker image: https://github.com/kaggle/docker-python\n",
    "# For example, here's several helpful packages to load\n",
    "\n",
    "import numpy as np # linear algebra\n",
    "import pandas as pd # data processing, CSV file I/O (e.g. pd.read_csv)\n",
    "\n",
    "# Input data files are available in the read-only \"../input/\" directory\n",
    "# For example, running this (by clicking run or pressing Shift+Enter) will list all files under the input directory\n",
    "\n",
    "import os\n",
    "for dirname, _, filenames in os.walk('/kaggle/input'):\n",
    "    for filename in filenames:\n",
    "        print(os.path.join(dirname, filename))\n",
    "\n",
    "# You can write up to 20GB to the current directory (/kaggle/working/) that gets preserved as output when you create a version using \"Save & Run All\" \n",
    "# You can also write temporary files to /kaggle/temp/, but they won't be saved outside of the current session"
   ]
  },
  {
   "cell_type": "markdown",
   "id": "5586cd8a",
   "metadata": {
    "papermill": {
     "duration": 0.008005,
     "end_time": "2023-01-30T19:28:20.049760",
     "exception": false,
     "start_time": "2023-01-30T19:28:20.041755",
     "status": "completed"
    },
    "tags": []
   },
   "source": [
    "importing the necessary data"
   ]
  },
  {
   "cell_type": "code",
   "execution_count": 2,
   "id": "8eacf157",
   "metadata": {
    "execution": {
     "iopub.execute_input": "2023-01-30T19:28:20.068952Z",
     "iopub.status.busy": "2023-01-30T19:28:20.068546Z",
     "iopub.status.idle": "2023-01-30T19:28:27.085069Z",
     "shell.execute_reply": "2023-01-30T19:28:27.083737Z"
    },
    "papermill": {
     "duration": 7.029809,
     "end_time": "2023-01-30T19:28:27.088284",
     "exception": false,
     "start_time": "2023-01-30T19:28:20.058475",
     "status": "completed"
    },
    "tags": []
   },
   "outputs": [],
   "source": [
    "train_data=pd.read_csv('/kaggle/input/playground-series-s3e4/train.csv')\n",
    "test_data=pd.read_csv('/kaggle/input/playground-series-s3e4/test.csv')"
   ]
  },
  {
   "cell_type": "markdown",
   "id": "0a1a3718",
   "metadata": {
    "papermill": {
     "duration": 0.007414,
     "end_time": "2023-01-30T19:28:27.103706",
     "exception": false,
     "start_time": "2023-01-30T19:28:27.096292",
     "status": "completed"
    },
    "tags": []
   },
   "source": []
  },
  {
   "cell_type": "code",
   "execution_count": 3,
   "id": "40e69d1a",
   "metadata": {
    "execution": {
     "iopub.execute_input": "2023-01-30T19:28:27.121904Z",
     "iopub.status.busy": "2023-01-30T19:28:27.121169Z",
     "iopub.status.idle": "2023-01-30T19:28:27.194987Z",
     "shell.execute_reply": "2023-01-30T19:28:27.193514Z"
    },
    "papermill": {
     "duration": 0.08578,
     "end_time": "2023-01-30T19:28:27.197412",
     "exception": false,
     "start_time": "2023-01-30T19:28:27.111632",
     "status": "completed"
    },
    "tags": []
   },
   "outputs": [
    {
     "data": {
      "text/html": [
       "<div>\n",
       "<style scoped>\n",
       "    .dataframe tbody tr th:only-of-type {\n",
       "        vertical-align: middle;\n",
       "    }\n",
       "\n",
       "    .dataframe tbody tr th {\n",
       "        vertical-align: top;\n",
       "    }\n",
       "\n",
       "    .dataframe thead th {\n",
       "        text-align: right;\n",
       "    }\n",
       "</style>\n",
       "<table border=\"1\" class=\"dataframe\">\n",
       "  <thead>\n",
       "    <tr style=\"text-align: right;\">\n",
       "      <th></th>\n",
       "      <th>id</th>\n",
       "      <th>Time</th>\n",
       "      <th>V1</th>\n",
       "      <th>V2</th>\n",
       "      <th>V3</th>\n",
       "      <th>V4</th>\n",
       "      <th>V5</th>\n",
       "      <th>V6</th>\n",
       "      <th>V7</th>\n",
       "      <th>V8</th>\n",
       "      <th>...</th>\n",
       "      <th>V20</th>\n",
       "      <th>V21</th>\n",
       "      <th>V22</th>\n",
       "      <th>V23</th>\n",
       "      <th>V24</th>\n",
       "      <th>V25</th>\n",
       "      <th>V26</th>\n",
       "      <th>V27</th>\n",
       "      <th>V28</th>\n",
       "      <th>Amount</th>\n",
       "    </tr>\n",
       "  </thead>\n",
       "  <tbody>\n",
       "    <tr>\n",
       "      <th>0</th>\n",
       "      <td>0</td>\n",
       "      <td>0.0</td>\n",
       "      <td>2.074329</td>\n",
       "      <td>-0.129425</td>\n",
       "      <td>-1.137418</td>\n",
       "      <td>0.412846</td>\n",
       "      <td>-0.192638</td>\n",
       "      <td>-1.210144</td>\n",
       "      <td>0.110697</td>\n",
       "      <td>-0.263477</td>\n",
       "      <td>...</td>\n",
       "      <td>-0.292969</td>\n",
       "      <td>-0.334701</td>\n",
       "      <td>-0.887840</td>\n",
       "      <td>0.336701</td>\n",
       "      <td>-0.110835</td>\n",
       "      <td>-0.291459</td>\n",
       "      <td>0.207733</td>\n",
       "      <td>-0.076576</td>\n",
       "      <td>-0.059577</td>\n",
       "      <td>1.98</td>\n",
       "    </tr>\n",
       "    <tr>\n",
       "      <th>1</th>\n",
       "      <td>1</td>\n",
       "      <td>0.0</td>\n",
       "      <td>1.998827</td>\n",
       "      <td>-1.250891</td>\n",
       "      <td>-0.520969</td>\n",
       "      <td>-0.894539</td>\n",
       "      <td>-1.122528</td>\n",
       "      <td>-0.270866</td>\n",
       "      <td>-1.029289</td>\n",
       "      <td>0.050198</td>\n",
       "      <td>...</td>\n",
       "      <td>0.065717</td>\n",
       "      <td>0.054848</td>\n",
       "      <td>-0.038367</td>\n",
       "      <td>0.133518</td>\n",
       "      <td>-0.461928</td>\n",
       "      <td>-0.465491</td>\n",
       "      <td>-0.464655</td>\n",
       "      <td>-0.009413</td>\n",
       "      <td>-0.038238</td>\n",
       "      <td>84.00</td>\n",
       "    </tr>\n",
       "    <tr>\n",
       "      <th>2</th>\n",
       "      <td>2</td>\n",
       "      <td>0.0</td>\n",
       "      <td>0.091535</td>\n",
       "      <td>1.004517</td>\n",
       "      <td>-0.223445</td>\n",
       "      <td>-0.435249</td>\n",
       "      <td>0.667548</td>\n",
       "      <td>-0.988351</td>\n",
       "      <td>0.948146</td>\n",
       "      <td>-0.084789</td>\n",
       "      <td>...</td>\n",
       "      <td>-0.021375</td>\n",
       "      <td>-0.326725</td>\n",
       "      <td>-0.803736</td>\n",
       "      <td>0.154495</td>\n",
       "      <td>0.951233</td>\n",
       "      <td>-0.506919</td>\n",
       "      <td>0.085046</td>\n",
       "      <td>0.224458</td>\n",
       "      <td>0.087356</td>\n",
       "      <td>2.69</td>\n",
       "    </tr>\n",
       "    <tr>\n",
       "      <th>3</th>\n",
       "      <td>3</td>\n",
       "      <td>0.0</td>\n",
       "      <td>1.979649</td>\n",
       "      <td>-0.184949</td>\n",
       "      <td>-1.064206</td>\n",
       "      <td>0.120125</td>\n",
       "      <td>-0.215238</td>\n",
       "      <td>-0.648829</td>\n",
       "      <td>-0.087826</td>\n",
       "      <td>-0.035367</td>\n",
       "      <td>...</td>\n",
       "      <td>-0.340089</td>\n",
       "      <td>-0.095514</td>\n",
       "      <td>-0.079792</td>\n",
       "      <td>0.167701</td>\n",
       "      <td>-0.042939</td>\n",
       "      <td>0.000799</td>\n",
       "      <td>-0.096148</td>\n",
       "      <td>-0.057780</td>\n",
       "      <td>-0.073839</td>\n",
       "      <td>1.00</td>\n",
       "    </tr>\n",
       "    <tr>\n",
       "      <th>4</th>\n",
       "      <td>4</td>\n",
       "      <td>0.0</td>\n",
       "      <td>1.025898</td>\n",
       "      <td>-0.171827</td>\n",
       "      <td>1.203717</td>\n",
       "      <td>1.243900</td>\n",
       "      <td>-0.636572</td>\n",
       "      <td>1.099074</td>\n",
       "      <td>-0.938651</td>\n",
       "      <td>0.569239</td>\n",
       "      <td>...</td>\n",
       "      <td>-0.203628</td>\n",
       "      <td>0.099157</td>\n",
       "      <td>0.608908</td>\n",
       "      <td>0.027901</td>\n",
       "      <td>-0.262813</td>\n",
       "      <td>0.257834</td>\n",
       "      <td>-0.252829</td>\n",
       "      <td>0.108338</td>\n",
       "      <td>0.021051</td>\n",
       "      <td>1.00</td>\n",
       "    </tr>\n",
       "  </tbody>\n",
       "</table>\n",
       "<p>5 rows × 31 columns</p>\n",
       "</div>"
      ],
      "text/plain": [
       "   id  Time        V1        V2        V3        V4        V5        V6  \\\n",
       "0   0   0.0  2.074329 -0.129425 -1.137418  0.412846 -0.192638 -1.210144   \n",
       "1   1   0.0  1.998827 -1.250891 -0.520969 -0.894539 -1.122528 -0.270866   \n",
       "2   2   0.0  0.091535  1.004517 -0.223445 -0.435249  0.667548 -0.988351   \n",
       "3   3   0.0  1.979649 -0.184949 -1.064206  0.120125 -0.215238 -0.648829   \n",
       "4   4   0.0  1.025898 -0.171827  1.203717  1.243900 -0.636572  1.099074   \n",
       "\n",
       "         V7        V8  ...       V20       V21       V22       V23       V24  \\\n",
       "0  0.110697 -0.263477  ... -0.292969 -0.334701 -0.887840  0.336701 -0.110835   \n",
       "1 -1.029289  0.050198  ...  0.065717  0.054848 -0.038367  0.133518 -0.461928   \n",
       "2  0.948146 -0.084789  ... -0.021375 -0.326725 -0.803736  0.154495  0.951233   \n",
       "3 -0.087826 -0.035367  ... -0.340089 -0.095514 -0.079792  0.167701 -0.042939   \n",
       "4 -0.938651  0.569239  ... -0.203628  0.099157  0.608908  0.027901 -0.262813   \n",
       "\n",
       "        V25       V26       V27       V28  Amount  \n",
       "0 -0.291459  0.207733 -0.076576 -0.059577    1.98  \n",
       "1 -0.465491 -0.464655 -0.009413 -0.038238   84.00  \n",
       "2 -0.506919  0.085046  0.224458  0.087356    2.69  \n",
       "3  0.000799 -0.096148 -0.057780 -0.073839    1.00  \n",
       "4  0.257834 -0.252829  0.108338  0.021051    1.00  \n",
       "\n",
       "[5 rows x 31 columns]"
      ]
     },
     "execution_count": 3,
     "metadata": {},
     "output_type": "execute_result"
    }
   ],
   "source": [
    "X_train=train_data.drop('Class',axis=1)\n",
    "y_train=train_data['Class']\n",
    "X_train.head()"
   ]
  },
  {
   "cell_type": "code",
   "execution_count": 4,
   "id": "15669d07",
   "metadata": {
    "execution": {
     "iopub.execute_input": "2023-01-30T19:28:27.214647Z",
     "iopub.status.busy": "2023-01-30T19:28:27.214183Z",
     "iopub.status.idle": "2023-01-30T19:28:27.224717Z",
     "shell.execute_reply": "2023-01-30T19:28:27.223834Z"
    },
    "papermill": {
     "duration": 0.021683,
     "end_time": "2023-01-30T19:28:27.226928",
     "exception": false,
     "start_time": "2023-01-30T19:28:27.205245",
     "status": "completed"
    },
    "tags": []
   },
   "outputs": [
    {
     "data": {
      "text/plain": [
       "0    0\n",
       "1    0\n",
       "2    0\n",
       "3    0\n",
       "4    0\n",
       "Name: Class, dtype: int64"
      ]
     },
     "execution_count": 4,
     "metadata": {},
     "output_type": "execute_result"
    }
   ],
   "source": [
    "y_train.head()"
   ]
  },
  {
   "cell_type": "markdown",
   "id": "83e3c8ab",
   "metadata": {
    "papermill": {
     "duration": 0.007788,
     "end_time": "2023-01-30T19:28:27.243064",
     "exception": false,
     "start_time": "2023-01-30T19:28:27.235276",
     "status": "completed"
    },
    "tags": []
   },
   "source": [
    "dropping id for the training"
   ]
  },
  {
   "cell_type": "code",
   "execution_count": 5,
   "id": "194d47d4",
   "metadata": {
    "execution": {
     "iopub.execute_input": "2023-01-30T19:28:27.262774Z",
     "iopub.status.busy": "2023-01-30T19:28:27.262090Z",
     "iopub.status.idle": "2023-01-30T19:28:27.343648Z",
     "shell.execute_reply": "2023-01-30T19:28:27.342827Z"
    },
    "papermill": {
     "duration": 0.093403,
     "end_time": "2023-01-30T19:28:27.345977",
     "exception": false,
     "start_time": "2023-01-30T19:28:27.252574",
     "status": "completed"
    },
    "tags": []
   },
   "outputs": [
    {
     "data": {
      "text/html": [
       "<div>\n",
       "<style scoped>\n",
       "    .dataframe tbody tr th:only-of-type {\n",
       "        vertical-align: middle;\n",
       "    }\n",
       "\n",
       "    .dataframe tbody tr th {\n",
       "        vertical-align: top;\n",
       "    }\n",
       "\n",
       "    .dataframe thead th {\n",
       "        text-align: right;\n",
       "    }\n",
       "</style>\n",
       "<table border=\"1\" class=\"dataframe\">\n",
       "  <thead>\n",
       "    <tr style=\"text-align: right;\">\n",
       "      <th></th>\n",
       "      <th>Time</th>\n",
       "      <th>V1</th>\n",
       "      <th>V2</th>\n",
       "      <th>V3</th>\n",
       "      <th>V4</th>\n",
       "      <th>V5</th>\n",
       "      <th>V6</th>\n",
       "      <th>V7</th>\n",
       "      <th>V8</th>\n",
       "      <th>V9</th>\n",
       "      <th>...</th>\n",
       "      <th>V20</th>\n",
       "      <th>V21</th>\n",
       "      <th>V22</th>\n",
       "      <th>V23</th>\n",
       "      <th>V24</th>\n",
       "      <th>V25</th>\n",
       "      <th>V26</th>\n",
       "      <th>V27</th>\n",
       "      <th>V28</th>\n",
       "      <th>Amount</th>\n",
       "    </tr>\n",
       "  </thead>\n",
       "  <tbody>\n",
       "    <tr>\n",
       "      <th>0</th>\n",
       "      <td>0.0</td>\n",
       "      <td>2.074329</td>\n",
       "      <td>-0.129425</td>\n",
       "      <td>-1.137418</td>\n",
       "      <td>0.412846</td>\n",
       "      <td>-0.192638</td>\n",
       "      <td>-1.210144</td>\n",
       "      <td>0.110697</td>\n",
       "      <td>-0.263477</td>\n",
       "      <td>0.742144</td>\n",
       "      <td>...</td>\n",
       "      <td>-0.292969</td>\n",
       "      <td>-0.334701</td>\n",
       "      <td>-0.887840</td>\n",
       "      <td>0.336701</td>\n",
       "      <td>-0.110835</td>\n",
       "      <td>-0.291459</td>\n",
       "      <td>0.207733</td>\n",
       "      <td>-0.076576</td>\n",
       "      <td>-0.059577</td>\n",
       "      <td>1.98</td>\n",
       "    </tr>\n",
       "    <tr>\n",
       "      <th>1</th>\n",
       "      <td>0.0</td>\n",
       "      <td>1.998827</td>\n",
       "      <td>-1.250891</td>\n",
       "      <td>-0.520969</td>\n",
       "      <td>-0.894539</td>\n",
       "      <td>-1.122528</td>\n",
       "      <td>-0.270866</td>\n",
       "      <td>-1.029289</td>\n",
       "      <td>0.050198</td>\n",
       "      <td>-0.109948</td>\n",
       "      <td>...</td>\n",
       "      <td>0.065717</td>\n",
       "      <td>0.054848</td>\n",
       "      <td>-0.038367</td>\n",
       "      <td>0.133518</td>\n",
       "      <td>-0.461928</td>\n",
       "      <td>-0.465491</td>\n",
       "      <td>-0.464655</td>\n",
       "      <td>-0.009413</td>\n",
       "      <td>-0.038238</td>\n",
       "      <td>84.00</td>\n",
       "    </tr>\n",
       "    <tr>\n",
       "      <th>2</th>\n",
       "      <td>0.0</td>\n",
       "      <td>0.091535</td>\n",
       "      <td>1.004517</td>\n",
       "      <td>-0.223445</td>\n",
       "      <td>-0.435249</td>\n",
       "      <td>0.667548</td>\n",
       "      <td>-0.988351</td>\n",
       "      <td>0.948146</td>\n",
       "      <td>-0.084789</td>\n",
       "      <td>-0.042027</td>\n",
       "      <td>...</td>\n",
       "      <td>-0.021375</td>\n",
       "      <td>-0.326725</td>\n",
       "      <td>-0.803736</td>\n",
       "      <td>0.154495</td>\n",
       "      <td>0.951233</td>\n",
       "      <td>-0.506919</td>\n",
       "      <td>0.085046</td>\n",
       "      <td>0.224458</td>\n",
       "      <td>0.087356</td>\n",
       "      <td>2.69</td>\n",
       "    </tr>\n",
       "    <tr>\n",
       "      <th>3</th>\n",
       "      <td>0.0</td>\n",
       "      <td>1.979649</td>\n",
       "      <td>-0.184949</td>\n",
       "      <td>-1.064206</td>\n",
       "      <td>0.120125</td>\n",
       "      <td>-0.215238</td>\n",
       "      <td>-0.648829</td>\n",
       "      <td>-0.087826</td>\n",
       "      <td>-0.035367</td>\n",
       "      <td>0.885838</td>\n",
       "      <td>...</td>\n",
       "      <td>-0.340089</td>\n",
       "      <td>-0.095514</td>\n",
       "      <td>-0.079792</td>\n",
       "      <td>0.167701</td>\n",
       "      <td>-0.042939</td>\n",
       "      <td>0.000799</td>\n",
       "      <td>-0.096148</td>\n",
       "      <td>-0.057780</td>\n",
       "      <td>-0.073839</td>\n",
       "      <td>1.00</td>\n",
       "    </tr>\n",
       "    <tr>\n",
       "      <th>4</th>\n",
       "      <td>0.0</td>\n",
       "      <td>1.025898</td>\n",
       "      <td>-0.171827</td>\n",
       "      <td>1.203717</td>\n",
       "      <td>1.243900</td>\n",
       "      <td>-0.636572</td>\n",
       "      <td>1.099074</td>\n",
       "      <td>-0.938651</td>\n",
       "      <td>0.569239</td>\n",
       "      <td>0.692665</td>\n",
       "      <td>...</td>\n",
       "      <td>-0.203628</td>\n",
       "      <td>0.099157</td>\n",
       "      <td>0.608908</td>\n",
       "      <td>0.027901</td>\n",
       "      <td>-0.262813</td>\n",
       "      <td>0.257834</td>\n",
       "      <td>-0.252829</td>\n",
       "      <td>0.108338</td>\n",
       "      <td>0.021051</td>\n",
       "      <td>1.00</td>\n",
       "    </tr>\n",
       "  </tbody>\n",
       "</table>\n",
       "<p>5 rows × 30 columns</p>\n",
       "</div>"
      ],
      "text/plain": [
       "   Time        V1        V2        V3        V4        V5        V6        V7  \\\n",
       "0   0.0  2.074329 -0.129425 -1.137418  0.412846 -0.192638 -1.210144  0.110697   \n",
       "1   0.0  1.998827 -1.250891 -0.520969 -0.894539 -1.122528 -0.270866 -1.029289   \n",
       "2   0.0  0.091535  1.004517 -0.223445 -0.435249  0.667548 -0.988351  0.948146   \n",
       "3   0.0  1.979649 -0.184949 -1.064206  0.120125 -0.215238 -0.648829 -0.087826   \n",
       "4   0.0  1.025898 -0.171827  1.203717  1.243900 -0.636572  1.099074 -0.938651   \n",
       "\n",
       "         V8        V9  ...       V20       V21       V22       V23       V24  \\\n",
       "0 -0.263477  0.742144  ... -0.292969 -0.334701 -0.887840  0.336701 -0.110835   \n",
       "1  0.050198 -0.109948  ...  0.065717  0.054848 -0.038367  0.133518 -0.461928   \n",
       "2 -0.084789 -0.042027  ... -0.021375 -0.326725 -0.803736  0.154495  0.951233   \n",
       "3 -0.035367  0.885838  ... -0.340089 -0.095514 -0.079792  0.167701 -0.042939   \n",
       "4  0.569239  0.692665  ... -0.203628  0.099157  0.608908  0.027901 -0.262813   \n",
       "\n",
       "        V25       V26       V27       V28  Amount  \n",
       "0 -0.291459  0.207733 -0.076576 -0.059577    1.98  \n",
       "1 -0.465491 -0.464655 -0.009413 -0.038238   84.00  \n",
       "2 -0.506919  0.085046  0.224458  0.087356    2.69  \n",
       "3  0.000799 -0.096148 -0.057780 -0.073839    1.00  \n",
       "4  0.257834 -0.252829  0.108338  0.021051    1.00  \n",
       "\n",
       "[5 rows x 30 columns]"
      ]
     },
     "execution_count": 5,
     "metadata": {},
     "output_type": "execute_result"
    }
   ],
   "source": [
    "X_train1=X_train.copy()\n",
    "X_train=X_train.drop('id',axis=1)\n",
    "X_train.head()"
   ]
  },
  {
   "cell_type": "markdown",
   "id": "ab3cb2f8",
   "metadata": {
    "papermill": {
     "duration": 0.008113,
     "end_time": "2023-01-30T19:28:27.362510",
     "exception": false,
     "start_time": "2023-01-30T19:28:27.354397",
     "status": "completed"
    },
    "tags": []
   },
   "source": [
    "using mutual information to find the information gain needed"
   ]
  },
  {
   "cell_type": "code",
   "execution_count": 6,
   "id": "a70ac5d7",
   "metadata": {
    "execution": {
     "iopub.execute_input": "2023-01-30T19:28:27.381494Z",
     "iopub.status.busy": "2023-01-30T19:28:27.380819Z",
     "iopub.status.idle": "2023-01-30T19:28:27.386394Z",
     "shell.execute_reply": "2023-01-30T19:28:27.385166Z"
    },
    "papermill": {
     "duration": 0.018199,
     "end_time": "2023-01-30T19:28:27.389211",
     "exception": false,
     "start_time": "2023-01-30T19:28:27.371012",
     "status": "completed"
    },
    "tags": []
   },
   "outputs": [
    {
     "name": "stdout",
     "output_type": "stream",
     "text": [
      "['Time', 'V1', 'V2', 'V3', 'V4', 'V5', 'V6', 'V7', 'V8', 'V9', 'V10', 'V11', 'V12', 'V13', 'V14', 'V15', 'V16', 'V17', 'V18', 'V19', 'V20', 'V21', 'V22', 'V23', 'V24', 'V25', 'V26', 'V27', 'V28', 'Amount']\n"
     ]
    }
   ],
   "source": [
    "discrete_features=list(X_train.columns)\n",
    "print(discrete_features)"
   ]
  },
  {
   "cell_type": "markdown",
   "id": "f259b07e",
   "metadata": {
    "papermill": {
     "duration": 0.008024,
     "end_time": "2023-01-30T19:28:27.405929",
     "exception": false,
     "start_time": "2023-01-30T19:28:27.397905",
     "status": "completed"
    },
    "tags": []
   },
   "source": [
    "using mutual info classif to find the best features for training the target features"
   ]
  },
  {
   "cell_type": "code",
   "execution_count": 7,
   "id": "d2fae7fb",
   "metadata": {
    "execution": {
     "iopub.execute_input": "2023-01-30T19:28:27.425021Z",
     "iopub.status.busy": "2023-01-30T19:28:27.424587Z",
     "iopub.status.idle": "2023-01-30T19:29:11.708816Z",
     "shell.execute_reply": "2023-01-30T19:29:11.707717Z"
    },
    "papermill": {
     "duration": 44.305395,
     "end_time": "2023-01-30T19:29:11.719754",
     "exception": false,
     "start_time": "2023-01-30T19:28:27.414359",
     "status": "completed"
    },
    "tags": []
   },
   "outputs": [
    {
     "data": {
      "text/plain": [
       "V14       0.001186\n",
       "V17       0.001132\n",
       "V2        0.000984\n",
       "V3        0.000958\n",
       "V10       0.000792\n",
       "V21       0.000791\n",
       "Amount    0.000728\n",
       "V7        0.000719\n",
       "V8        0.000691\n",
       "V11       0.000672\n",
       "V1        0.000595\n",
       "V4        0.000546\n",
       "V5        0.000536\n",
       "V18       0.000521\n",
       "V12       0.000492\n",
       "V6        0.000485\n",
       "V16       0.000472\n",
       "V20       0.000424\n",
       "V23       0.000406\n",
       "V28       0.000388\n",
       "V27       0.000387\n",
       "V9        0.000247\n",
       "V22       0.000235\n",
       "Time      0.000214\n",
       "V26       0.000083\n",
       "V25       0.000077\n",
       "V24       0.000072\n",
       "V13       0.000071\n",
       "V15       0.000042\n",
       "V19       0.000034\n",
       "Name: MI Scores, dtype: float64"
      ]
     },
     "execution_count": 7,
     "metadata": {},
     "output_type": "execute_result"
    }
   ],
   "source": [
    "from sklearn.feature_selection import mutual_info_classif\n",
    "\n",
    "def make_mi_scores(X_train,y_train):\n",
    "    mi_scores = mutual_info_classif(X_train,y_train)\n",
    "    mi_scores = pd.Series(mi_scores, name=\"MI Scores\", index=X_train.columns)\n",
    "    mi_scores = mi_scores.sort_values(ascending=False)\n",
    "    return mi_scores\n",
    "\n",
    "mi_scores = make_mi_scores(X_train,y_train)\n",
    "mi_scores"
   ]
  },
  {
   "cell_type": "markdown",
   "id": "55bed81b",
   "metadata": {
    "papermill": {
     "duration": 0.008589,
     "end_time": "2023-01-30T19:29:11.737100",
     "exception": false,
     "start_time": "2023-01-30T19:29:11.728511",
     "status": "completed"
    },
    "tags": []
   },
   "source": [
    "lets try to plot all the mutual information scores and obtain a specific threshold "
   ]
  },
  {
   "cell_type": "code",
   "execution_count": 8,
   "id": "bad595f7",
   "metadata": {
    "execution": {
     "iopub.execute_input": "2023-01-30T19:29:11.757361Z",
     "iopub.status.busy": "2023-01-30T19:29:11.756951Z",
     "iopub.status.idle": "2023-01-30T19:29:12.067357Z",
     "shell.execute_reply": "2023-01-30T19:29:12.065765Z"
    },
    "papermill": {
     "duration": 0.323644,
     "end_time": "2023-01-30T19:29:12.069871",
     "exception": false,
     "start_time": "2023-01-30T19:29:11.746227",
     "status": "completed"
    },
    "tags": []
   },
   "outputs": [
    {
     "data": {
      "text/plain": [
       "[<matplotlib.lines.Line2D at 0x7f5ac73faf10>]"
      ]
     },
     "execution_count": 8,
     "metadata": {},
     "output_type": "execute_result"
    },
    {
     "data": {
      "image/png": "[encoded data removed]",
      "text/plain": [
       "<Figure size 432x288 with 1 Axes>"
      ]
     },
     "metadata": {
      "needs_background": "light"
     },
     "output_type": "display_data"
    }
   ],
   "source": [
    "import matplotlib.pyplot as plt\n",
    "plt.plot(mi_scores.index,mi_scores)"
   ]
  },
  {
   "cell_type": "markdown",
   "id": "27454e10",
   "metadata": {
    "papermill": {
     "duration": 0.008636,
     "end_time": "2023-01-30T19:29:12.087497",
     "exception": false,
     "start_time": "2023-01-30T19:29:12.078861",
     "status": "completed"
    },
    "tags": []
   },
   "source": [
    "lets select all features above the threshold of 0.001"
   ]
  },
  {
   "cell_type": "code",
   "execution_count": 9,
   "id": "935e3c33",
   "metadata": {
    "execution": {
     "iopub.execute_input": "2023-01-30T19:29:12.107464Z",
     "iopub.status.busy": "2023-01-30T19:29:12.106536Z",
     "iopub.status.idle": "2023-01-30T19:29:12.113674Z",
     "shell.execute_reply": "2023-01-30T19:29:12.112461Z"
    },
    "papermill": {
     "duration": 0.019898,
     "end_time": "2023-01-30T19:29:12.116100",
     "exception": false,
     "start_time": "2023-01-30T19:29:12.096202",
     "status": "completed"
    },
    "tags": []
   },
   "outputs": [],
   "source": [
    "threshold=0.0006\n",
    "feature=mi_scores\n",
    "# Find the indexes of the rows where the feature is greater than the threshold\n",
    "indexes = feature[feature > threshold].index"
   ]
  },
  {
   "cell_type": "code",
   "execution_count": 10,
   "id": "bcac5eaf",
   "metadata": {
    "execution": {
     "iopub.execute_input": "2023-01-30T19:29:12.135809Z",
     "iopub.status.busy": "2023-01-30T19:29:12.135356Z",
     "iopub.status.idle": "2023-01-30T19:29:12.142820Z",
     "shell.execute_reply": "2023-01-30T19:29:12.141165Z"
    },
    "papermill": {
     "duration": 0.020052,
     "end_time": "2023-01-30T19:29:12.145150",
     "exception": false,
     "start_time": "2023-01-30T19:29:12.125098",
     "status": "completed"
    },
    "tags": []
   },
   "outputs": [
    {
     "name": "stdout",
     "output_type": "stream",
     "text": [
      "Index(['V14', 'V17', 'V2', 'V3', 'V10', 'V21', 'Amount', 'V7', 'V8', 'V11'], dtype='object')\n"
     ]
    }
   ],
   "source": [
    "print(indexes)"
   ]
  },
  {
   "cell_type": "markdown",
   "id": "be5d4e94",
   "metadata": {
    "papermill": {
     "duration": 0.008606,
     "end_time": "2023-01-30T19:29:12.162645",
     "exception": false,
     "start_time": "2023-01-30T19:29:12.154039",
     "status": "completed"
    },
    "tags": []
   },
   "source": [
    "finding the final training dataset\""
   ]
  },
  {
   "cell_type": "code",
   "execution_count": 11,
   "id": "a261fd1c",
   "metadata": {
    "execution": {
     "iopub.execute_input": "2023-01-30T19:29:12.182059Z",
     "iopub.status.busy": "2023-01-30T19:29:12.181589Z",
     "iopub.status.idle": "2023-01-30T19:29:12.208420Z",
     "shell.execute_reply": "2023-01-30T19:29:12.206997Z"
    },
    "papermill": {
     "duration": 0.039669,
     "end_time": "2023-01-30T19:29:12.210983",
     "exception": false,
     "start_time": "2023-01-30T19:29:12.171314",
     "status": "completed"
    },
    "tags": []
   },
   "outputs": [],
   "source": [
    "X_train_final=X_train[indexes]\n",
    "X_train_final.head()\n",
    "X_test_final=test_data[indexes]"
   ]
  },
  {
   "cell_type": "markdown",
   "id": "dfd60b53",
   "metadata": {
    "papermill": {
     "duration": 0.008704,
     "end_time": "2023-01-30T19:29:12.229036",
     "exception": false,
     "start_time": "2023-01-30T19:29:12.220332",
     "status": "completed"
    },
    "tags": []
   },
   "source": [
    "scaling training and test data"
   ]
  },
  {
   "cell_type": "code",
   "execution_count": 12,
   "id": "f64ae596",
   "metadata": {
    "execution": {
     "iopub.execute_input": "2023-01-30T19:29:12.249033Z",
     "iopub.status.busy": "2023-01-30T19:29:12.248553Z",
     "iopub.status.idle": "2023-01-30T19:29:12.319961Z",
     "shell.execute_reply": "2023-01-30T19:29:12.318593Z"
    },
    "papermill": {
     "duration": 0.084746,
     "end_time": "2023-01-30T19:29:12.322741",
     "exception": false,
     "start_time": "2023-01-30T19:29:12.237995",
     "status": "completed"
    },
    "tags": []
   },
   "outputs": [],
   "source": [
    "from sklearn.preprocessing import StandardScaler\n",
    "\n",
    "# create the scaler\n",
    "scaler = StandardScaler()\n",
    "\n",
    "# fit and transform the training data\n",
    "X_train_scaled = scaler.fit_transform(X_train_final)\n",
    "\n",
    "# convert the scaled data back to a pandas DataFrame\n",
    "X_train_scaled = pd.DataFrame(X_train_scaled, columns=X_train_final.columns)\n",
    "\n",
    "# transform the test data\n",
    "X_test_scaled = scaler.transform(X_test_final)\n",
    "\n",
    "# convert the scaled data back to a pandas DataFrame\n",
    "X_test_scaled = pd.DataFrame(X_test_scaled, columns=X_test_final.columns)"
   ]
  },
  {
   "cell_type": "markdown",
   "id": "0ec116f7",
   "metadata": {
    "papermill": {
     "duration": 0.008588,
     "end_time": "2023-01-30T19:29:12.340209",
     "exception": false,
     "start_time": "2023-01-30T19:29:12.331621",
     "status": "completed"
    },
    "tags": []
   },
   "source": [
    "viewing the scaled datasets"
   ]
  },
  {
   "cell_type": "code",
   "execution_count": 13,
   "id": "ab87608f",
   "metadata": {
    "execution": {
     "iopub.execute_input": "2023-01-30T19:29:12.360046Z",
     "iopub.status.busy": "2023-01-30T19:29:12.359576Z",
     "iopub.status.idle": "2023-01-30T19:29:12.378177Z",
     "shell.execute_reply": "2023-01-30T19:29:12.376968Z"
    },
    "papermill": {
     "duration": 0.031302,
     "end_time": "2023-01-30T19:29:12.380468",
     "exception": false,
     "start_time": "2023-01-30T19:29:12.349166",
     "status": "completed"
    },
    "tags": []
   },
   "outputs": [
    {
     "data": {
      "text/html": [
       "<div>\n",
       "<style scoped>\n",
       "    .dataframe tbody tr th:only-of-type {\n",
       "        vertical-align: middle;\n",
       "    }\n",
       "\n",
       "    .dataframe tbody tr th {\n",
       "        vertical-align: top;\n",
       "    }\n",
       "\n",
       "    .dataframe thead th {\n",
       "        text-align: right;\n",
       "    }\n",
       "</style>\n",
       "<table border=\"1\" class=\"dataframe\">\n",
       "  <thead>\n",
       "    <tr style=\"text-align: right;\">\n",
       "      <th></th>\n",
       "      <th>V14</th>\n",
       "      <th>V17</th>\n",
       "      <th>V2</th>\n",
       "      <th>V3</th>\n",
       "      <th>V10</th>\n",
       "      <th>V21</th>\n",
       "      <th>Amount</th>\n",
       "      <th>V7</th>\n",
       "      <th>V8</th>\n",
       "      <th>V11</th>\n",
       "    </tr>\n",
       "  </thead>\n",
       "  <tbody>\n",
       "    <tr>\n",
       "      <th>0</th>\n",
       "      <td>0.542618</td>\n",
       "      <td>-0.496991</td>\n",
       "      <td>-0.153277</td>\n",
       "      <td>-1.526656</td>\n",
       "      <td>0.180730</td>\n",
       "      <td>-0.718199</td>\n",
       "      <td>-0.426937</td>\n",
       "      <td>0.292364</td>\n",
       "      <td>-0.576662</td>\n",
       "      <td>-1.252759</td>\n",
       "    </tr>\n",
       "    <tr>\n",
       "      <th>1</th>\n",
       "      <td>-0.264156</td>\n",
       "      <td>-0.419851</td>\n",
       "      <td>-1.120222</td>\n",
       "      <td>-0.982513</td>\n",
       "      <td>1.154090</td>\n",
       "      <td>0.203208</td>\n",
       "      <td>0.116982</td>\n",
       "      <td>-1.102617</td>\n",
       "      <td>-0.138696</td>\n",
       "      <td>0.699288</td>\n",
       "    </tr>\n",
       "    <tr>\n",
       "      <th>2</th>\n",
       "      <td>-1.190660</td>\n",
       "      <td>0.800575</td>\n",
       "      <td>0.824427</td>\n",
       "      <td>-0.719888</td>\n",
       "      <td>-0.947362</td>\n",
       "      <td>-0.699333</td>\n",
       "      <td>-0.422228</td>\n",
       "      <td>1.317136</td>\n",
       "      <td>-0.327171</td>\n",
       "      <td>-0.542656</td>\n",
       "    </tr>\n",
       "    <tr>\n",
       "      <th>3</th>\n",
       "      <td>0.606976</td>\n",
       "      <td>-0.191776</td>\n",
       "      <td>-0.201150</td>\n",
       "      <td>-1.462031</td>\n",
       "      <td>0.039215</td>\n",
       "      <td>-0.152446</td>\n",
       "      <td>-0.433436</td>\n",
       "      <td>0.049435</td>\n",
       "      <td>-0.258165</td>\n",
       "      <td>0.495227</td>\n",
       "    </tr>\n",
       "    <tr>\n",
       "      <th>4</th>\n",
       "      <td>-0.186545</td>\n",
       "      <td>0.078138</td>\n",
       "      <td>-0.189836</td>\n",
       "      <td>0.539876</td>\n",
       "      <td>-0.070249</td>\n",
       "      <td>0.308014</td>\n",
       "      <td>-0.433436</td>\n",
       "      <td>-0.991706</td>\n",
       "      <td>0.586008</td>\n",
       "      <td>1.213209</td>\n",
       "    </tr>\n",
       "  </tbody>\n",
       "</table>\n",
       "</div>"
      ],
      "text/plain": [
       "        V14       V17        V2        V3       V10       V21    Amount  \\\n",
       "0  0.542618 -0.496991 -0.153277 -1.526656  0.180730 -0.718199 -0.426937   \n",
       "1 -0.264156 -0.419851 -1.120222 -0.982513  1.154090  0.203208  0.116982   \n",
       "2 -1.190660  0.800575  0.824427 -0.719888 -0.947362 -0.699333 -0.422228   \n",
       "3  0.606976 -0.191776 -0.201150 -1.462031  0.039215 -0.152446 -0.433436   \n",
       "4 -0.186545  0.078138 -0.189836  0.539876 -0.070249  0.308014 -0.433436   \n",
       "\n",
       "         V7        V8       V11  \n",
       "0  0.292364 -0.576662 -1.252759  \n",
       "1 -1.102617 -0.138696  0.699288  \n",
       "2  1.317136 -0.327171 -0.542656  \n",
       "3  0.049435 -0.258165  0.495227  \n",
       "4 -0.991706  0.586008  1.213209  "
      ]
     },
     "execution_count": 13,
     "metadata": {},
     "output_type": "execute_result"
    }
   ],
   "source": [
    "X_train_scaled.head()"
   ]
  },
  {
   "cell_type": "code",
   "execution_count": 14,
   "id": "aa0c6eaa",
   "metadata": {
    "execution": {
     "iopub.execute_input": "2023-01-30T19:29:12.400833Z",
     "iopub.status.busy": "2023-01-30T19:29:12.400362Z",
     "iopub.status.idle": "2023-01-30T19:29:12.420853Z",
     "shell.execute_reply": "2023-01-30T19:29:12.419466Z"
    },
    "papermill": {
     "duration": 0.033835,
     "end_time": "2023-01-30T19:29:12.423430",
     "exception": false,
     "start_time": "2023-01-30T19:29:12.389595",
     "status": "completed"
    },
    "tags": []
   },
   "outputs": [
    {
     "data": {
      "text/html": [
       "<div>\n",
       "<style scoped>\n",
       "    .dataframe tbody tr th:only-of-type {\n",
       "        vertical-align: middle;\n",
       "    }\n",
       "\n",
       "    .dataframe tbody tr th {\n",
       "        vertical-align: top;\n",
       "    }\n",
       "\n",
       "    .dataframe thead th {\n",
       "        text-align: right;\n",
       "    }\n",
       "</style>\n",
       "<table border=\"1\" class=\"dataframe\">\n",
       "  <thead>\n",
       "    <tr style=\"text-align: right;\">\n",
       "      <th></th>\n",
       "      <th>V14</th>\n",
       "      <th>V17</th>\n",
       "      <th>V2</th>\n",
       "      <th>V3</th>\n",
       "      <th>V10</th>\n",
       "      <th>V21</th>\n",
       "      <th>Amount</th>\n",
       "      <th>V7</th>\n",
       "      <th>V8</th>\n",
       "      <th>V11</th>\n",
       "    </tr>\n",
       "  </thead>\n",
       "  <tbody>\n",
       "    <tr>\n",
       "      <th>0</th>\n",
       "      <td>-2.884393</td>\n",
       "      <td>1.701181</td>\n",
       "      <td>-0.638173</td>\n",
       "      <td>-1.675036</td>\n",
       "      <td>0.316793</td>\n",
       "      <td>0.645192</td>\n",
       "      <td>-0.241453</td>\n",
       "      <td>-0.974097</td>\n",
       "      <td>-0.240939</td>\n",
       "      <td>0.926044</td>\n",
       "    </tr>\n",
       "    <tr>\n",
       "      <th>1</th>\n",
       "      <td>-0.789088</td>\n",
       "      <td>0.179392</td>\n",
       "      <td>-1.491439</td>\n",
       "      <td>-1.005833</td>\n",
       "      <td>0.636456</td>\n",
       "      <td>1.358501</td>\n",
       "      <td>0.644189</td>\n",
       "      <td>-1.841196</td>\n",
       "      <td>1.290116</td>\n",
       "      <td>0.123739</td>\n",
       "    </tr>\n",
       "    <tr>\n",
       "      <th>2</th>\n",
       "      <td>-0.742928</td>\n",
       "      <td>0.031310</td>\n",
       "      <td>-1.396609</td>\n",
       "      <td>-0.733587</td>\n",
       "      <td>2.027176</td>\n",
       "      <td>-0.237628</td>\n",
       "      <td>-0.333963</td>\n",
       "      <td>-1.901407</td>\n",
       "      <td>-0.061323</td>\n",
       "      <td>0.458077</td>\n",
       "    </tr>\n",
       "    <tr>\n",
       "      <th>3</th>\n",
       "      <td>-0.406968</td>\n",
       "      <td>0.090593</td>\n",
       "      <td>-0.880542</td>\n",
       "      <td>-2.233562</td>\n",
       "      <td>-1.442818</td>\n",
       "      <td>-0.116021</td>\n",
       "      <td>0.362216</td>\n",
       "      <td>0.466362</td>\n",
       "      <td>-0.766985</td>\n",
       "      <td>-1.047143</td>\n",
       "    </tr>\n",
       "    <tr>\n",
       "      <th>4</th>\n",
       "      <td>0.329516</td>\n",
       "      <td>-1.287038</td>\n",
       "      <td>-1.480516</td>\n",
       "      <td>-0.201699</td>\n",
       "      <td>-0.367594</td>\n",
       "      <td>0.270717</td>\n",
       "      <td>-0.426937</td>\n",
       "      <td>0.205497</td>\n",
       "      <td>-0.277054</td>\n",
       "      <td>0.325501</td>\n",
       "    </tr>\n",
       "  </tbody>\n",
       "</table>\n",
       "</div>"
      ],
      "text/plain": [
       "        V14       V17        V2        V3       V10       V21    Amount  \\\n",
       "0 -2.884393  1.701181 -0.638173 -1.675036  0.316793  0.645192 -0.241453   \n",
       "1 -0.789088  0.179392 -1.491439 -1.005833  0.636456  1.358501  0.644189   \n",
       "2 -0.742928  0.031310 -1.396609 -0.733587  2.027176 -0.237628 -0.333963   \n",
       "3 -0.406968  0.090593 -0.880542 -2.233562 -1.442818 -0.116021  0.362216   \n",
       "4  0.329516 -1.287038 -1.480516 -0.201699 -0.367594  0.270717 -0.426937   \n",
       "\n",
       "         V7        V8       V11  \n",
       "0 -0.974097 -0.240939  0.926044  \n",
       "1 -1.841196  1.290116  0.123739  \n",
       "2 -1.901407 -0.061323  0.458077  \n",
       "3  0.466362 -0.766985 -1.047143  \n",
       "4  0.205497 -0.277054  0.325501  "
      ]
     },
     "execution_count": 14,
     "metadata": {},
     "output_type": "execute_result"
    }
   ],
   "source": [
    "X_test_scaled.head()"
   ]
  },
  {
   "cell_type": "markdown",
   "id": "e899ec56",
   "metadata": {
    "papermill": {
     "duration": 0.00901,
     "end_time": "2023-01-30T19:29:12.441799",
     "exception": false,
     "start_time": "2023-01-30T19:29:12.432789",
     "status": "completed"
    },
    "tags": []
   },
   "source": [
    "importing catboost"
   ]
  },
  {
   "cell_type": "code",
   "execution_count": 15,
   "id": "eedb3d2a",
   "metadata": {
    "execution": {
     "iopub.execute_input": "2023-01-30T19:29:12.462188Z",
     "iopub.status.busy": "2023-01-30T19:29:12.461800Z",
     "iopub.status.idle": "2023-01-30T19:29:12.873303Z",
     "shell.execute_reply": "2023-01-30T19:29:12.871984Z"
    },
    "papermill": {
     "duration": 0.424695,
     "end_time": "2023-01-30T19:29:12.875786",
     "exception": false,
     "start_time": "2023-01-30T19:29:12.451091",
     "status": "completed"
    },
    "tags": []
   },
   "outputs": [],
   "source": [
    "from catboost import CatBoostClassifier\n"
   ]
  },
  {
   "cell_type": "markdown",
   "id": "ad10fcc0",
   "metadata": {
    "papermill": {
     "duration": 0.008956,
     "end_time": "2023-01-30T19:29:12.894163",
     "exception": false,
     "start_time": "2023-01-30T19:29:12.885207",
     "status": "completed"
    },
    "tags": []
   },
   "source": [
    "defining a classifier model"
   ]
  },
  {
   "cell_type": "code",
   "execution_count": 16,
   "id": "1ea71b8f",
   "metadata": {
    "execution": {
     "iopub.execute_input": "2023-01-30T19:29:12.914599Z",
     "iopub.status.busy": "2023-01-30T19:29:12.914146Z",
     "iopub.status.idle": "2023-01-30T19:29:12.922207Z",
     "shell.execute_reply": "2023-01-30T19:29:12.920992Z"
    },
    "papermill": {
     "duration": 0.02121,
     "end_time": "2023-01-30T19:29:12.924467",
     "exception": false,
     "start_time": "2023-01-30T19:29:12.903257",
     "status": "completed"
    },
    "tags": []
   },
   "outputs": [],
   "source": [
    "model_cbc=CatBoostClassifier(iterations=100,random_state=42,eval_metric='AUC')"
   ]
  },
  {
   "cell_type": "code",
   "execution_count": 17,
   "id": "a7e4522a",
   "metadata": {
    "execution": {
     "iopub.execute_input": "2023-01-30T19:29:12.945771Z",
     "iopub.status.busy": "2023-01-30T19:29:12.945293Z",
     "iopub.status.idle": "2023-01-30T19:29:15.341917Z",
     "shell.execute_reply": "2023-01-30T19:29:15.340480Z"
    },
    "papermill": {
     "duration": 2.410063,
     "end_time": "2023-01-30T19:29:15.344493",
     "exception": false,
     "start_time": "2023-01-30T19:29:12.934430",
     "status": "completed"
    },
    "scrolled": true,
    "tags": []
   },
   "outputs": [
    {
     "name": "stdout",
     "output_type": "stream",
     "text": [
      "Learning rate set to 0.5\n",
      "0:\ttotal: 89.8ms\tremaining: 8.89s\n",
      "1:\ttotal: 116ms\tremaining: 5.67s\n",
      "2:\ttotal: 138ms\tremaining: 4.47s\n",
      "3:\ttotal: 160ms\tremaining: 3.84s\n",
      "4:\ttotal: 185ms\tremaining: 3.51s\n",
      "5:\ttotal: 208ms\tremaining: 3.26s\n",
      "6:\ttotal: 228ms\tremaining: 3.02s\n",
      "7:\ttotal: 248ms\tremaining: 2.86s\n",
      "8:\ttotal: 267ms\tremaining: 2.7s\n",
      "9:\ttotal: 286ms\tremaining: 2.57s\n",
      "10:\ttotal: 305ms\tremaining: 2.46s\n",
      "11:\ttotal: 325ms\tremaining: 2.38s\n",
      "12:\ttotal: 345ms\tremaining: 2.31s\n",
      "13:\ttotal: 362ms\tremaining: 2.22s\n",
      "14:\ttotal: 381ms\tremaining: 2.16s\n",
      "15:\ttotal: 401ms\tremaining: 2.11s\n",
      "16:\ttotal: 419ms\tremaining: 2.04s\n",
      "17:\ttotal: 439ms\tremaining: 2s\n",
      "18:\ttotal: 461ms\tremaining: 1.96s\n",
      "19:\ttotal: 480ms\tremaining: 1.92s\n",
      "20:\ttotal: 503ms\tremaining: 1.89s\n",
      "21:\ttotal: 524ms\tremaining: 1.86s\n",
      "22:\ttotal: 545ms\tremaining: 1.82s\n",
      "23:\ttotal: 564ms\tremaining: 1.79s\n",
      "24:\ttotal: 585ms\tremaining: 1.75s\n",
      "25:\ttotal: 609ms\tremaining: 1.73s\n",
      "26:\ttotal: 628ms\tremaining: 1.7s\n",
      "27:\ttotal: 648ms\tremaining: 1.67s\n",
      "28:\ttotal: 667ms\tremaining: 1.63s\n",
      "29:\ttotal: 686ms\tremaining: 1.6s\n",
      "30:\ttotal: 706ms\tremaining: 1.57s\n",
      "31:\ttotal: 725ms\tremaining: 1.54s\n",
      "32:\ttotal: 743ms\tremaining: 1.51s\n",
      "33:\ttotal: 760ms\tremaining: 1.48s\n",
      "34:\ttotal: 779ms\tremaining: 1.45s\n",
      "35:\ttotal: 798ms\tremaining: 1.42s\n",
      "36:\ttotal: 823ms\tremaining: 1.4s\n",
      "37:\ttotal: 843ms\tremaining: 1.38s\n",
      "38:\ttotal: 862ms\tremaining: 1.35s\n",
      "39:\ttotal: 883ms\tremaining: 1.32s\n",
      "40:\ttotal: 902ms\tremaining: 1.3s\n",
      "41:\ttotal: 920ms\tremaining: 1.27s\n",
      "42:\ttotal: 937ms\tremaining: 1.24s\n",
      "43:\ttotal: 956ms\tremaining: 1.22s\n",
      "44:\ttotal: 975ms\tremaining: 1.19s\n",
      "45:\ttotal: 995ms\tremaining: 1.17s\n",
      "46:\ttotal: 1.01s\tremaining: 1.14s\n",
      "47:\ttotal: 1.04s\tremaining: 1.12s\n",
      "48:\ttotal: 1.06s\tremaining: 1.1s\n",
      "49:\ttotal: 1.08s\tremaining: 1.08s\n",
      "50:\ttotal: 1.09s\tremaining: 1.05s\n",
      "51:\ttotal: 1.11s\tremaining: 1.03s\n",
      "52:\ttotal: 1.14s\tremaining: 1.01s\n",
      "53:\ttotal: 1.16s\tremaining: 986ms\n",
      "54:\ttotal: 1.18s\tremaining: 963ms\n",
      "55:\ttotal: 1.2s\tremaining: 940ms\n",
      "56:\ttotal: 1.21s\tremaining: 916ms\n",
      "57:\ttotal: 1.23s\tremaining: 893ms\n",
      "58:\ttotal: 1.25s\tremaining: 872ms\n",
      "59:\ttotal: 1.27s\tremaining: 849ms\n",
      "60:\ttotal: 1.29s\tremaining: 826ms\n",
      "61:\ttotal: 1.31s\tremaining: 803ms\n",
      "62:\ttotal: 1.33s\tremaining: 780ms\n",
      "63:\ttotal: 1.35s\tremaining: 759ms\n",
      "64:\ttotal: 1.37s\tremaining: 737ms\n",
      "65:\ttotal: 1.39s\tremaining: 715ms\n",
      "66:\ttotal: 1.41s\tremaining: 693ms\n",
      "67:\ttotal: 1.43s\tremaining: 671ms\n",
      "68:\ttotal: 1.45s\tremaining: 650ms\n",
      "69:\ttotal: 1.47s\tremaining: 630ms\n",
      "70:\ttotal: 1.49s\tremaining: 608ms\n",
      "71:\ttotal: 1.51s\tremaining: 586ms\n",
      "72:\ttotal: 1.53s\tremaining: 565ms\n",
      "73:\ttotal: 1.55s\tremaining: 543ms\n",
      "74:\ttotal: 1.56s\tremaining: 522ms\n",
      "75:\ttotal: 1.58s\tremaining: 500ms\n",
      "76:\ttotal: 1.6s\tremaining: 479ms\n",
      "77:\ttotal: 1.62s\tremaining: 458ms\n",
      "78:\ttotal: 1.64s\tremaining: 436ms\n",
      "79:\ttotal: 1.66s\tremaining: 415ms\n",
      "80:\ttotal: 1.68s\tremaining: 395ms\n",
      "81:\ttotal: 1.7s\tremaining: 374ms\n",
      "82:\ttotal: 1.72s\tremaining: 353ms\n",
      "83:\ttotal: 1.74s\tremaining: 332ms\n",
      "84:\ttotal: 1.76s\tremaining: 311ms\n",
      "85:\ttotal: 1.78s\tremaining: 290ms\n",
      "86:\ttotal: 1.8s\tremaining: 270ms\n",
      "87:\ttotal: 1.82s\tremaining: 249ms\n",
      "88:\ttotal: 1.84s\tremaining: 228ms\n",
      "89:\ttotal: 1.86s\tremaining: 207ms\n",
      "90:\ttotal: 1.88s\tremaining: 186ms\n",
      "91:\ttotal: 1.9s\tremaining: 166ms\n",
      "92:\ttotal: 1.93s\tremaining: 145ms\n",
      "93:\ttotal: 1.95s\tremaining: 124ms\n",
      "94:\ttotal: 1.96s\tremaining: 103ms\n",
      "95:\ttotal: 1.98s\tremaining: 82.7ms\n",
      "96:\ttotal: 2.01s\tremaining: 62.1ms\n",
      "97:\ttotal: 2.03s\tremaining: 41.4ms\n",
      "98:\ttotal: 2.05s\tremaining: 20.7ms\n",
      "99:\ttotal: 2.07s\tremaining: 0us\n"
     ]
    },
    {
     "data": {
      "text/plain": [
       "<catboost.core.CatBoostClassifier at 0x7f5aa3494650>"
      ]
     },
     "execution_count": 17,
     "metadata": {},
     "output_type": "execute_result"
    }
   ],
   "source": [
    "model_cbc.fit(X_train_scaled,y_train)"
   ]
  },
  {
   "cell_type": "markdown",
   "id": "ff74f7f0",
   "metadata": {
    "papermill": {
     "duration": 0.010164,
     "end_time": "2023-01-30T19:29:15.365127",
     "exception": false,
     "start_time": "2023-01-30T19:29:15.354963",
     "status": "completed"
    },
    "tags": []
   },
   "source": [
    "predicting values using the fitted model"
   ]
  },
  {
   "cell_type": "code",
   "execution_count": 18,
   "id": "dd9e3585",
   "metadata": {
    "execution": {
     "iopub.execute_input": "2023-01-30T19:29:15.387285Z",
     "iopub.status.busy": "2023-01-30T19:29:15.386810Z",
     "iopub.status.idle": "2023-01-30T19:29:15.443083Z",
     "shell.execute_reply": "2023-01-30T19:29:15.441749Z"
    },
    "papermill": {
     "duration": 0.070852,
     "end_time": "2023-01-30T19:29:15.446120",
     "exception": false,
     "start_time": "2023-01-30T19:29:15.375268",
     "status": "completed"
    },
    "tags": []
   },
   "outputs": [],
   "source": [
    "pred=model_cbc.predict(X_test_scaled)"
   ]
  },
  {
   "cell_type": "code",
   "execution_count": 19,
   "id": "38c136d6",
   "metadata": {
    "execution": {
     "iopub.execute_input": "2023-01-30T19:29:15.469507Z",
     "iopub.status.busy": "2023-01-30T19:29:15.469074Z",
     "iopub.status.idle": "2023-01-30T19:29:15.692714Z",
     "shell.execute_reply": "2023-01-30T19:29:15.691086Z"
    },
    "papermill": {
     "duration": 0.238873,
     "end_time": "2023-01-30T19:29:15.695782",
     "exception": false,
     "start_time": "2023-01-30T19:29:15.456909",
     "status": "completed"
    },
    "tags": []
   },
   "outputs": [
    {
     "name": "stdout",
     "output_type": "stream",
     "text": [
      "Submission successful\n"
     ]
    }
   ],
   "source": [
    "output=pd.DataFrame({'id':test_data['id'],'Class':pred})\n",
    "output.to_csv('submission.csv')\n",
    "print('Submission successful')"
   ]
  },
  {
   "cell_type": "code",
   "execution_count": 20,
   "id": "73de3776",
   "metadata": {
    "execution": {
     "iopub.execute_input": "2023-01-30T19:29:15.720166Z",
     "iopub.status.busy": "2023-01-30T19:29:15.719762Z",
     "iopub.status.idle": "2023-01-30T19:29:15.730648Z",
     "shell.execute_reply": "2023-01-30T19:29:15.729335Z"
    },
    "papermill": {
     "duration": 0.026316,
     "end_time": "2023-01-30T19:29:15.733208",
     "exception": false,
     "start_time": "2023-01-30T19:29:15.706892",
     "status": "completed"
    },
    "tags": []
   },
   "outputs": [
    {
     "data": {
      "text/html": [
       "<div>\n",
       "<style scoped>\n",
       "    .dataframe tbody tr th:only-of-type {\n",
       "        vertical-align: middle;\n",
       "    }\n",
       "\n",
       "    .dataframe tbody tr th {\n",
       "        vertical-align: top;\n",
       "    }\n",
       "\n",
       "    .dataframe thead th {\n",
       "        text-align: right;\n",
       "    }\n",
       "</style>\n",
       "<table border=\"1\" class=\"dataframe\">\n",
       "  <thead>\n",
       "    <tr style=\"text-align: right;\">\n",
       "      <th></th>\n",
       "      <th>id</th>\n",
       "      <th>Class</th>\n",
       "    </tr>\n",
       "  </thead>\n",
       "  <tbody>\n",
       "    <tr>\n",
       "      <th>0</th>\n",
       "      <td>219129</td>\n",
       "      <td>0</td>\n",
       "    </tr>\n",
       "    <tr>\n",
       "      <th>1</th>\n",
       "      <td>219130</td>\n",
       "      <td>0</td>\n",
       "    </tr>\n",
       "    <tr>\n",
       "      <th>2</th>\n",
       "      <td>219131</td>\n",
       "      <td>0</td>\n",
       "    </tr>\n",
       "    <tr>\n",
       "      <th>3</th>\n",
       "      <td>219132</td>\n",
       "      <td>0</td>\n",
       "    </tr>\n",
       "    <tr>\n",
       "      <th>4</th>\n",
       "      <td>219133</td>\n",
       "      <td>0</td>\n",
       "    </tr>\n",
       "  </tbody>\n",
       "</table>\n",
       "</div>"
      ],
      "text/plain": [
       "       id  Class\n",
       "0  219129      0\n",
       "1  219130      0\n",
       "2  219131      0\n",
       "3  219132      0\n",
       "4  219133      0"
      ]
     },
     "execution_count": 20,
     "metadata": {},
     "output_type": "execute_result"
    }
   ],
   "source": [
    "output.head()"
   ]
  },
  {
   "cell_type": "markdown",
   "id": "cf74629c",
   "metadata": {
    "papermill": {
     "duration": 0.010675,
     "end_time": "2023-01-30T19:29:15.755380",
     "exception": false,
     "start_time": "2023-01-30T19:29:15.744705",
     "status": "completed"
    },
    "tags": []
   },
   "source": [
    "**first submission.**"
   ]
  },
  {
   "cell_type": "code",
   "execution_count": null,
   "id": "91e97bcb",
   "metadata": {
    "papermill": {
     "duration": 0.011318,
     "end_time": "2023-01-30T19:29:15.777780",
     "exception": false,
     "start_time": "2023-01-30T19:29:15.766462",
     "status": "completed"
    },
    "tags": []
   },
   "outputs": [],
   "source": []
  }
 ],
 "metadata": {
  "kernelspec": {
   "display_name": "Python 3",
   "language": "python",
   "name": "python3"
  },
  "language_info": {
   "codemirror_mode": {
    "name": "ipython",
    "version": 3
   },
   "file_extension": ".py",
   "mimetype": "text/x-python",
   "name": "python",
   "nbconvert_exporter": "python",
   "pygments_lexer": "ipython3",
   "version": "3.7.12"
  },
  "papermill": {
   "default_parameters": {},
   "duration": 65.193931,
   "end_time": "2023-01-30T19:29:16.514443",
   "environment_variables": {},
   "exception": null,
   "input_path": "__notebook__.ipynb",
   "output_path": "__notebook__.ipynb",
   "parameters": {},
   "start_time": "2023-01-30T19:28:11.320512",
   "version": "2.3.4"
  }
 },
 "nbformat": 4,
 "nbformat_minor": 5
}
