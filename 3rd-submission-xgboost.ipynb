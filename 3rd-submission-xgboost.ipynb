{
 "cells": [
  {
   "cell_type": "code",
   "execution_count": 1,
   "id": "2aa5ff36",
   "metadata": {
    "_cell_guid": "b1076dfc-b9ad-4769-8c92-a6c4dae69d19",
    "_uuid": "8f2839f25d086af736a60e9eeb907d3b93b6e0e5",
    "execution": {
     "iopub.execute_input": "2023-01-30T19:50:00.459470Z",
     "iopub.status.busy": "2023-01-30T19:50:00.458532Z",
     "iopub.status.idle": "2023-01-30T19:50:00.483425Z",
     "shell.execute_reply": "2023-01-30T19:50:00.481837Z"
    },
    "papermill": {
     "duration": 0.039929,
     "end_time": "2023-01-30T19:50:00.487642",
     "exception": false,
     "start_time": "2023-01-30T19:50:00.447713",
     "status": "completed"
    },
    "tags": []
   },
   "outputs": [
    {
     "name": "stdout",
     "output_type": "stream",
     "text": [
      "/kaggle/input/playground-series-s3e4/sample_submission.csv\n",
      "/kaggle/input/playground-series-s3e4/train.csv\n",
      "/kaggle/input/playground-series-s3e4/test.csv\n"
     ]
    }
   ],
   "source": [
    "# This Python 3 environment comes with many helpful analytics libraries installed\n",
    "# It is defined by the kaggle/python Docker image: https://github.com/kaggle/docker-python\n",
    "# For example, here's several helpful packages to load\n",
    "\n",
    "import numpy as np # linear algebra\n",
    "import pandas as pd # data processing, CSV file I/O (e.g. pd.read_csv)\n",
    "\n",
    "# Input data files are available in the read-only \"../input/\" directory\n",
    "# For example, running this (by clicking run or pressing Shift+Enter) will list all files under the input directory\n",
    "\n",
    "import os\n",
    "for dirname, _, filenames in os.walk('/kaggle/input'):\n",
    "    for filename in filenames:\n",
    "        print(os.path.join(dirname, filename))\n",
    "\n",
    "# You can write up to 20GB to the current directory (/kaggle/working/) that gets preserved as output when you create a version using \"Save & Run All\" \n",
    "# You can also write temporary files to /kaggle/temp/, but they won't be saved outside of the current session"
   ]
  },
  {
   "cell_type": "markdown",
   "id": "d5da6621",
   "metadata": {
    "papermill": {
     "duration": 0.007361,
     "end_time": "2023-01-30T19:50:00.504706",
     "exception": false,
     "start_time": "2023-01-30T19:50:00.497345",
     "status": "completed"
    },
    "tags": []
   },
   "source": [
    "importing the necessary data"
   ]
  },
  {
   "cell_type": "code",
   "execution_count": 2,
   "id": "27b6269f",
   "metadata": {
    "execution": {
     "iopub.execute_input": "2023-01-30T19:50:00.522562Z",
     "iopub.status.busy": "2023-01-30T19:50:00.521813Z",
     "iopub.status.idle": "2023-01-30T19:50:07.615886Z",
     "shell.execute_reply": "2023-01-30T19:50:07.614931Z"
    },
    "papermill": {
     "duration": 7.106345,
     "end_time": "2023-01-30T19:50:07.618595",
     "exception": false,
     "start_time": "2023-01-30T19:50:00.512250",
     "status": "completed"
    },
    "tags": []
   },
   "outputs": [],
   "source": [
    "train_data=pd.read_csv('/kaggle/input/playground-series-s3e4/train.csv')\n",
    "test_data=pd.read_csv('/kaggle/input/playground-series-s3e4/test.csv')"
   ]
  },
  {
   "cell_type": "markdown",
   "id": "5e9e8012",
   "metadata": {
    "papermill": {
     "duration": 0.007246,
     "end_time": "2023-01-30T19:50:07.633641",
     "exception": false,
     "start_time": "2023-01-30T19:50:07.626395",
     "status": "completed"
    },
    "tags": []
   },
   "source": []
  },
  {
   "cell_type": "code",
   "execution_count": 3,
   "id": "245c60d4",
   "metadata": {
    "execution": {
     "iopub.execute_input": "2023-01-30T19:50:07.651311Z",
     "iopub.status.busy": "2023-01-30T19:50:07.650847Z",
     "iopub.status.idle": "2023-01-30T19:50:07.759076Z",
     "shell.execute_reply": "2023-01-30T19:50:07.757821Z"
    },
    "papermill": {
     "duration": 0.120148,
     "end_time": "2023-01-30T19:50:07.761946",
     "exception": false,
     "start_time": "2023-01-30T19:50:07.641798",
     "status": "completed"
    },
    "tags": []
   },
   "outputs": [
    {
     "data": {
      "text/html": [
       "<div>\n",
       "<style scoped>\n",
       "    .dataframe tbody tr th:only-of-type {\n",
       "        vertical-align: middle;\n",
       "    }\n",
       "\n",
       "    .dataframe tbody tr th {\n",
       "        vertical-align: top;\n",
       "    }\n",
       "\n",
       "    .dataframe thead th {\n",
       "        text-align: right;\n",
       "    }\n",
       "</style>\n",
       "<table border=\"1\" class=\"dataframe\">\n",
       "  <thead>\n",
       "    <tr style=\"text-align: right;\">\n",
       "      <th></th>\n",
       "      <th>id</th>\n",
       "      <th>Time</th>\n",
       "      <th>V1</th>\n",
       "      <th>V2</th>\n",
       "      <th>V3</th>\n",
       "      <th>V4</th>\n",
       "      <th>V5</th>\n",
       "      <th>V6</th>\n",
       "      <th>V7</th>\n",
       "      <th>V8</th>\n",
       "      <th>...</th>\n",
       "      <th>V20</th>\n",
       "      <th>V21</th>\n",
       "      <th>V22</th>\n",
       "      <th>V23</th>\n",
       "      <th>V24</th>\n",
       "      <th>V25</th>\n",
       "      <th>V26</th>\n",
       "      <th>V27</th>\n",
       "      <th>V28</th>\n",
       "      <th>Amount</th>\n",
       "    </tr>\n",
       "  </thead>\n",
       "  <tbody>\n",
       "    <tr>\n",
       "      <th>0</th>\n",
       "      <td>0</td>\n",
       "      <td>0.0</td>\n",
       "      <td>2.074329</td>\n",
       "      <td>-0.129425</td>\n",
       "      <td>-1.137418</td>\n",
       "      <td>0.412846</td>\n",
       "      <td>-0.192638</td>\n",
       "      <td>-1.210144</td>\n",
       "      <td>0.110697</td>\n",
       "      <td>-0.263477</td>\n",
       "      <td>...</td>\n",
       "      <td>-0.292969</td>\n",
       "      <td>-0.334701</td>\n",
       "      <td>-0.887840</td>\n",
       "      <td>0.336701</td>\n",
       "      <td>-0.110835</td>\n",
       "      <td>-0.291459</td>\n",
       "      <td>0.207733</td>\n",
       "      <td>-0.076576</td>\n",
       "      <td>-0.059577</td>\n",
       "      <td>1.98</td>\n",
       "    </tr>\n",
       "    <tr>\n",
       "      <th>1</th>\n",
       "      <td>1</td>\n",
       "      <td>0.0</td>\n",
       "      <td>1.998827</td>\n",
       "      <td>-1.250891</td>\n",
       "      <td>-0.520969</td>\n",
       "      <td>-0.894539</td>\n",
       "      <td>-1.122528</td>\n",
       "      <td>-0.270866</td>\n",
       "      <td>-1.029289</td>\n",
       "      <td>0.050198</td>\n",
       "      <td>...</td>\n",
       "      <td>0.065717</td>\n",
       "      <td>0.054848</td>\n",
       "      <td>-0.038367</td>\n",
       "      <td>0.133518</td>\n",
       "      <td>-0.461928</td>\n",
       "      <td>-0.465491</td>\n",
       "      <td>-0.464655</td>\n",
       "      <td>-0.009413</td>\n",
       "      <td>-0.038238</td>\n",
       "      <td>84.00</td>\n",
       "    </tr>\n",
       "    <tr>\n",
       "      <th>2</th>\n",
       "      <td>2</td>\n",
       "      <td>0.0</td>\n",
       "      <td>0.091535</td>\n",
       "      <td>1.004517</td>\n",
       "      <td>-0.223445</td>\n",
       "      <td>-0.435249</td>\n",
       "      <td>0.667548</td>\n",
       "      <td>-0.988351</td>\n",
       "      <td>0.948146</td>\n",
       "      <td>-0.084789</td>\n",
       "      <td>...</td>\n",
       "      <td>-0.021375</td>\n",
       "      <td>-0.326725</td>\n",
       "      <td>-0.803736</td>\n",
       "      <td>0.154495</td>\n",
       "      <td>0.951233</td>\n",
       "      <td>-0.506919</td>\n",
       "      <td>0.085046</td>\n",
       "      <td>0.224458</td>\n",
       "      <td>0.087356</td>\n",
       "      <td>2.69</td>\n",
       "    </tr>\n",
       "    <tr>\n",
       "      <th>3</th>\n",
       "      <td>3</td>\n",
       "      <td>0.0</td>\n",
       "      <td>1.979649</td>\n",
       "      <td>-0.184949</td>\n",
       "      <td>-1.064206</td>\n",
       "      <td>0.120125</td>\n",
       "      <td>-0.215238</td>\n",
       "      <td>-0.648829</td>\n",
       "      <td>-0.087826</td>\n",
       "      <td>-0.035367</td>\n",
       "      <td>...</td>\n",
       "      <td>-0.340089</td>\n",
       "      <td>-0.095514</td>\n",
       "      <td>-0.079792</td>\n",
       "      <td>0.167701</td>\n",
       "      <td>-0.042939</td>\n",
       "      <td>0.000799</td>\n",
       "      <td>-0.096148</td>\n",
       "      <td>-0.057780</td>\n",
       "      <td>-0.073839</td>\n",
       "      <td>1.00</td>\n",
       "    </tr>\n",
       "    <tr>\n",
       "      <th>4</th>\n",
       "      <td>4</td>\n",
       "      <td>0.0</td>\n",
       "      <td>1.025898</td>\n",
       "      <td>-0.171827</td>\n",
       "      <td>1.203717</td>\n",
       "      <td>1.243900</td>\n",
       "      <td>-0.636572</td>\n",
       "      <td>1.099074</td>\n",
       "      <td>-0.938651</td>\n",
       "      <td>0.569239</td>\n",
       "      <td>...</td>\n",
       "      <td>-0.203628</td>\n",
       "      <td>0.099157</td>\n",
       "      <td>0.608908</td>\n",
       "      <td>0.027901</td>\n",
       "      <td>-0.262813</td>\n",
       "      <td>0.257834</td>\n",
       "      <td>-0.252829</td>\n",
       "      <td>0.108338</td>\n",
       "      <td>0.021051</td>\n",
       "      <td>1.00</td>\n",
       "    </tr>\n",
       "  </tbody>\n",
       "</table>\n",
       "<p>5 rows × 31 columns</p>\n",
       "</div>"
      ],
      "text/plain": [
       "   id  Time        V1        V2        V3        V4        V5        V6  \\\n",
       "0   0   0.0  2.074329 -0.129425 -1.137418  0.412846 -0.192638 -1.210144   \n",
       "1   1   0.0  1.998827 -1.250891 -0.520969 -0.894539 -1.122528 -0.270866   \n",
       "2   2   0.0  0.091535  1.004517 -0.223445 -0.435249  0.667548 -0.988351   \n",
       "3   3   0.0  1.979649 -0.184949 -1.064206  0.120125 -0.215238 -0.648829   \n",
       "4   4   0.0  1.025898 -0.171827  1.203717  1.243900 -0.636572  1.099074   \n",
       "\n",
       "         V7        V8  ...       V20       V21       V22       V23       V24  \\\n",
       "0  0.110697 -0.263477  ... -0.292969 -0.334701 -0.887840  0.336701 -0.110835   \n",
       "1 -1.029289  0.050198  ...  0.065717  0.054848 -0.038367  0.133518 -0.461928   \n",
       "2  0.948146 -0.084789  ... -0.021375 -0.326725 -0.803736  0.154495  0.951233   \n",
       "3 -0.087826 -0.035367  ... -0.340089 -0.095514 -0.079792  0.167701 -0.042939   \n",
       "4 -0.938651  0.569239  ... -0.203628  0.099157  0.608908  0.027901 -0.262813   \n",
       "\n",
       "        V25       V26       V27       V28  Amount  \n",
       "0 -0.291459  0.207733 -0.076576 -0.059577    1.98  \n",
       "1 -0.465491 -0.464655 -0.009413 -0.038238   84.00  \n",
       "2 -0.506919  0.085046  0.224458  0.087356    2.69  \n",
       "3  0.000799 -0.096148 -0.057780 -0.073839    1.00  \n",
       "4  0.257834 -0.252829  0.108338  0.021051    1.00  \n",
       "\n",
       "[5 rows x 31 columns]"
      ]
     },
     "execution_count": 3,
     "metadata": {},
     "output_type": "execute_result"
    }
   ],
   "source": [
    "X_train=train_data.drop('Class',axis=1)\n",
    "y_train=train_data['Class']\n",
    "X_train.head()"
   ]
  },
  {
   "cell_type": "code",
   "execution_count": 4,
   "id": "bccb95c1",
   "metadata": {
    "execution": {
     "iopub.execute_input": "2023-01-30T19:50:07.779832Z",
     "iopub.status.busy": "2023-01-30T19:50:07.779321Z",
     "iopub.status.idle": "2023-01-30T19:50:07.789130Z",
     "shell.execute_reply": "2023-01-30T19:50:07.787689Z"
    },
    "papermill": {
     "duration": 0.021739,
     "end_time": "2023-01-30T19:50:07.791730",
     "exception": false,
     "start_time": "2023-01-30T19:50:07.769991",
     "status": "completed"
    },
    "tags": []
   },
   "outputs": [
    {
     "data": {
      "text/plain": [
       "0    0\n",
       "1    0\n",
       "2    0\n",
       "3    0\n",
       "4    0\n",
       "Name: Class, dtype: int64"
      ]
     },
     "execution_count": 4,
     "metadata": {},
     "output_type": "execute_result"
    }
   ],
   "source": [
    "y_train.head()"
   ]
  },
  {
   "cell_type": "markdown",
   "id": "167f31e6",
   "metadata": {
    "papermill": {
     "duration": 0.007845,
     "end_time": "2023-01-30T19:50:07.807851",
     "exception": false,
     "start_time": "2023-01-30T19:50:07.800006",
     "status": "completed"
    },
    "tags": []
   },
   "source": [
    "dropping id for the training"
   ]
  },
  {
   "cell_type": "code",
   "execution_count": 5,
   "id": "7b9e14bb",
   "metadata": {
    "execution": {
     "iopub.execute_input": "2023-01-30T19:50:07.827016Z",
     "iopub.status.busy": "2023-01-30T19:50:07.826549Z",
     "iopub.status.idle": "2023-01-30T19:50:07.990847Z",
     "shell.execute_reply": "2023-01-30T19:50:07.989612Z"
    },
    "papermill": {
     "duration": 0.176425,
     "end_time": "2023-01-30T19:50:07.993596",
     "exception": false,
     "start_time": "2023-01-30T19:50:07.817171",
     "status": "completed"
    },
    "tags": []
   },
   "outputs": [
    {
     "data": {
      "text/html": [
       "<div>\n",
       "<style scoped>\n",
       "    .dataframe tbody tr th:only-of-type {\n",
       "        vertical-align: middle;\n",
       "    }\n",
       "\n",
       "    .dataframe tbody tr th {\n",
       "        vertical-align: top;\n",
       "    }\n",
       "\n",
       "    .dataframe thead th {\n",
       "        text-align: right;\n",
       "    }\n",
       "</style>\n",
       "<table border=\"1\" class=\"dataframe\">\n",
       "  <thead>\n",
       "    <tr style=\"text-align: right;\">\n",
       "      <th></th>\n",
       "      <th>Time</th>\n",
       "      <th>V1</th>\n",
       "      <th>V2</th>\n",
       "      <th>V3</th>\n",
       "      <th>V4</th>\n",
       "      <th>V5</th>\n",
       "      <th>V6</th>\n",
       "      <th>V7</th>\n",
       "      <th>V8</th>\n",
       "      <th>V9</th>\n",
       "      <th>...</th>\n",
       "      <th>V20</th>\n",
       "      <th>V21</th>\n",
       "      <th>V22</th>\n",
       "      <th>V23</th>\n",
       "      <th>V24</th>\n",
       "      <th>V25</th>\n",
       "      <th>V26</th>\n",
       "      <th>V27</th>\n",
       "      <th>V28</th>\n",
       "      <th>Amount</th>\n",
       "    </tr>\n",
       "  </thead>\n",
       "  <tbody>\n",
       "    <tr>\n",
       "      <th>0</th>\n",
       "      <td>0.0</td>\n",
       "      <td>2.074329</td>\n",
       "      <td>-0.129425</td>\n",
       "      <td>-1.137418</td>\n",
       "      <td>0.412846</td>\n",
       "      <td>-0.192638</td>\n",
       "      <td>-1.210144</td>\n",
       "      <td>0.110697</td>\n",
       "      <td>-0.263477</td>\n",
       "      <td>0.742144</td>\n",
       "      <td>...</td>\n",
       "      <td>-0.292969</td>\n",
       "      <td>-0.334701</td>\n",
       "      <td>-0.887840</td>\n",
       "      <td>0.336701</td>\n",
       "      <td>-0.110835</td>\n",
       "      <td>-0.291459</td>\n",
       "      <td>0.207733</td>\n",
       "      <td>-0.076576</td>\n",
       "      <td>-0.059577</td>\n",
       "      <td>1.98</td>\n",
       "    </tr>\n",
       "    <tr>\n",
       "      <th>1</th>\n",
       "      <td>0.0</td>\n",
       "      <td>1.998827</td>\n",
       "      <td>-1.250891</td>\n",
       "      <td>-0.520969</td>\n",
       "      <td>-0.894539</td>\n",
       "      <td>-1.122528</td>\n",
       "      <td>-0.270866</td>\n",
       "      <td>-1.029289</td>\n",
       "      <td>0.050198</td>\n",
       "      <td>-0.109948</td>\n",
       "      <td>...</td>\n",
       "      <td>0.065717</td>\n",
       "      <td>0.054848</td>\n",
       "      <td>-0.038367</td>\n",
       "      <td>0.133518</td>\n",
       "      <td>-0.461928</td>\n",
       "      <td>-0.465491</td>\n",
       "      <td>-0.464655</td>\n",
       "      <td>-0.009413</td>\n",
       "      <td>-0.038238</td>\n",
       "      <td>84.00</td>\n",
       "    </tr>\n",
       "    <tr>\n",
       "      <th>2</th>\n",
       "      <td>0.0</td>\n",
       "      <td>0.091535</td>\n",
       "      <td>1.004517</td>\n",
       "      <td>-0.223445</td>\n",
       "      <td>-0.435249</td>\n",
       "      <td>0.667548</td>\n",
       "      <td>-0.988351</td>\n",
       "      <td>0.948146</td>\n",
       "      <td>-0.084789</td>\n",
       "      <td>-0.042027</td>\n",
       "      <td>...</td>\n",
       "      <td>-0.021375</td>\n",
       "      <td>-0.326725</td>\n",
       "      <td>-0.803736</td>\n",
       "      <td>0.154495</td>\n",
       "      <td>0.951233</td>\n",
       "      <td>-0.506919</td>\n",
       "      <td>0.085046</td>\n",
       "      <td>0.224458</td>\n",
       "      <td>0.087356</td>\n",
       "      <td>2.69</td>\n",
       "    </tr>\n",
       "    <tr>\n",
       "      <th>3</th>\n",
       "      <td>0.0</td>\n",
       "      <td>1.979649</td>\n",
       "      <td>-0.184949</td>\n",
       "      <td>-1.064206</td>\n",
       "      <td>0.120125</td>\n",
       "      <td>-0.215238</td>\n",
       "      <td>-0.648829</td>\n",
       "      <td>-0.087826</td>\n",
       "      <td>-0.035367</td>\n",
       "      <td>0.885838</td>\n",
       "      <td>...</td>\n",
       "      <td>-0.340089</td>\n",
       "      <td>-0.095514</td>\n",
       "      <td>-0.079792</td>\n",
       "      <td>0.167701</td>\n",
       "      <td>-0.042939</td>\n",
       "      <td>0.000799</td>\n",
       "      <td>-0.096148</td>\n",
       "      <td>-0.057780</td>\n",
       "      <td>-0.073839</td>\n",
       "      <td>1.00</td>\n",
       "    </tr>\n",
       "    <tr>\n",
       "      <th>4</th>\n",
       "      <td>0.0</td>\n",
       "      <td>1.025898</td>\n",
       "      <td>-0.171827</td>\n",
       "      <td>1.203717</td>\n",
       "      <td>1.243900</td>\n",
       "      <td>-0.636572</td>\n",
       "      <td>1.099074</td>\n",
       "      <td>-0.938651</td>\n",
       "      <td>0.569239</td>\n",
       "      <td>0.692665</td>\n",
       "      <td>...</td>\n",
       "      <td>-0.203628</td>\n",
       "      <td>0.099157</td>\n",
       "      <td>0.608908</td>\n",
       "      <td>0.027901</td>\n",
       "      <td>-0.262813</td>\n",
       "      <td>0.257834</td>\n",
       "      <td>-0.252829</td>\n",
       "      <td>0.108338</td>\n",
       "      <td>0.021051</td>\n",
       "      <td>1.00</td>\n",
       "    </tr>\n",
       "  </tbody>\n",
       "</table>\n",
       "<p>5 rows × 30 columns</p>\n",
       "</div>"
      ],
      "text/plain": [
       "   Time        V1        V2        V3        V4        V5        V6        V7  \\\n",
       "0   0.0  2.074329 -0.129425 -1.137418  0.412846 -0.192638 -1.210144  0.110697   \n",
       "1   0.0  1.998827 -1.250891 -0.520969 -0.894539 -1.122528 -0.270866 -1.029289   \n",
       "2   0.0  0.091535  1.004517 -0.223445 -0.435249  0.667548 -0.988351  0.948146   \n",
       "3   0.0  1.979649 -0.184949 -1.064206  0.120125 -0.215238 -0.648829 -0.087826   \n",
       "4   0.0  1.025898 -0.171827  1.203717  1.243900 -0.636572  1.099074 -0.938651   \n",
       "\n",
       "         V8        V9  ...       V20       V21       V22       V23       V24  \\\n",
       "0 -0.263477  0.742144  ... -0.292969 -0.334701 -0.887840  0.336701 -0.110835   \n",
       "1  0.050198 -0.109948  ...  0.065717  0.054848 -0.038367  0.133518 -0.461928   \n",
       "2 -0.084789 -0.042027  ... -0.021375 -0.326725 -0.803736  0.154495  0.951233   \n",
       "3 -0.035367  0.885838  ... -0.340089 -0.095514 -0.079792  0.167701 -0.042939   \n",
       "4  0.569239  0.692665  ... -0.203628  0.099157  0.608908  0.027901 -0.262813   \n",
       "\n",
       "        V25       V26       V27       V28  Amount  \n",
       "0 -0.291459  0.207733 -0.076576 -0.059577    1.98  \n",
       "1 -0.465491 -0.464655 -0.009413 -0.038238   84.00  \n",
       "2 -0.506919  0.085046  0.224458  0.087356    2.69  \n",
       "3  0.000799 -0.096148 -0.057780 -0.073839    1.00  \n",
       "4  0.257834 -0.252829  0.108338  0.021051    1.00  \n",
       "\n",
       "[5 rows x 30 columns]"
      ]
     },
     "execution_count": 5,
     "metadata": {},
     "output_type": "execute_result"
    }
   ],
   "source": [
    "X_train1=X_train.copy()\n",
    "X_train=X_train.drop('id',axis=1)\n",
    "X_train.head()"
   ]
  },
  {
   "cell_type": "markdown",
   "id": "dbcd182e",
   "metadata": {
    "papermill": {
     "duration": 0.008934,
     "end_time": "2023-01-30T19:50:08.010979",
     "exception": false,
     "start_time": "2023-01-30T19:50:08.002045",
     "status": "completed"
    },
    "tags": []
   },
   "source": [
    "using mutual information to find the information gain needed"
   ]
  },
  {
   "cell_type": "code",
   "execution_count": 6,
   "id": "cf2a01af",
   "metadata": {
    "execution": {
     "iopub.execute_input": "2023-01-30T19:50:08.029739Z",
     "iopub.status.busy": "2023-01-30T19:50:08.029207Z",
     "iopub.status.idle": "2023-01-30T19:50:08.036119Z",
     "shell.execute_reply": "2023-01-30T19:50:08.034805Z"
    },
    "papermill": {
     "duration": 0.019058,
     "end_time": "2023-01-30T19:50:08.038618",
     "exception": false,
     "start_time": "2023-01-30T19:50:08.019560",
     "status": "completed"
    },
    "tags": []
   },
   "outputs": [
    {
     "name": "stdout",
     "output_type": "stream",
     "text": [
      "['Time', 'V1', 'V2', 'V3', 'V4', 'V5', 'V6', 'V7', 'V8', 'V9', 'V10', 'V11', 'V12', 'V13', 'V14', 'V15', 'V16', 'V17', 'V18', 'V19', 'V20', 'V21', 'V22', 'V23', 'V24', 'V25', 'V26', 'V27', 'V28', 'Amount']\n"
     ]
    }
   ],
   "source": [
    "discrete_features=list(X_train.columns)\n",
    "print(discrete_features)"
   ]
  },
  {
   "cell_type": "markdown",
   "id": "e94552ed",
   "metadata": {
    "papermill": {
     "duration": 0.007996,
     "end_time": "2023-01-30T19:50:08.055111",
     "exception": false,
     "start_time": "2023-01-30T19:50:08.047115",
     "status": "completed"
    },
    "tags": []
   },
   "source": [
    "using mutual info classif to find the best features for training the target features"
   ]
  },
  {
   "cell_type": "code",
   "execution_count": 7,
   "id": "10c77dd3",
   "metadata": {
    "execution": {
     "iopub.execute_input": "2023-01-30T19:50:08.073906Z",
     "iopub.status.busy": "2023-01-30T19:50:08.073433Z",
     "iopub.status.idle": "2023-01-30T19:50:58.056123Z",
     "shell.execute_reply": "2023-01-30T19:50:58.054706Z"
    },
    "papermill": {
     "duration": 50.003929,
     "end_time": "2023-01-30T19:50:58.067282",
     "exception": false,
     "start_time": "2023-01-30T19:50:08.063353",
     "status": "completed"
    },
    "tags": []
   },
   "outputs": [
    {
     "data": {
      "text/plain": [
       "V14       0.001191\n",
       "V17       0.001129\n",
       "V2        0.000984\n",
       "V3        0.000955\n",
       "Amount    0.000799\n",
       "V21       0.000794\n",
       "V10       0.000786\n",
       "V7        0.000724\n",
       "V8        0.000688\n",
       "V11       0.000677\n",
       "V1        0.000590\n",
       "V4        0.000545\n",
       "V5        0.000529\n",
       "V18       0.000521\n",
       "V12       0.000493\n",
       "V6        0.000479\n",
       "V16       0.000474\n",
       "V20       0.000441\n",
       "V23       0.000403\n",
       "V27       0.000398\n",
       "V28       0.000388\n",
       "V9        0.000242\n",
       "V22       0.000229\n",
       "Time      0.000193\n",
       "V26       0.000084\n",
       "V25       0.000079\n",
       "V13       0.000068\n",
       "V24       0.000068\n",
       "V15       0.000042\n",
       "V19       0.000028\n",
       "Name: MI Scores, dtype: float64"
      ]
     },
     "execution_count": 7,
     "metadata": {},
     "output_type": "execute_result"
    }
   ],
   "source": [
    "from sklearn.feature_selection import mutual_info_classif\n",
    "\n",
    "def make_mi_scores(X_train,y_train):\n",
    "    mi_scores = mutual_info_classif(X_train,y_train)\n",
    "    mi_scores = pd.Series(mi_scores, name=\"MI Scores\", index=X_train.columns)\n",
    "    mi_scores = mi_scores.sort_values(ascending=False)\n",
    "    return mi_scores\n",
    "\n",
    "mi_scores = make_mi_scores(X_train,y_train)\n",
    "mi_scores"
   ]
  },
  {
   "cell_type": "markdown",
   "id": "a2b42c09",
   "metadata": {
    "papermill": {
     "duration": 0.008378,
     "end_time": "2023-01-30T19:50:58.084350",
     "exception": false,
     "start_time": "2023-01-30T19:50:58.075972",
     "status": "completed"
    },
    "tags": []
   },
   "source": [
    "lets try to plot all the mutual information scores and obtain a specific threshold "
   ]
  },
  {
   "cell_type": "code",
   "execution_count": 8,
   "id": "79cd510b",
   "metadata": {
    "execution": {
     "iopub.execute_input": "2023-01-30T19:50:58.103758Z",
     "iopub.status.busy": "2023-01-30T19:50:58.103298Z",
     "iopub.status.idle": "2023-01-30T19:50:58.397065Z",
     "shell.execute_reply": "2023-01-30T19:50:58.395733Z"
    },
    "papermill": {
     "duration": 0.306852,
     "end_time": "2023-01-30T19:50:58.400044",
     "exception": false,
     "start_time": "2023-01-30T19:50:58.093192",
     "status": "completed"
    },
    "tags": []
   },
   "outputs": [
    {
     "data": {
      "text/plain": [
       "[<matplotlib.lines.Line2D at 0x7f61a71ea1d0>]"
      ]
     },
     "execution_count": 8,
     "metadata": {},
     "output_type": "execute_result"
    },
    {
     "data": {
      "image/png": "[encoded data removed]",
      "text/plain": [
       "<Figure size 432x288 with 1 Axes>"
      ]
     },
     "metadata": {
      "needs_background": "light"
     },
     "output_type": "display_data"
    }
   ],
   "source": [
    "import matplotlib.pyplot as plt\n",
    "plt.plot(mi_scores.index,mi_scores)"
   ]
  },
  {
   "cell_type": "markdown",
   "id": "9560483f",
   "metadata": {
    "papermill": {
     "duration": 0.008769,
     "end_time": "2023-01-30T19:50:58.418218",
     "exception": false,
     "start_time": "2023-01-30T19:50:58.409449",
     "status": "completed"
    },
    "tags": []
   },
   "source": [
    "lets select all features above the threshold of 0.001"
   ]
  },
  {
   "cell_type": "code",
   "execution_count": 9,
   "id": "51708479",
   "metadata": {
    "execution": {
     "iopub.execute_input": "2023-01-30T19:50:58.438504Z",
     "iopub.status.busy": "2023-01-30T19:50:58.437780Z",
     "iopub.status.idle": "2023-01-30T19:50:58.442949Z",
     "shell.execute_reply": "2023-01-30T19:50:58.442091Z"
    },
    "papermill": {
     "duration": 0.018144,
     "end_time": "2023-01-30T19:50:58.445304",
     "exception": false,
     "start_time": "2023-01-30T19:50:58.427160",
     "status": "completed"
    },
    "tags": []
   },
   "outputs": [],
   "source": [
    "threshold=0.0006\n",
    "feature=mi_scores\n",
    "# Find the indexes of the rows where the feature is greater than the threshold\n",
    "indexes = feature[feature > threshold].index"
   ]
  },
  {
   "cell_type": "code",
   "execution_count": 10,
   "id": "c3ace45e",
   "metadata": {
    "execution": {
     "iopub.execute_input": "2023-01-30T19:50:58.466232Z",
     "iopub.status.busy": "2023-01-30T19:50:58.465474Z",
     "iopub.status.idle": "2023-01-30T19:50:58.470930Z",
     "shell.execute_reply": "2023-01-30T19:50:58.469919Z"
    },
    "papermill": {
     "duration": 0.020283,
     "end_time": "2023-01-30T19:50:58.474754",
     "exception": false,
     "start_time": "2023-01-30T19:50:58.454471",
     "status": "completed"
    },
    "tags": []
   },
   "outputs": [
    {
     "name": "stdout",
     "output_type": "stream",
     "text": [
      "Index(['V14', 'V17', 'V2', 'V3', 'Amount', 'V21', 'V10', 'V7', 'V8', 'V11'], dtype='object')\n"
     ]
    }
   ],
   "source": [
    "print(indexes)"
   ]
  },
  {
   "cell_type": "markdown",
   "id": "42121060",
   "metadata": {
    "papermill": {
     "duration": 0.009785,
     "end_time": "2023-01-30T19:50:58.494499",
     "exception": false,
     "start_time": "2023-01-30T19:50:58.484714",
     "status": "completed"
    },
    "tags": []
   },
   "source": [
    "finding the final training dataset\""
   ]
  },
  {
   "cell_type": "code",
   "execution_count": 11,
   "id": "e2dd3b58",
   "metadata": {
    "execution": {
     "iopub.execute_input": "2023-01-30T19:50:58.515610Z",
     "iopub.status.busy": "2023-01-30T19:50:58.515156Z",
     "iopub.status.idle": "2023-01-30T19:50:58.565273Z",
     "shell.execute_reply": "2023-01-30T19:50:58.564053Z"
    },
    "papermill": {
     "duration": 0.064513,
     "end_time": "2023-01-30T19:50:58.568103",
     "exception": false,
     "start_time": "2023-01-30T19:50:58.503590",
     "status": "completed"
    },
    "tags": []
   },
   "outputs": [],
   "source": [
    "X_train_final=X_train[discrete_features]\n",
    "X_train_final.head()\n",
    "X_test_final=test_data[discrete_features]"
   ]
  },
  {
   "cell_type": "markdown",
   "id": "643de133",
   "metadata": {
    "papermill": {
     "duration": 0.008857,
     "end_time": "2023-01-30T19:50:58.586181",
     "exception": false,
     "start_time": "2023-01-30T19:50:58.577324",
     "status": "completed"
    },
    "tags": []
   },
   "source": [
    "scaling training and test data"
   ]
  },
  {
   "cell_type": "code",
   "execution_count": 12,
   "id": "d42d7557",
   "metadata": {
    "execution": {
     "iopub.execute_input": "2023-01-30T19:50:58.607359Z",
     "iopub.status.busy": "2023-01-30T19:50:58.606921Z",
     "iopub.status.idle": "2023-01-30T19:50:58.749783Z",
     "shell.execute_reply": "2023-01-30T19:50:58.748554Z"
    },
    "papermill": {
     "duration": 0.156882,
     "end_time": "2023-01-30T19:50:58.752774",
     "exception": false,
     "start_time": "2023-01-30T19:50:58.595892",
     "status": "completed"
    },
    "tags": []
   },
   "outputs": [],
   "source": [
    "from sklearn.preprocessing import StandardScaler\n",
    "\n",
    "# create the scaler\n",
    "scaler = StandardScaler()\n",
    "\n",
    "# fit and transform the training data\n",
    "X_train_scaled = scaler.fit_transform(X_train_final)\n",
    "\n",
    "# convert the scaled data back to a pandas DataFrame\n",
    "X_train_scaled = pd.DataFrame(X_train_scaled, columns=X_train_final.columns)\n",
    "\n",
    "# transform the test data\n",
    "X_test_scaled = scaler.transform(X_test_final)\n",
    "\n",
    "# convert the scaled data back to a pandas DataFrame\n",
    "X_test_scaled = pd.DataFrame(X_test_scaled, columns=X_test_final.columns)"
   ]
  },
  {
   "cell_type": "markdown",
   "id": "0a8e363b",
   "metadata": {
    "papermill": {
     "duration": 0.008726,
     "end_time": "2023-01-30T19:50:58.770693",
     "exception": false,
     "start_time": "2023-01-30T19:50:58.761967",
     "status": "completed"
    },
    "tags": []
   },
   "source": [
    "viewing the scaled datasets"
   ]
  },
  {
   "cell_type": "code",
   "execution_count": 13,
   "id": "f86905d0",
   "metadata": {
    "execution": {
     "iopub.execute_input": "2023-01-30T19:50:58.790812Z",
     "iopub.status.busy": "2023-01-30T19:50:58.790408Z",
     "iopub.status.idle": "2023-01-30T19:50:58.817048Z",
     "shell.execute_reply": "2023-01-30T19:50:58.815796Z"
    },
    "papermill": {
     "duration": 0.039947,
     "end_time": "2023-01-30T19:50:58.819771",
     "exception": false,
     "start_time": "2023-01-30T19:50:58.779824",
     "status": "completed"
    },
    "tags": []
   },
   "outputs": [
    {
     "data": {
      "text/html": [
       "<div>\n",
       "<style scoped>\n",
       "    .dataframe tbody tr th:only-of-type {\n",
       "        vertical-align: middle;\n",
       "    }\n",
       "\n",
       "    .dataframe tbody tr th {\n",
       "        vertical-align: top;\n",
       "    }\n",
       "\n",
       "    .dataframe thead th {\n",
       "        text-align: right;\n",
       "    }\n",
       "</style>\n",
       "<table border=\"1\" class=\"dataframe\">\n",
       "  <thead>\n",
       "    <tr style=\"text-align: right;\">\n",
       "      <th></th>\n",
       "      <th>Time</th>\n",
       "      <th>V1</th>\n",
       "      <th>V2</th>\n",
       "      <th>V3</th>\n",
       "      <th>V4</th>\n",
       "      <th>V5</th>\n",
       "      <th>V6</th>\n",
       "      <th>V7</th>\n",
       "      <th>V8</th>\n",
       "      <th>V9</th>\n",
       "      <th>...</th>\n",
       "      <th>V20</th>\n",
       "      <th>V21</th>\n",
       "      <th>V22</th>\n",
       "      <th>V23</th>\n",
       "      <th>V24</th>\n",
       "      <th>V25</th>\n",
       "      <th>V26</th>\n",
       "      <th>V27</th>\n",
       "      <th>V28</th>\n",
       "      <th>Amount</th>\n",
       "    </tr>\n",
       "  </thead>\n",
       "  <tbody>\n",
       "    <tr>\n",
       "      <th>0</th>\n",
       "      <td>-2.434688</td>\n",
       "      <td>1.417723</td>\n",
       "      <td>-0.153277</td>\n",
       "      <td>-1.526656</td>\n",
       "      <td>0.274174</td>\n",
       "      <td>-0.029063</td>\n",
       "      <td>-1.117617</td>\n",
       "      <td>0.292364</td>\n",
       "      <td>-0.576662</td>\n",
       "      <td>0.749882</td>\n",
       "      <td>...</td>\n",
       "      <td>-0.688652</td>\n",
       "      <td>-0.718199</td>\n",
       "      <td>-1.400090</td>\n",
       "      <td>1.217046</td>\n",
       "      <td>-0.181829</td>\n",
       "      <td>-1.021451</td>\n",
       "      <td>0.417528</td>\n",
       "      <td>-0.388293</td>\n",
       "      <td>-0.466403</td>\n",
       "      <td>-0.426937</td>\n",
       "    </tr>\n",
       "    <tr>\n",
       "      <th>1</th>\n",
       "      <td>-2.434688</td>\n",
       "      <td>1.363615</td>\n",
       "      <td>-1.120222</td>\n",
       "      <td>-0.982513</td>\n",
       "      <td>-0.769129</td>\n",
       "      <td>-0.898502</td>\n",
       "      <td>-0.336453</td>\n",
       "      <td>-1.102617</td>\n",
       "      <td>-0.138696</td>\n",
       "      <td>-0.058446</td>\n",
       "      <td>...</td>\n",
       "      <td>0.127433</td>\n",
       "      <td>0.203208</td>\n",
       "      <td>0.020885</td>\n",
       "      <td>0.578455</td>\n",
       "      <td>-0.773794</td>\n",
       "      <td>-1.449321</td>\n",
       "      <td>-1.001415</td>\n",
       "      <td>-0.100477</td>\n",
       "      <td>-0.336961</td>\n",
       "      <td>0.116982</td>\n",
       "    </tr>\n",
       "    <tr>\n",
       "      <th>2</th>\n",
       "      <td>-2.434688</td>\n",
       "      <td>-0.003205</td>\n",
       "      <td>0.824427</td>\n",
       "      <td>-0.719888</td>\n",
       "      <td>-0.402612</td>\n",
       "      <td>0.775205</td>\n",
       "      <td>-0.933160</td>\n",
       "      <td>1.317136</td>\n",
       "      <td>-0.327171</td>\n",
       "      <td>0.005986</td>\n",
       "      <td>...</td>\n",
       "      <td>-0.070720</td>\n",
       "      <td>-0.699333</td>\n",
       "      <td>-1.259402</td>\n",
       "      <td>0.644384</td>\n",
       "      <td>1.608883</td>\n",
       "      <td>-1.551175</td>\n",
       "      <td>0.158620</td>\n",
       "      <td>0.901735</td>\n",
       "      <td>0.424868</td>\n",
       "      <td>-0.422228</td>\n",
       "    </tr>\n",
       "    <tr>\n",
       "      <th>3</th>\n",
       "      <td>-2.434688</td>\n",
       "      <td>1.349872</td>\n",
       "      <td>-0.201150</td>\n",
       "      <td>-1.462031</td>\n",
       "      <td>0.040580</td>\n",
       "      <td>-0.050193</td>\n",
       "      <td>-0.650792</td>\n",
       "      <td>0.049435</td>\n",
       "      <td>-0.258165</td>\n",
       "      <td>0.886196</td>\n",
       "      <td>...</td>\n",
       "      <td>-0.795861</td>\n",
       "      <td>-0.152446</td>\n",
       "      <td>-0.048410</td>\n",
       "      <td>0.685889</td>\n",
       "      <td>-0.067352</td>\n",
       "      <td>-0.302912</td>\n",
       "      <td>-0.223754</td>\n",
       "      <td>-0.307748</td>\n",
       "      <td>-0.552913</td>\n",
       "      <td>-0.433436</td>\n",
       "    </tr>\n",
       "    <tr>\n",
       "      <th>4</th>\n",
       "      <td>-2.434688</td>\n",
       "      <td>0.666386</td>\n",
       "      <td>-0.189836</td>\n",
       "      <td>0.539876</td>\n",
       "      <td>0.937360</td>\n",
       "      <td>-0.444137</td>\n",
       "      <td>0.802877</td>\n",
       "      <td>-0.991706</td>\n",
       "      <td>0.586008</td>\n",
       "      <td>0.702944</td>\n",
       "      <td>...</td>\n",
       "      <td>-0.485382</td>\n",
       "      <td>0.308014</td>\n",
       "      <td>1.103629</td>\n",
       "      <td>0.246506</td>\n",
       "      <td>-0.438073</td>\n",
       "      <td>0.329029</td>\n",
       "      <td>-0.554398</td>\n",
       "      <td>0.404124</td>\n",
       "      <td>0.022671</td>\n",
       "      <td>-0.433436</td>\n",
       "    </tr>\n",
       "  </tbody>\n",
       "</table>\n",
       "<p>5 rows × 30 columns</p>\n",
       "</div>"
      ],
      "text/plain": [
       "       Time        V1        V2        V3        V4        V5        V6  \\\n",
       "0 -2.434688  1.417723 -0.153277 -1.526656  0.274174 -0.029063 -1.117617   \n",
       "1 -2.434688  1.363615 -1.120222 -0.982513 -0.769129 -0.898502 -0.336453   \n",
       "2 -2.434688 -0.003205  0.824427 -0.719888 -0.402612  0.775205 -0.933160   \n",
       "3 -2.434688  1.349872 -0.201150 -1.462031  0.040580 -0.050193 -0.650792   \n",
       "4 -2.434688  0.666386 -0.189836  0.539876  0.937360 -0.444137  0.802877   \n",
       "\n",
       "         V7        V8        V9  ...       V20       V21       V22       V23  \\\n",
       "0  0.292364 -0.576662  0.749882  ... -0.688652 -0.718199 -1.400090  1.217046   \n",
       "1 -1.102617 -0.138696 -0.058446  ...  0.127433  0.203208  0.020885  0.578455   \n",
       "2  1.317136 -0.327171  0.005986  ... -0.070720 -0.699333 -1.259402  0.644384   \n",
       "3  0.049435 -0.258165  0.886196  ... -0.795861 -0.152446 -0.048410  0.685889   \n",
       "4 -0.991706  0.586008  0.702944  ... -0.485382  0.308014  1.103629  0.246506   \n",
       "\n",
       "        V24       V25       V26       V27       V28    Amount  \n",
       "0 -0.181829 -1.021451  0.417528 -0.388293 -0.466403 -0.426937  \n",
       "1 -0.773794 -1.449321 -1.001415 -0.100477 -0.336961  0.116982  \n",
       "2  1.608883 -1.551175  0.158620  0.901735  0.424868 -0.422228  \n",
       "3 -0.067352 -0.302912 -0.223754 -0.307748 -0.552913 -0.433436  \n",
       "4 -0.438073  0.329029 -0.554398  0.404124  0.022671 -0.433436  \n",
       "\n",
       "[5 rows x 30 columns]"
      ]
     },
     "execution_count": 13,
     "metadata": {},
     "output_type": "execute_result"
    }
   ],
   "source": [
    "X_train_scaled.head()"
   ]
  },
  {
   "cell_type": "code",
   "execution_count": 14,
   "id": "5e332431",
   "metadata": {
    "execution": {
     "iopub.execute_input": "2023-01-30T19:50:58.841969Z",
     "iopub.status.busy": "2023-01-30T19:50:58.841400Z",
     "iopub.status.idle": "2023-01-30T19:50:58.869491Z",
     "shell.execute_reply": "2023-01-30T19:50:58.868206Z"
    },
    "papermill": {
     "duration": 0.042513,
     "end_time": "2023-01-30T19:50:58.872168",
     "exception": false,
     "start_time": "2023-01-30T19:50:58.829655",
     "status": "completed"
    },
    "tags": []
   },
   "outputs": [
    {
     "data": {
      "text/html": [
       "<div>\n",
       "<style scoped>\n",
       "    .dataframe tbody tr th:only-of-type {\n",
       "        vertical-align: middle;\n",
       "    }\n",
       "\n",
       "    .dataframe tbody tr th {\n",
       "        vertical-align: top;\n",
       "    }\n",
       "\n",
       "    .dataframe thead th {\n",
       "        text-align: right;\n",
       "    }\n",
       "</style>\n",
       "<table border=\"1\" class=\"dataframe\">\n",
       "  <thead>\n",
       "    <tr style=\"text-align: right;\">\n",
       "      <th></th>\n",
       "      <th>Time</th>\n",
       "      <th>V1</th>\n",
       "      <th>V2</th>\n",
       "      <th>V3</th>\n",
       "      <th>V4</th>\n",
       "      <th>V5</th>\n",
       "      <th>V6</th>\n",
       "      <th>V7</th>\n",
       "      <th>V8</th>\n",
       "      <th>V9</th>\n",
       "      <th>...</th>\n",
       "      <th>V20</th>\n",
       "      <th>V21</th>\n",
       "      <th>V22</th>\n",
       "      <th>V23</th>\n",
       "      <th>V24</th>\n",
       "      <th>V25</th>\n",
       "      <th>V26</th>\n",
       "      <th>V27</th>\n",
       "      <th>V28</th>\n",
       "      <th>Amount</th>\n",
       "    </tr>\n",
       "  </thead>\n",
       "  <tbody>\n",
       "    <tr>\n",
       "      <th>0</th>\n",
       "      <td>2.271738</td>\n",
       "      <td>1.447241</td>\n",
       "      <td>-0.638173</td>\n",
       "      <td>-1.675036</td>\n",
       "      <td>-0.602438</td>\n",
       "      <td>-0.448525</td>\n",
       "      <td>-0.747227</td>\n",
       "      <td>-0.974097</td>\n",
       "      <td>-0.240939</td>\n",
       "      <td>-0.172452</td>\n",
       "      <td>...</td>\n",
       "      <td>0.131187</td>\n",
       "      <td>0.645192</td>\n",
       "      <td>1.226771</td>\n",
       "      <td>0.277521</td>\n",
       "      <td>-0.916993</td>\n",
       "      <td>-0.607417</td>\n",
       "      <td>-0.199994</td>\n",
       "      <td>-0.039913</td>\n",
       "      <td>-0.238127</td>\n",
       "      <td>-0.241453</td>\n",
       "    </tr>\n",
       "    <tr>\n",
       "      <th>1</th>\n",
       "      <td>2.271738</td>\n",
       "      <td>1.180659</td>\n",
       "      <td>-1.491439</td>\n",
       "      <td>-1.005833</td>\n",
       "      <td>-0.902056</td>\n",
       "      <td>-0.499539</td>\n",
       "      <td>1.933733</td>\n",
       "      <td>-1.841196</td>\n",
       "      <td>1.290116</td>\n",
       "      <td>1.059176</td>\n",
       "      <td>...</td>\n",
       "      <td>0.983074</td>\n",
       "      <td>1.358501</td>\n",
       "      <td>2.250585</td>\n",
       "      <td>1.131681</td>\n",
       "      <td>6.250089</td>\n",
       "      <td>-0.901276</td>\n",
       "      <td>0.124142</td>\n",
       "      <td>-0.048875</td>\n",
       "      <td>0.287380</td>\n",
       "      <td>0.644189</td>\n",
       "    </tr>\n",
       "    <tr>\n",
       "      <th>2</th>\n",
       "      <td>2.271738</td>\n",
       "      <td>1.511772</td>\n",
       "      <td>-1.396609</td>\n",
       "      <td>-0.733587</td>\n",
       "      <td>-1.381980</td>\n",
       "      <td>-1.393858</td>\n",
       "      <td>-0.156677</td>\n",
       "      <td>-1.901407</td>\n",
       "      <td>-0.061323</td>\n",
       "      <td>-1.071508</td>\n",
       "      <td>...</td>\n",
       "      <td>-0.856873</td>\n",
       "      <td>-0.237628</td>\n",
       "      <td>0.229965</td>\n",
       "      <td>1.074589</td>\n",
       "      <td>1.251192</td>\n",
       "      <td>-1.639897</td>\n",
       "      <td>-0.649327</td>\n",
       "      <td>0.127123</td>\n",
       "      <td>-0.334642</td>\n",
       "      <td>-0.333963</td>\n",
       "    </tr>\n",
       "    <tr>\n",
       "      <th>3</th>\n",
       "      <td>2.271738</td>\n",
       "      <td>1.357095</td>\n",
       "      <td>-0.880542</td>\n",
       "      <td>-2.233562</td>\n",
       "      <td>-1.204513</td>\n",
       "      <td>-0.004956</td>\n",
       "      <td>-0.771565</td>\n",
       "      <td>0.466362</td>\n",
       "      <td>-0.766985</td>\n",
       "      <td>2.018455</td>\n",
       "      <td>...</td>\n",
       "      <td>-0.133882</td>\n",
       "      <td>-0.116021</td>\n",
       "      <td>0.067113</td>\n",
       "      <td>0.037655</td>\n",
       "      <td>1.112501</td>\n",
       "      <td>0.539572</td>\n",
       "      <td>-1.345129</td>\n",
       "      <td>-0.164435</td>\n",
       "      <td>-0.324256</td>\n",
       "      <td>0.362216</td>\n",
       "    </tr>\n",
       "    <tr>\n",
       "      <th>4</th>\n",
       "      <td>2.271738</td>\n",
       "      <td>-1.461605</td>\n",
       "      <td>-1.480516</td>\n",
       "      <td>-0.201699</td>\n",
       "      <td>-0.835420</td>\n",
       "      <td>2.661300</td>\n",
       "      <td>-1.805850</td>\n",
       "      <td>0.205497</td>\n",
       "      <td>-0.277054</td>\n",
       "      <td>-0.221424</td>\n",
       "      <td>...</td>\n",
       "      <td>0.868946</td>\n",
       "      <td>0.270717</td>\n",
       "      <td>-0.428340</td>\n",
       "      <td>0.937704</td>\n",
       "      <td>-0.655552</td>\n",
       "      <td>-2.248910</td>\n",
       "      <td>-0.075101</td>\n",
       "      <td>1.357266</td>\n",
       "      <td>1.930292</td>\n",
       "      <td>-0.426937</td>\n",
       "    </tr>\n",
       "  </tbody>\n",
       "</table>\n",
       "<p>5 rows × 30 columns</p>\n",
       "</div>"
      ],
      "text/plain": [
       "       Time        V1        V2        V3        V4        V5        V6  \\\n",
       "0  2.271738  1.447241 -0.638173 -1.675036 -0.602438 -0.448525 -0.747227   \n",
       "1  2.271738  1.180659 -1.491439 -1.005833 -0.902056 -0.499539  1.933733   \n",
       "2  2.271738  1.511772 -1.396609 -0.733587 -1.381980 -1.393858 -0.156677   \n",
       "3  2.271738  1.357095 -0.880542 -2.233562 -1.204513 -0.004956 -0.771565   \n",
       "4  2.271738 -1.461605 -1.480516 -0.201699 -0.835420  2.661300 -1.805850   \n",
       "\n",
       "         V7        V8        V9  ...       V20       V21       V22       V23  \\\n",
       "0 -0.974097 -0.240939 -0.172452  ...  0.131187  0.645192  1.226771  0.277521   \n",
       "1 -1.841196  1.290116  1.059176  ...  0.983074  1.358501  2.250585  1.131681   \n",
       "2 -1.901407 -0.061323 -1.071508  ... -0.856873 -0.237628  0.229965  1.074589   \n",
       "3  0.466362 -0.766985  2.018455  ... -0.133882 -0.116021  0.067113  0.037655   \n",
       "4  0.205497 -0.277054 -0.221424  ...  0.868946  0.270717 -0.428340  0.937704   \n",
       "\n",
       "        V24       V25       V26       V27       V28    Amount  \n",
       "0 -0.916993 -0.607417 -0.199994 -0.039913 -0.238127 -0.241453  \n",
       "1  6.250089 -0.901276  0.124142 -0.048875  0.287380  0.644189  \n",
       "2  1.251192 -1.639897 -0.649327  0.127123 -0.334642 -0.333963  \n",
       "3  1.112501  0.539572 -1.345129 -0.164435 -0.324256  0.362216  \n",
       "4 -0.655552 -2.248910 -0.075101  1.357266  1.930292 -0.426937  \n",
       "\n",
       "[5 rows x 30 columns]"
      ]
     },
     "execution_count": 14,
     "metadata": {},
     "output_type": "execute_result"
    }
   ],
   "source": [
    "X_test_scaled.head()"
   ]
  },
  {
   "cell_type": "markdown",
   "id": "db686f20",
   "metadata": {
    "papermill": {
     "duration": 0.009669,
     "end_time": "2023-01-30T19:50:58.891909",
     "exception": false,
     "start_time": "2023-01-30T19:50:58.882240",
     "status": "completed"
    },
    "tags": []
   },
   "source": [
    "importing catboost"
   ]
  },
  {
   "cell_type": "code",
   "execution_count": 15,
   "id": "dabeb590",
   "metadata": {
    "execution": {
     "iopub.execute_input": "2023-01-30T19:50:58.914827Z",
     "iopub.status.busy": "2023-01-30T19:50:58.913016Z",
     "iopub.status.idle": "2023-01-30T19:50:59.047118Z",
     "shell.execute_reply": "2023-01-30T19:50:59.045560Z"
    },
    "papermill": {
     "duration": 0.148333,
     "end_time": "2023-01-30T19:50:59.050191",
     "exception": false,
     "start_time": "2023-01-30T19:50:58.901858",
     "status": "completed"
    },
    "tags": []
   },
   "outputs": [],
   "source": [
    "from xgboost import XGBClassifier\n"
   ]
  },
  {
   "cell_type": "markdown",
   "id": "184bb44f",
   "metadata": {
    "papermill": {
     "duration": 0.009625,
     "end_time": "2023-01-30T19:50:59.070095",
     "exception": false,
     "start_time": "2023-01-30T19:50:59.060470",
     "status": "completed"
    },
    "tags": []
   },
   "source": [
    "defining a classifier model"
   ]
  },
  {
   "cell_type": "code",
   "execution_count": 16,
   "id": "351514f7",
   "metadata": {
    "execution": {
     "iopub.execute_input": "2023-01-30T19:50:59.091976Z",
     "iopub.status.busy": "2023-01-30T19:50:59.091461Z",
     "iopub.status.idle": "2023-01-30T19:50:59.097051Z",
     "shell.execute_reply": "2023-01-30T19:50:59.095603Z"
    },
    "papermill": {
     "duration": 0.019739,
     "end_time": "2023-01-30T19:50:59.099744",
     "exception": false,
     "start_time": "2023-01-30T19:50:59.080005",
     "status": "completed"
    },
    "tags": []
   },
   "outputs": [],
   "source": [
    "model=XGBClassifier()"
   ]
  },
  {
   "cell_type": "code",
   "execution_count": 17,
   "id": "734307a6",
   "metadata": {
    "execution": {
     "iopub.execute_input": "2023-01-30T19:50:59.122746Z",
     "iopub.status.busy": "2023-01-30T19:50:59.121955Z",
     "iopub.status.idle": "2023-01-30T19:52:15.223857Z",
     "shell.execute_reply": "2023-01-30T19:52:15.222464Z"
    },
    "papermill": {
     "duration": 76.125756,
     "end_time": "2023-01-30T19:52:15.235642",
     "exception": false,
     "start_time": "2023-01-30T19:50:59.109886",
     "status": "completed"
    },
    "scrolled": true,
    "tags": []
   },
   "outputs": [
    {
     "data": {
      "text/plain": [
       "XGBClassifier(base_score=0.5, booster='gbtree', callbacks=None,\n",
       "              colsample_bylevel=1, colsample_bynode=1, colsample_bytree=1,\n",
       "              early_stopping_rounds=None, enable_categorical=False,\n",
       "              eval_metric=None, gamma=0, gpu_id=-1, grow_policy='depthwise',\n",
       "              importance_type=None, interaction_constraints='',\n",
       "              learning_rate=0.300000012, max_bin=256, max_cat_to_onehot=4,\n",
       "              max_delta_step=0, max_depth=6, max_leaves=0, min_child_weight=1,\n",
       "              missing=nan, monotone_constraints='()', n_estimators=100,\n",
       "              n_jobs=0, num_parallel_tree=1, predictor='auto', random_state=0,\n",
       "              reg_alpha=0, reg_lambda=1, ...)"
      ]
     },
     "execution_count": 17,
     "metadata": {},
     "output_type": "execute_result"
    }
   ],
   "source": [
    "model.fit(X_train_scaled,y_train)"
   ]
  },
  {
   "cell_type": "markdown",
   "id": "4530d91a",
   "metadata": {
    "papermill": {
     "duration": 0.009804,
     "end_time": "2023-01-30T19:52:15.255693",
     "exception": false,
     "start_time": "2023-01-30T19:52:15.245889",
     "status": "completed"
    },
    "tags": []
   },
   "source": [
    "predicting values using the fitted model"
   ]
  },
  {
   "cell_type": "code",
   "execution_count": 18,
   "id": "6d97af52",
   "metadata": {
    "execution": {
     "iopub.execute_input": "2023-01-30T19:52:15.277986Z",
     "iopub.status.busy": "2023-01-30T19:52:15.277097Z",
     "iopub.status.idle": "2023-01-30T19:52:15.464230Z",
     "shell.execute_reply": "2023-01-30T19:52:15.463207Z"
    },
    "papermill": {
     "duration": 0.201528,
     "end_time": "2023-01-30T19:52:15.467263",
     "exception": false,
     "start_time": "2023-01-30T19:52:15.265735",
     "status": "completed"
    },
    "tags": []
   },
   "outputs": [],
   "source": [
    "pred=model.predict(X_test_scaled)"
   ]
  },
  {
   "cell_type": "code",
   "execution_count": 19,
   "id": "8ad75846",
   "metadata": {
    "execution": {
     "iopub.execute_input": "2023-01-30T19:52:15.492520Z",
     "iopub.status.busy": "2023-01-30T19:52:15.492032Z",
     "iopub.status.idle": "2023-01-30T19:52:15.652864Z",
     "shell.execute_reply": "2023-01-30T19:52:15.651054Z"
    },
    "papermill": {
     "duration": 0.176585,
     "end_time": "2023-01-30T19:52:15.656440",
     "exception": false,
     "start_time": "2023-01-30T19:52:15.479855",
     "status": "completed"
    },
    "tags": []
   },
   "outputs": [
    {
     "name": "stdout",
     "output_type": "stream",
     "text": [
      "Submission successful\n"
     ]
    }
   ],
   "source": [
    "output=pd.DataFrame({'id':test_data['id'],'Class':pred})\n",
    "output.to_csv('submission.csv',index=False)\n",
    "print('Submission successful')"
   ]
  },
  {
   "cell_type": "code",
   "execution_count": 20,
   "id": "0a328feb",
   "metadata": {
    "execution": {
     "iopub.execute_input": "2023-01-30T19:52:15.678748Z",
     "iopub.status.busy": "2023-01-30T19:52:15.678283Z",
     "iopub.status.idle": "2023-01-30T19:52:15.689406Z",
     "shell.execute_reply": "2023-01-30T19:52:15.687872Z"
    },
    "papermill": {
     "duration": 0.025444,
     "end_time": "2023-01-30T19:52:15.692268",
     "exception": false,
     "start_time": "2023-01-30T19:52:15.666824",
     "status": "completed"
    },
    "tags": []
   },
   "outputs": [
    {
     "data": {
      "text/html": [
       "<div>\n",
       "<style scoped>\n",
       "    .dataframe tbody tr th:only-of-type {\n",
       "        vertical-align: middle;\n",
       "    }\n",
       "\n",
       "    .dataframe tbody tr th {\n",
       "        vertical-align: top;\n",
       "    }\n",
       "\n",
       "    .dataframe thead th {\n",
       "        text-align: right;\n",
       "    }\n",
       "</style>\n",
       "<table border=\"1\" class=\"dataframe\">\n",
       "  <thead>\n",
       "    <tr style=\"text-align: right;\">\n",
       "      <th></th>\n",
       "      <th>id</th>\n",
       "      <th>Class</th>\n",
       "    </tr>\n",
       "  </thead>\n",
       "  <tbody>\n",
       "    <tr>\n",
       "      <th>0</th>\n",
       "      <td>219129</td>\n",
       "      <td>0</td>\n",
       "    </tr>\n",
       "    <tr>\n",
       "      <th>1</th>\n",
       "      <td>219130</td>\n",
       "      <td>0</td>\n",
       "    </tr>\n",
       "    <tr>\n",
       "      <th>2</th>\n",
       "      <td>219131</td>\n",
       "      <td>0</td>\n",
       "    </tr>\n",
       "    <tr>\n",
       "      <th>3</th>\n",
       "      <td>219132</td>\n",
       "      <td>0</td>\n",
       "    </tr>\n",
       "    <tr>\n",
       "      <th>4</th>\n",
       "      <td>219133</td>\n",
       "      <td>0</td>\n",
       "    </tr>\n",
       "  </tbody>\n",
       "</table>\n",
       "</div>"
      ],
      "text/plain": [
       "       id  Class\n",
       "0  219129      0\n",
       "1  219130      0\n",
       "2  219131      0\n",
       "3  219132      0\n",
       "4  219133      0"
      ]
     },
     "execution_count": 20,
     "metadata": {},
     "output_type": "execute_result"
    }
   ],
   "source": [
    "output.head()"
   ]
  },
  {
   "cell_type": "markdown",
   "id": "345d1655",
   "metadata": {
    "papermill": {
     "duration": 0.009688,
     "end_time": "2023-01-30T19:52:15.712030",
     "exception": false,
     "start_time": "2023-01-30T19:52:15.702342",
     "status": "completed"
    },
    "tags": []
   },
   "source": [
    "**first submission.**"
   ]
  },
  {
   "cell_type": "code",
   "execution_count": null,
   "id": "e4319c08",
   "metadata": {
    "papermill": {
     "duration": 0.009595,
     "end_time": "2023-01-30T19:52:15.731603",
     "exception": false,
     "start_time": "2023-01-30T19:52:15.722008",
     "status": "completed"
    },
    "tags": []
   },
   "outputs": [],
   "source": []
  }
 ],
 "metadata": {
  "kernelspec": {
   "display_name": "Python 3",
   "language": "python",
   "name": "python3"
  },
  "language_info": {
   "codemirror_mode": {
    "name": "ipython",
    "version": 3
   },
   "file_extension": ".py",
   "mimetype": "text/x-python",
   "name": "python",
   "nbconvert_exporter": "python",
   "pygments_lexer": "ipython3",
   "version": "3.7.12"
  },
  "papermill": {
   "default_parameters": {},
   "duration": 145.814729,
   "end_time": "2023-01-30T19:52:16.666807",
   "environment_variables": {},
   "exception": null,
   "input_path": "__notebook__.ipynb",
   "output_path": "__notebook__.ipynb",
   "parameters": {},
   "start_time": "2023-01-30T19:49:50.852078",
   "version": "2.3.4"
  }
 },
 "nbformat": 4,
 "nbformat_minor": 5
}
