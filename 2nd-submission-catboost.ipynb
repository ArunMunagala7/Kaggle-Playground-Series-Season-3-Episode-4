{
 "cells": [
  {
   "cell_type": "code",
   "execution_count": 1,
   "id": "6f8944af",
   "metadata": {
    "_cell_guid": "b1076dfc-b9ad-4769-8c92-a6c4dae69d19",
    "_uuid": "8f2839f25d086af736a60e9eeb907d3b93b6e0e5",
    "execution": {
     "iopub.execute_input": "2023-01-30T19:43:36.931103Z",
     "iopub.status.busy": "2023-01-30T19:43:36.930711Z",
     "iopub.status.idle": "2023-01-30T19:43:36.944002Z",
     "shell.execute_reply": "2023-01-30T19:43:36.942764Z"
    },
    "papermill": {
     "duration": 0.025893,
     "end_time": "2023-01-30T19:43:36.947737",
     "exception": false,
     "start_time": "2023-01-30T19:43:36.921844",
     "status": "completed"
    },
    "tags": []
   },
   "outputs": [
    {
     "name": "stdout",
     "output_type": "stream",
     "text": [
      "/kaggle/input/playground-series-s3e4/sample_submission.csv\n",
      "/kaggle/input/playground-series-s3e4/train.csv\n",
      "/kaggle/input/playground-series-s3e4/test.csv\n"
     ]
    }
   ],
   "source": [
    "# This Python 3 environment comes with many helpful analytics libraries installed\n",
    "# It is defined by the kaggle/python Docker image: https://github.com/kaggle/docker-python\n",
    "# For example, here's several helpful packages to load\n",
    "\n",
    "import numpy as np # linear algebra\n",
    "import pandas as pd # data processing, CSV file I/O (e.g. pd.read_csv)\n",
    "\n",
    "# Input data files are available in the read-only \"../input/\" directory\n",
    "# For example, running this (by clicking run or pressing Shift+Enter) will list all files under the input directory\n",
    "\n",
    "import os\n",
    "for dirname, _, filenames in os.walk('/kaggle/input'):\n",
    "    for filename in filenames:\n",
    "        print(os.path.join(dirname, filename))\n",
    "\n",
    "# You can write up to 20GB to the current directory (/kaggle/working/) that gets preserved as output when you create a version using \"Save & Run All\" \n",
    "# You can also write temporary files to /kaggle/temp/, but they won't be saved outside of the current session"
   ]
  },
  {
   "cell_type": "markdown",
   "id": "00045ee2",
   "metadata": {
    "papermill": {
     "duration": 0.006201,
     "end_time": "2023-01-30T19:43:36.961267",
     "exception": false,
     "start_time": "2023-01-30T19:43:36.955066",
     "status": "completed"
    },
    "tags": []
   },
   "source": [
    "importing the necessary data"
   ]
  },
  {
   "cell_type": "code",
   "execution_count": 2,
   "id": "76e202b4",
   "metadata": {
    "execution": {
     "iopub.execute_input": "2023-01-30T19:43:36.976957Z",
     "iopub.status.busy": "2023-01-30T19:43:36.976314Z",
     "iopub.status.idle": "2023-01-30T19:43:42.212358Z",
     "shell.execute_reply": "2023-01-30T19:43:42.210686Z"
    },
    "papermill": {
     "duration": 5.247308,
     "end_time": "2023-01-30T19:43:42.214894",
     "exception": false,
     "start_time": "2023-01-30T19:43:36.967586",
     "status": "completed"
    },
    "tags": []
   },
   "outputs": [],
   "source": [
    "train_data=pd.read_csv('/kaggle/input/playground-series-s3e4/train.csv')\n",
    "test_data=pd.read_csv('/kaggle/input/playground-series-s3e4/test.csv')"
   ]
  },
  {
   "cell_type": "markdown",
   "id": "1478b9ed",
   "metadata": {
    "papermill": {
     "duration": 0.007367,
     "end_time": "2023-01-30T19:43:42.229829",
     "exception": false,
     "start_time": "2023-01-30T19:43:42.222462",
     "status": "completed"
    },
    "tags": []
   },
   "source": []
  },
  {
   "cell_type": "code",
   "execution_count": 3,
   "id": "974b65a9",
   "metadata": {
    "execution": {
     "iopub.execute_input": "2023-01-30T19:43:42.244470Z",
     "iopub.status.busy": "2023-01-30T19:43:42.244146Z",
     "iopub.status.idle": "2023-01-30T19:43:42.299899Z",
     "shell.execute_reply": "2023-01-30T19:43:42.298266Z"
    },
    "papermill": {
     "duration": 0.06584,
     "end_time": "2023-01-30T19:43:42.302347",
     "exception": false,
     "start_time": "2023-01-30T19:43:42.236507",
     "status": "completed"
    },
    "tags": []
   },
   "outputs": [
    {
     "data": {
      "text/html": [
       "<div>\n",
       "<style scoped>\n",
       "    .dataframe tbody tr th:only-of-type {\n",
       "        vertical-align: middle;\n",
       "    }\n",
       "\n",
       "    .dataframe tbody tr th {\n",
       "        vertical-align: top;\n",
       "    }\n",
       "\n",
       "    .dataframe thead th {\n",
       "        text-align: right;\n",
       "    }\n",
       "</style>\n",
       "<table border=\"1\" class=\"dataframe\">\n",
       "  <thead>\n",
       "    <tr style=\"text-align: right;\">\n",
       "      <th></th>\n",
       "      <th>id</th>\n",
       "      <th>Time</th>\n",
       "      <th>V1</th>\n",
       "      <th>V2</th>\n",
       "      <th>V3</th>\n",
       "      <th>V4</th>\n",
       "      <th>V5</th>\n",
       "      <th>V6</th>\n",
       "      <th>V7</th>\n",
       "      <th>V8</th>\n",
       "      <th>...</th>\n",
       "      <th>V20</th>\n",
       "      <th>V21</th>\n",
       "      <th>V22</th>\n",
       "      <th>V23</th>\n",
       "      <th>V24</th>\n",
       "      <th>V25</th>\n",
       "      <th>V26</th>\n",
       "      <th>V27</th>\n",
       "      <th>V28</th>\n",
       "      <th>Amount</th>\n",
       "    </tr>\n",
       "  </thead>\n",
       "  <tbody>\n",
       "    <tr>\n",
       "      <th>0</th>\n",
       "      <td>0</td>\n",
       "      <td>0.0</td>\n",
       "      <td>2.074329</td>\n",
       "      <td>-0.129425</td>\n",
       "      <td>-1.137418</td>\n",
       "      <td>0.412846</td>\n",
       "      <td>-0.192638</td>\n",
       "      <td>-1.210144</td>\n",
       "      <td>0.110697</td>\n",
       "      <td>-0.263477</td>\n",
       "      <td>...</td>\n",
       "      <td>-0.292969</td>\n",
       "      <td>-0.334701</td>\n",
       "      <td>-0.887840</td>\n",
       "      <td>0.336701</td>\n",
       "      <td>-0.110835</td>\n",
       "      <td>-0.291459</td>\n",
       "      <td>0.207733</td>\n",
       "      <td>-0.076576</td>\n",
       "      <td>-0.059577</td>\n",
       "      <td>1.98</td>\n",
       "    </tr>\n",
       "    <tr>\n",
       "      <th>1</th>\n",
       "      <td>1</td>\n",
       "      <td>0.0</td>\n",
       "      <td>1.998827</td>\n",
       "      <td>-1.250891</td>\n",
       "      <td>-0.520969</td>\n",
       "      <td>-0.894539</td>\n",
       "      <td>-1.122528</td>\n",
       "      <td>-0.270866</td>\n",
       "      <td>-1.029289</td>\n",
       "      <td>0.050198</td>\n",
       "      <td>...</td>\n",
       "      <td>0.065717</td>\n",
       "      <td>0.054848</td>\n",
       "      <td>-0.038367</td>\n",
       "      <td>0.133518</td>\n",
       "      <td>-0.461928</td>\n",
       "      <td>-0.465491</td>\n",
       "      <td>-0.464655</td>\n",
       "      <td>-0.009413</td>\n",
       "      <td>-0.038238</td>\n",
       "      <td>84.00</td>\n",
       "    </tr>\n",
       "    <tr>\n",
       "      <th>2</th>\n",
       "      <td>2</td>\n",
       "      <td>0.0</td>\n",
       "      <td>0.091535</td>\n",
       "      <td>1.004517</td>\n",
       "      <td>-0.223445</td>\n",
       "      <td>-0.435249</td>\n",
       "      <td>0.667548</td>\n",
       "      <td>-0.988351</td>\n",
       "      <td>0.948146</td>\n",
       "      <td>-0.084789</td>\n",
       "      <td>...</td>\n",
       "      <td>-0.021375</td>\n",
       "      <td>-0.326725</td>\n",
       "      <td>-0.803736</td>\n",
       "      <td>0.154495</td>\n",
       "      <td>0.951233</td>\n",
       "      <td>-0.506919</td>\n",
       "      <td>0.085046</td>\n",
       "      <td>0.224458</td>\n",
       "      <td>0.087356</td>\n",
       "      <td>2.69</td>\n",
       "    </tr>\n",
       "    <tr>\n",
       "      <th>3</th>\n",
       "      <td>3</td>\n",
       "      <td>0.0</td>\n",
       "      <td>1.979649</td>\n",
       "      <td>-0.184949</td>\n",
       "      <td>-1.064206</td>\n",
       "      <td>0.120125</td>\n",
       "      <td>-0.215238</td>\n",
       "      <td>-0.648829</td>\n",
       "      <td>-0.087826</td>\n",
       "      <td>-0.035367</td>\n",
       "      <td>...</td>\n",
       "      <td>-0.340089</td>\n",
       "      <td>-0.095514</td>\n",
       "      <td>-0.079792</td>\n",
       "      <td>0.167701</td>\n",
       "      <td>-0.042939</td>\n",
       "      <td>0.000799</td>\n",
       "      <td>-0.096148</td>\n",
       "      <td>-0.057780</td>\n",
       "      <td>-0.073839</td>\n",
       "      <td>1.00</td>\n",
       "    </tr>\n",
       "    <tr>\n",
       "      <th>4</th>\n",
       "      <td>4</td>\n",
       "      <td>0.0</td>\n",
       "      <td>1.025898</td>\n",
       "      <td>-0.171827</td>\n",
       "      <td>1.203717</td>\n",
       "      <td>1.243900</td>\n",
       "      <td>-0.636572</td>\n",
       "      <td>1.099074</td>\n",
       "      <td>-0.938651</td>\n",
       "      <td>0.569239</td>\n",
       "      <td>...</td>\n",
       "      <td>-0.203628</td>\n",
       "      <td>0.099157</td>\n",
       "      <td>0.608908</td>\n",
       "      <td>0.027901</td>\n",
       "      <td>-0.262813</td>\n",
       "      <td>0.257834</td>\n",
       "      <td>-0.252829</td>\n",
       "      <td>0.108338</td>\n",
       "      <td>0.021051</td>\n",
       "      <td>1.00</td>\n",
       "    </tr>\n",
       "  </tbody>\n",
       "</table>\n",
       "<p>5 rows × 31 columns</p>\n",
       "</div>"
      ],
      "text/plain": [
       "   id  Time        V1        V2        V3        V4        V5        V6  \\\n",
       "0   0   0.0  2.074329 -0.129425 -1.137418  0.412846 -0.192638 -1.210144   \n",
       "1   1   0.0  1.998827 -1.250891 -0.520969 -0.894539 -1.122528 -0.270866   \n",
       "2   2   0.0  0.091535  1.004517 -0.223445 -0.435249  0.667548 -0.988351   \n",
       "3   3   0.0  1.979649 -0.184949 -1.064206  0.120125 -0.215238 -0.648829   \n",
       "4   4   0.0  1.025898 -0.171827  1.203717  1.243900 -0.636572  1.099074   \n",
       "\n",
       "         V7        V8  ...       V20       V21       V22       V23       V24  \\\n",
       "0  0.110697 -0.263477  ... -0.292969 -0.334701 -0.887840  0.336701 -0.110835   \n",
       "1 -1.029289  0.050198  ...  0.065717  0.054848 -0.038367  0.133518 -0.461928   \n",
       "2  0.948146 -0.084789  ... -0.021375 -0.326725 -0.803736  0.154495  0.951233   \n",
       "3 -0.087826 -0.035367  ... -0.340089 -0.095514 -0.079792  0.167701 -0.042939   \n",
       "4 -0.938651  0.569239  ... -0.203628  0.099157  0.608908  0.027901 -0.262813   \n",
       "\n",
       "        V25       V26       V27       V28  Amount  \n",
       "0 -0.291459  0.207733 -0.076576 -0.059577    1.98  \n",
       "1 -0.465491 -0.464655 -0.009413 -0.038238   84.00  \n",
       "2 -0.506919  0.085046  0.224458  0.087356    2.69  \n",
       "3  0.000799 -0.096148 -0.057780 -0.073839    1.00  \n",
       "4  0.257834 -0.252829  0.108338  0.021051    1.00  \n",
       "\n",
       "[5 rows x 31 columns]"
      ]
     },
     "execution_count": 3,
     "metadata": {},
     "output_type": "execute_result"
    }
   ],
   "source": [
    "X_train=train_data.drop('Class',axis=1)\n",
    "y_train=train_data['Class']\n",
    "X_train.head()"
   ]
  },
  {
   "cell_type": "code",
   "execution_count": 4,
   "id": "ac9cf745",
   "metadata": {
    "execution": {
     "iopub.execute_input": "2023-01-30T19:43:42.317976Z",
     "iopub.status.busy": "2023-01-30T19:43:42.317628Z",
     "iopub.status.idle": "2023-01-30T19:43:42.326445Z",
     "shell.execute_reply": "2023-01-30T19:43:42.325103Z"
    },
    "papermill": {
     "duration": 0.019578,
     "end_time": "2023-01-30T19:43:42.329082",
     "exception": false,
     "start_time": "2023-01-30T19:43:42.309504",
     "status": "completed"
    },
    "tags": []
   },
   "outputs": [
    {
     "data": {
      "text/plain": [
       "0    0\n",
       "1    0\n",
       "2    0\n",
       "3    0\n",
       "4    0\n",
       "Name: Class, dtype: int64"
      ]
     },
     "execution_count": 4,
     "metadata": {},
     "output_type": "execute_result"
    }
   ],
   "source": [
    "y_train.head()"
   ]
  },
  {
   "cell_type": "markdown",
   "id": "54005d73",
   "metadata": {
    "papermill": {
     "duration": 0.006875,
     "end_time": "2023-01-30T19:43:42.342979",
     "exception": false,
     "start_time": "2023-01-30T19:43:42.336104",
     "status": "completed"
    },
    "tags": []
   },
   "source": [
    "dropping id for the training"
   ]
  },
  {
   "cell_type": "code",
   "execution_count": 5,
   "id": "7cd2ed38",
   "metadata": {
    "execution": {
     "iopub.execute_input": "2023-01-30T19:43:42.359569Z",
     "iopub.status.busy": "2023-01-30T19:43:42.359237Z",
     "iopub.status.idle": "2023-01-30T19:43:42.410526Z",
     "shell.execute_reply": "2023-01-30T19:43:42.409036Z"
    },
    "papermill": {
     "duration": 0.061837,
     "end_time": "2023-01-30T19:43:42.412606",
     "exception": false,
     "start_time": "2023-01-30T19:43:42.350769",
     "status": "completed"
    },
    "tags": []
   },
   "outputs": [
    {
     "data": {
      "text/html": [
       "<div>\n",
       "<style scoped>\n",
       "    .dataframe tbody tr th:only-of-type {\n",
       "        vertical-align: middle;\n",
       "    }\n",
       "\n",
       "    .dataframe tbody tr th {\n",
       "        vertical-align: top;\n",
       "    }\n",
       "\n",
       "    .dataframe thead th {\n",
       "        text-align: right;\n",
       "    }\n",
       "</style>\n",
       "<table border=\"1\" class=\"dataframe\">\n",
       "  <thead>\n",
       "    <tr style=\"text-align: right;\">\n",
       "      <th></th>\n",
       "      <th>Time</th>\n",
       "      <th>V1</th>\n",
       "      <th>V2</th>\n",
       "      <th>V3</th>\n",
       "      <th>V4</th>\n",
       "      <th>V5</th>\n",
       "      <th>V6</th>\n",
       "      <th>V7</th>\n",
       "      <th>V8</th>\n",
       "      <th>V9</th>\n",
       "      <th>...</th>\n",
       "      <th>V20</th>\n",
       "      <th>V21</th>\n",
       "      <th>V22</th>\n",
       "      <th>V23</th>\n",
       "      <th>V24</th>\n",
       "      <th>V25</th>\n",
       "      <th>V26</th>\n",
       "      <th>V27</th>\n",
       "      <th>V28</th>\n",
       "      <th>Amount</th>\n",
       "    </tr>\n",
       "  </thead>\n",
       "  <tbody>\n",
       "    <tr>\n",
       "      <th>0</th>\n",
       "      <td>0.0</td>\n",
       "      <td>2.074329</td>\n",
       "      <td>-0.129425</td>\n",
       "      <td>-1.137418</td>\n",
       "      <td>0.412846</td>\n",
       "      <td>-0.192638</td>\n",
       "      <td>-1.210144</td>\n",
       "      <td>0.110697</td>\n",
       "      <td>-0.263477</td>\n",
       "      <td>0.742144</td>\n",
       "      <td>...</td>\n",
       "      <td>-0.292969</td>\n",
       "      <td>-0.334701</td>\n",
       "      <td>-0.887840</td>\n",
       "      <td>0.336701</td>\n",
       "      <td>-0.110835</td>\n",
       "      <td>-0.291459</td>\n",
       "      <td>0.207733</td>\n",
       "      <td>-0.076576</td>\n",
       "      <td>-0.059577</td>\n",
       "      <td>1.98</td>\n",
       "    </tr>\n",
       "    <tr>\n",
       "      <th>1</th>\n",
       "      <td>0.0</td>\n",
       "      <td>1.998827</td>\n",
       "      <td>-1.250891</td>\n",
       "      <td>-0.520969</td>\n",
       "      <td>-0.894539</td>\n",
       "      <td>-1.122528</td>\n",
       "      <td>-0.270866</td>\n",
       "      <td>-1.029289</td>\n",
       "      <td>0.050198</td>\n",
       "      <td>-0.109948</td>\n",
       "      <td>...</td>\n",
       "      <td>0.065717</td>\n",
       "      <td>0.054848</td>\n",
       "      <td>-0.038367</td>\n",
       "      <td>0.133518</td>\n",
       "      <td>-0.461928</td>\n",
       "      <td>-0.465491</td>\n",
       "      <td>-0.464655</td>\n",
       "      <td>-0.009413</td>\n",
       "      <td>-0.038238</td>\n",
       "      <td>84.00</td>\n",
       "    </tr>\n",
       "    <tr>\n",
       "      <th>2</th>\n",
       "      <td>0.0</td>\n",
       "      <td>0.091535</td>\n",
       "      <td>1.004517</td>\n",
       "      <td>-0.223445</td>\n",
       "      <td>-0.435249</td>\n",
       "      <td>0.667548</td>\n",
       "      <td>-0.988351</td>\n",
       "      <td>0.948146</td>\n",
       "      <td>-0.084789</td>\n",
       "      <td>-0.042027</td>\n",
       "      <td>...</td>\n",
       "      <td>-0.021375</td>\n",
       "      <td>-0.326725</td>\n",
       "      <td>-0.803736</td>\n",
       "      <td>0.154495</td>\n",
       "      <td>0.951233</td>\n",
       "      <td>-0.506919</td>\n",
       "      <td>0.085046</td>\n",
       "      <td>0.224458</td>\n",
       "      <td>0.087356</td>\n",
       "      <td>2.69</td>\n",
       "    </tr>\n",
       "    <tr>\n",
       "      <th>3</th>\n",
       "      <td>0.0</td>\n",
       "      <td>1.979649</td>\n",
       "      <td>-0.184949</td>\n",
       "      <td>-1.064206</td>\n",
       "      <td>0.120125</td>\n",
       "      <td>-0.215238</td>\n",
       "      <td>-0.648829</td>\n",
       "      <td>-0.087826</td>\n",
       "      <td>-0.035367</td>\n",
       "      <td>0.885838</td>\n",
       "      <td>...</td>\n",
       "      <td>-0.340089</td>\n",
       "      <td>-0.095514</td>\n",
       "      <td>-0.079792</td>\n",
       "      <td>0.167701</td>\n",
       "      <td>-0.042939</td>\n",
       "      <td>0.000799</td>\n",
       "      <td>-0.096148</td>\n",
       "      <td>-0.057780</td>\n",
       "      <td>-0.073839</td>\n",
       "      <td>1.00</td>\n",
       "    </tr>\n",
       "    <tr>\n",
       "      <th>4</th>\n",
       "      <td>0.0</td>\n",
       "      <td>1.025898</td>\n",
       "      <td>-0.171827</td>\n",
       "      <td>1.203717</td>\n",
       "      <td>1.243900</td>\n",
       "      <td>-0.636572</td>\n",
       "      <td>1.099074</td>\n",
       "      <td>-0.938651</td>\n",
       "      <td>0.569239</td>\n",
       "      <td>0.692665</td>\n",
       "      <td>...</td>\n",
       "      <td>-0.203628</td>\n",
       "      <td>0.099157</td>\n",
       "      <td>0.608908</td>\n",
       "      <td>0.027901</td>\n",
       "      <td>-0.262813</td>\n",
       "      <td>0.257834</td>\n",
       "      <td>-0.252829</td>\n",
       "      <td>0.108338</td>\n",
       "      <td>0.021051</td>\n",
       "      <td>1.00</td>\n",
       "    </tr>\n",
       "  </tbody>\n",
       "</table>\n",
       "<p>5 rows × 30 columns</p>\n",
       "</div>"
      ],
      "text/plain": [
       "   Time        V1        V2        V3        V4        V5        V6        V7  \\\n",
       "0   0.0  2.074329 -0.129425 -1.137418  0.412846 -0.192638 -1.210144  0.110697   \n",
       "1   0.0  1.998827 -1.250891 -0.520969 -0.894539 -1.122528 -0.270866 -1.029289   \n",
       "2   0.0  0.091535  1.004517 -0.223445 -0.435249  0.667548 -0.988351  0.948146   \n",
       "3   0.0  1.979649 -0.184949 -1.064206  0.120125 -0.215238 -0.648829 -0.087826   \n",
       "4   0.0  1.025898 -0.171827  1.203717  1.243900 -0.636572  1.099074 -0.938651   \n",
       "\n",
       "         V8        V9  ...       V20       V21       V22       V23       V24  \\\n",
       "0 -0.263477  0.742144  ... -0.292969 -0.334701 -0.887840  0.336701 -0.110835   \n",
       "1  0.050198 -0.109948  ...  0.065717  0.054848 -0.038367  0.133518 -0.461928   \n",
       "2 -0.084789 -0.042027  ... -0.021375 -0.326725 -0.803736  0.154495  0.951233   \n",
       "3 -0.035367  0.885838  ... -0.340089 -0.095514 -0.079792  0.167701 -0.042939   \n",
       "4  0.569239  0.692665  ... -0.203628  0.099157  0.608908  0.027901 -0.262813   \n",
       "\n",
       "        V25       V26       V27       V28  Amount  \n",
       "0 -0.291459  0.207733 -0.076576 -0.059577    1.98  \n",
       "1 -0.465491 -0.464655 -0.009413 -0.038238   84.00  \n",
       "2 -0.506919  0.085046  0.224458  0.087356    2.69  \n",
       "3  0.000799 -0.096148 -0.057780 -0.073839    1.00  \n",
       "4  0.257834 -0.252829  0.108338  0.021051    1.00  \n",
       "\n",
       "[5 rows x 30 columns]"
      ]
     },
     "execution_count": 5,
     "metadata": {},
     "output_type": "execute_result"
    }
   ],
   "source": [
    "X_train1=X_train.copy()\n",
    "X_train=X_train.drop('id',axis=1)\n",
    "X_train.head()"
   ]
  },
  {
   "cell_type": "markdown",
   "id": "a3cabbec",
   "metadata": {
    "papermill": {
     "duration": 0.006776,
     "end_time": "2023-01-30T19:43:42.426983",
     "exception": false,
     "start_time": "2023-01-30T19:43:42.420207",
     "status": "completed"
    },
    "tags": []
   },
   "source": [
    "using mutual information to find the information gain needed"
   ]
  },
  {
   "cell_type": "code",
   "execution_count": 6,
   "id": "c060bd0f",
   "metadata": {
    "execution": {
     "iopub.execute_input": "2023-01-30T19:43:42.443503Z",
     "iopub.status.busy": "2023-01-30T19:43:42.443156Z",
     "iopub.status.idle": "2023-01-30T19:43:42.450175Z",
     "shell.execute_reply": "2023-01-30T19:43:42.448252Z"
    },
    "papermill": {
     "duration": 0.019046,
     "end_time": "2023-01-30T19:43:42.453058",
     "exception": false,
     "start_time": "2023-01-30T19:43:42.434012",
     "status": "completed"
    },
    "tags": []
   },
   "outputs": [
    {
     "name": "stdout",
     "output_type": "stream",
     "text": [
      "['Time', 'V1', 'V2', 'V3', 'V4', 'V5', 'V6', 'V7', 'V8', 'V9', 'V10', 'V11', 'V12', 'V13', 'V14', 'V15', 'V16', 'V17', 'V18', 'V19', 'V20', 'V21', 'V22', 'V23', 'V24', 'V25', 'V26', 'V27', 'V28', 'Amount']\n"
     ]
    }
   ],
   "source": [
    "discrete_features=list(X_train.columns)\n",
    "print(discrete_features)"
   ]
  },
  {
   "cell_type": "markdown",
   "id": "7f3a07c6",
   "metadata": {
    "papermill": {
     "duration": 0.007062,
     "end_time": "2023-01-30T19:43:42.467832",
     "exception": false,
     "start_time": "2023-01-30T19:43:42.460770",
     "status": "completed"
    },
    "tags": []
   },
   "source": [
    "using mutual info classif to find the best features for training the target features"
   ]
  },
  {
   "cell_type": "code",
   "execution_count": 7,
   "id": "d06ffa39",
   "metadata": {
    "execution": {
     "iopub.execute_input": "2023-01-30T19:43:42.484488Z",
     "iopub.status.busy": "2023-01-30T19:43:42.484108Z",
     "iopub.status.idle": "2023-01-30T19:44:20.316408Z",
     "shell.execute_reply": "2023-01-30T19:44:20.315092Z"
    },
    "papermill": {
     "duration": 37.849459,
     "end_time": "2023-01-30T19:44:20.324837",
     "exception": false,
     "start_time": "2023-01-30T19:43:42.475378",
     "status": "completed"
    },
    "tags": []
   },
   "outputs": [
    {
     "data": {
      "text/plain": [
       "V14       0.001194\n",
       "V17       0.001126\n",
       "V2        0.000986\n",
       "V3        0.000958\n",
       "V10       0.000794\n",
       "V21       0.000788\n",
       "V7        0.000726\n",
       "Amount    0.000713\n",
       "V8        0.000692\n",
       "V11       0.000675\n",
       "V1        0.000580\n",
       "V4        0.000548\n",
       "V5        0.000544\n",
       "V18       0.000518\n",
       "V12       0.000504\n",
       "V6        0.000489\n",
       "V16       0.000475\n",
       "V20       0.000425\n",
       "V23       0.000409\n",
       "V27       0.000390\n",
       "V28       0.000385\n",
       "V9        0.000248\n",
       "V22       0.000231\n",
       "Time      0.000182\n",
       "V26       0.000083\n",
       "V25       0.000077\n",
       "V24       0.000075\n",
       "V13       0.000063\n",
       "V15       0.000045\n",
       "V19       0.000027\n",
       "Name: MI Scores, dtype: float64"
      ]
     },
     "execution_count": 7,
     "metadata": {},
     "output_type": "execute_result"
    }
   ],
   "source": [
    "from sklearn.feature_selection import mutual_info_classif\n",
    "\n",
    "def make_mi_scores(X_train,y_train):\n",
    "    mi_scores = mutual_info_classif(X_train,y_train)\n",
    "    mi_scores = pd.Series(mi_scores, name=\"MI Scores\", index=X_train.columns)\n",
    "    mi_scores = mi_scores.sort_values(ascending=False)\n",
    "    return mi_scores\n",
    "\n",
    "mi_scores = make_mi_scores(X_train,y_train)\n",
    "mi_scores"
   ]
  },
  {
   "cell_type": "markdown",
   "id": "e1b9806e",
   "metadata": {
    "papermill": {
     "duration": 0.007094,
     "end_time": "2023-01-30T19:44:20.339309",
     "exception": false,
     "start_time": "2023-01-30T19:44:20.332215",
     "status": "completed"
    },
    "tags": []
   },
   "source": [
    "lets try to plot all the mutual information scores and obtain a specific threshold "
   ]
  },
  {
   "cell_type": "code",
   "execution_count": 8,
   "id": "62f00362",
   "metadata": {
    "execution": {
     "iopub.execute_input": "2023-01-30T19:44:20.356030Z",
     "iopub.status.busy": "2023-01-30T19:44:20.355608Z",
     "iopub.status.idle": "2023-01-30T19:44:20.590743Z",
     "shell.execute_reply": "2023-01-30T19:44:20.589456Z"
    },
    "papermill": {
     "duration": 0.246562,
     "end_time": "2023-01-30T19:44:20.593521",
     "exception": false,
     "start_time": "2023-01-30T19:44:20.346959",
     "status": "completed"
    },
    "tags": []
   },
   "outputs": [
    {
     "data": {
      "text/plain": [
       "[<matplotlib.lines.Line2D at 0x7efc36248750>]"
      ]
     },
     "execution_count": 8,
     "metadata": {},
     "output_type": "execute_result"
    },
    {
     "data": {
      "image/png": "[encoded data removed]",
      "text/plain": [
       "<Figure size 432x288 with 1 Axes>"
      ]
     },
     "metadata": {
      "needs_background": "light"
     },
     "output_type": "display_data"
    }
   ],
   "source": [
    "import matplotlib.pyplot as plt\n",
    "plt.plot(mi_scores.index,mi_scores)"
   ]
  },
  {
   "cell_type": "markdown",
   "id": "2ce7bd75",
   "metadata": {
    "papermill": {
     "duration": 0.008289,
     "end_time": "2023-01-30T19:44:20.610050",
     "exception": false,
     "start_time": "2023-01-30T19:44:20.601761",
     "status": "completed"
    },
    "tags": []
   },
   "source": [
    "lets select all features above the threshold of 0.001"
   ]
  },
  {
   "cell_type": "code",
   "execution_count": 9,
   "id": "6abe6de0",
   "metadata": {
    "execution": {
     "iopub.execute_input": "2023-01-30T19:44:20.627871Z",
     "iopub.status.busy": "2023-01-30T19:44:20.627456Z",
     "iopub.status.idle": "2023-01-30T19:44:20.634867Z",
     "shell.execute_reply": "2023-01-30T19:44:20.633107Z"
    },
    "papermill": {
     "duration": 0.019226,
     "end_time": "2023-01-30T19:44:20.637335",
     "exception": false,
     "start_time": "2023-01-30T19:44:20.618109",
     "status": "completed"
    },
    "tags": []
   },
   "outputs": [],
   "source": [
    "threshold=0.0006\n",
    "feature=mi_scores\n",
    "# Find the indexes of the rows where the feature is greater than the threshold\n",
    "indexes = feature[feature > threshold].index"
   ]
  },
  {
   "cell_type": "code",
   "execution_count": 10,
   "id": "6c108b4f",
   "metadata": {
    "execution": {
     "iopub.execute_input": "2023-01-30T19:44:20.655194Z",
     "iopub.status.busy": "2023-01-30T19:44:20.654653Z",
     "iopub.status.idle": "2023-01-30T19:44:20.660298Z",
     "shell.execute_reply": "2023-01-30T19:44:20.658646Z"
    },
    "papermill": {
     "duration": 0.01751,
     "end_time": "2023-01-30T19:44:20.662788",
     "exception": false,
     "start_time": "2023-01-30T19:44:20.645278",
     "status": "completed"
    },
    "tags": []
   },
   "outputs": [
    {
     "name": "stdout",
     "output_type": "stream",
     "text": [
      "Index(['V14', 'V17', 'V2', 'V3', 'V10', 'V21', 'V7', 'Amount', 'V8', 'V11'], dtype='object')\n"
     ]
    }
   ],
   "source": [
    "print(indexes)"
   ]
  },
  {
   "cell_type": "markdown",
   "id": "85eb7649",
   "metadata": {
    "papermill": {
     "duration": 0.007157,
     "end_time": "2023-01-30T19:44:20.677739",
     "exception": false,
     "start_time": "2023-01-30T19:44:20.670582",
     "status": "completed"
    },
    "tags": []
   },
   "source": [
    "finding the final training dataset\""
   ]
  },
  {
   "cell_type": "code",
   "execution_count": 11,
   "id": "567659d7",
   "metadata": {
    "execution": {
     "iopub.execute_input": "2023-01-30T19:44:20.695659Z",
     "iopub.status.busy": "2023-01-30T19:44:20.695327Z",
     "iopub.status.idle": "2023-01-30T19:44:20.721353Z",
     "shell.execute_reply": "2023-01-30T19:44:20.720638Z"
    },
    "papermill": {
     "duration": 0.038052,
     "end_time": "2023-01-30T19:44:20.723435",
     "exception": false,
     "start_time": "2023-01-30T19:44:20.685383",
     "status": "completed"
    },
    "tags": []
   },
   "outputs": [],
   "source": [
    "X_train_final=X_train[discrete_features]\n",
    "X_train_final.head()\n",
    "X_test_final=test_data[discrete_features]"
   ]
  },
  {
   "cell_type": "markdown",
   "id": "fa258b26",
   "metadata": {
    "papermill": {
     "duration": 0.008297,
     "end_time": "2023-01-30T19:44:20.739546",
     "exception": false,
     "start_time": "2023-01-30T19:44:20.731249",
     "status": "completed"
    },
    "tags": []
   },
   "source": [
    "scaling training and test data"
   ]
  },
  {
   "cell_type": "code",
   "execution_count": 12,
   "id": "9e50a348",
   "metadata": {
    "execution": {
     "iopub.execute_input": "2023-01-30T19:44:20.756428Z",
     "iopub.status.busy": "2023-01-30T19:44:20.755576Z",
     "iopub.status.idle": "2023-01-30T19:44:20.844430Z",
     "shell.execute_reply": "2023-01-30T19:44:20.843121Z"
    },
    "papermill": {
     "duration": 0.100089,
     "end_time": "2023-01-30T19:44:20.846938",
     "exception": false,
     "start_time": "2023-01-30T19:44:20.746849",
     "status": "completed"
    },
    "tags": []
   },
   "outputs": [],
   "source": [
    "from sklearn.preprocessing import StandardScaler\n",
    "\n",
    "# create the scaler\n",
    "scaler = StandardScaler()\n",
    "\n",
    "# fit and transform the training data\n",
    "X_train_scaled = scaler.fit_transform(X_train_final)\n",
    "\n",
    "# convert the scaled data back to a pandas DataFrame\n",
    "X_train_scaled = pd.DataFrame(X_train_scaled, columns=X_train_final.columns)\n",
    "\n",
    "# transform the test data\n",
    "X_test_scaled = scaler.transform(X_test_final)\n",
    "\n",
    "# convert the scaled data back to a pandas DataFrame\n",
    "X_test_scaled = pd.DataFrame(X_test_scaled, columns=X_test_final.columns)"
   ]
  },
  {
   "cell_type": "markdown",
   "id": "8c3f8916",
   "metadata": {
    "papermill": {
     "duration": 0.007993,
     "end_time": "2023-01-30T19:44:20.863646",
     "exception": false,
     "start_time": "2023-01-30T19:44:20.855653",
     "status": "completed"
    },
    "tags": []
   },
   "source": [
    "viewing the scaled datasets"
   ]
  },
  {
   "cell_type": "code",
   "execution_count": 13,
   "id": "69c6bf13",
   "metadata": {
    "execution": {
     "iopub.execute_input": "2023-01-30T19:44:20.880512Z",
     "iopub.status.busy": "2023-01-30T19:44:20.880180Z",
     "iopub.status.idle": "2023-01-30T19:44:20.902391Z",
     "shell.execute_reply": "2023-01-30T19:44:20.901433Z"
    },
    "papermill": {
     "duration": 0.033521,
     "end_time": "2023-01-30T19:44:20.904823",
     "exception": false,
     "start_time": "2023-01-30T19:44:20.871302",
     "status": "completed"
    },
    "tags": []
   },
   "outputs": [
    {
     "data": {
      "text/html": [
       "<div>\n",
       "<style scoped>\n",
       "    .dataframe tbody tr th:only-of-type {\n",
       "        vertical-align: middle;\n",
       "    }\n",
       "\n",
       "    .dataframe tbody tr th {\n",
       "        vertical-align: top;\n",
       "    }\n",
       "\n",
       "    .dataframe thead th {\n",
       "        text-align: right;\n",
       "    }\n",
       "</style>\n",
       "<table border=\"1\" class=\"dataframe\">\n",
       "  <thead>\n",
       "    <tr style=\"text-align: right;\">\n",
       "      <th></th>\n",
       "      <th>Time</th>\n",
       "      <th>V1</th>\n",
       "      <th>V2</th>\n",
       "      <th>V3</th>\n",
       "      <th>V4</th>\n",
       "      <th>V5</th>\n",
       "      <th>V6</th>\n",
       "      <th>V7</th>\n",
       "      <th>V8</th>\n",
       "      <th>V9</th>\n",
       "      <th>...</th>\n",
       "      <th>V20</th>\n",
       "      <th>V21</th>\n",
       "      <th>V22</th>\n",
       "      <th>V23</th>\n",
       "      <th>V24</th>\n",
       "      <th>V25</th>\n",
       "      <th>V26</th>\n",
       "      <th>V27</th>\n",
       "      <th>V28</th>\n",
       "      <th>Amount</th>\n",
       "    </tr>\n",
       "  </thead>\n",
       "  <tbody>\n",
       "    <tr>\n",
       "      <th>0</th>\n",
       "      <td>-2.434688</td>\n",
       "      <td>1.417723</td>\n",
       "      <td>-0.153277</td>\n",
       "      <td>-1.526656</td>\n",
       "      <td>0.274174</td>\n",
       "      <td>-0.029063</td>\n",
       "      <td>-1.117617</td>\n",
       "      <td>0.292364</td>\n",
       "      <td>-0.576662</td>\n",
       "      <td>0.749882</td>\n",
       "      <td>...</td>\n",
       "      <td>-0.688652</td>\n",
       "      <td>-0.718199</td>\n",
       "      <td>-1.400090</td>\n",
       "      <td>1.217046</td>\n",
       "      <td>-0.181829</td>\n",
       "      <td>-1.021451</td>\n",
       "      <td>0.417528</td>\n",
       "      <td>-0.388293</td>\n",
       "      <td>-0.466403</td>\n",
       "      <td>-0.426937</td>\n",
       "    </tr>\n",
       "    <tr>\n",
       "      <th>1</th>\n",
       "      <td>-2.434688</td>\n",
       "      <td>1.363615</td>\n",
       "      <td>-1.120222</td>\n",
       "      <td>-0.982513</td>\n",
       "      <td>-0.769129</td>\n",
       "      <td>-0.898502</td>\n",
       "      <td>-0.336453</td>\n",
       "      <td>-1.102617</td>\n",
       "      <td>-0.138696</td>\n",
       "      <td>-0.058446</td>\n",
       "      <td>...</td>\n",
       "      <td>0.127433</td>\n",
       "      <td>0.203208</td>\n",
       "      <td>0.020885</td>\n",
       "      <td>0.578455</td>\n",
       "      <td>-0.773794</td>\n",
       "      <td>-1.449321</td>\n",
       "      <td>-1.001415</td>\n",
       "      <td>-0.100477</td>\n",
       "      <td>-0.336961</td>\n",
       "      <td>0.116982</td>\n",
       "    </tr>\n",
       "    <tr>\n",
       "      <th>2</th>\n",
       "      <td>-2.434688</td>\n",
       "      <td>-0.003205</td>\n",
       "      <td>0.824427</td>\n",
       "      <td>-0.719888</td>\n",
       "      <td>-0.402612</td>\n",
       "      <td>0.775205</td>\n",
       "      <td>-0.933160</td>\n",
       "      <td>1.317136</td>\n",
       "      <td>-0.327171</td>\n",
       "      <td>0.005986</td>\n",
       "      <td>...</td>\n",
       "      <td>-0.070720</td>\n",
       "      <td>-0.699333</td>\n",
       "      <td>-1.259402</td>\n",
       "      <td>0.644384</td>\n",
       "      <td>1.608883</td>\n",
       "      <td>-1.551175</td>\n",
       "      <td>0.158620</td>\n",
       "      <td>0.901735</td>\n",
       "      <td>0.424868</td>\n",
       "      <td>-0.422228</td>\n",
       "    </tr>\n",
       "    <tr>\n",
       "      <th>3</th>\n",
       "      <td>-2.434688</td>\n",
       "      <td>1.349872</td>\n",
       "      <td>-0.201150</td>\n",
       "      <td>-1.462031</td>\n",
       "      <td>0.040580</td>\n",
       "      <td>-0.050193</td>\n",
       "      <td>-0.650792</td>\n",
       "      <td>0.049435</td>\n",
       "      <td>-0.258165</td>\n",
       "      <td>0.886196</td>\n",
       "      <td>...</td>\n",
       "      <td>-0.795861</td>\n",
       "      <td>-0.152446</td>\n",
       "      <td>-0.048410</td>\n",
       "      <td>0.685889</td>\n",
       "      <td>-0.067352</td>\n",
       "      <td>-0.302912</td>\n",
       "      <td>-0.223754</td>\n",
       "      <td>-0.307748</td>\n",
       "      <td>-0.552913</td>\n",
       "      <td>-0.433436</td>\n",
       "    </tr>\n",
       "    <tr>\n",
       "      <th>4</th>\n",
       "      <td>-2.434688</td>\n",
       "      <td>0.666386</td>\n",
       "      <td>-0.189836</td>\n",
       "      <td>0.539876</td>\n",
       "      <td>0.937360</td>\n",
       "      <td>-0.444137</td>\n",
       "      <td>0.802877</td>\n",
       "      <td>-0.991706</td>\n",
       "      <td>0.586008</td>\n",
       "      <td>0.702944</td>\n",
       "      <td>...</td>\n",
       "      <td>-0.485382</td>\n",
       "      <td>0.308014</td>\n",
       "      <td>1.103629</td>\n",
       "      <td>0.246506</td>\n",
       "      <td>-0.438073</td>\n",
       "      <td>0.329029</td>\n",
       "      <td>-0.554398</td>\n",
       "      <td>0.404124</td>\n",
       "      <td>0.022671</td>\n",
       "      <td>-0.433436</td>\n",
       "    </tr>\n",
       "  </tbody>\n",
       "</table>\n",
       "<p>5 rows × 30 columns</p>\n",
       "</div>"
      ],
      "text/plain": [
       "       Time        V1        V2        V3        V4        V5        V6  \\\n",
       "0 -2.434688  1.417723 -0.153277 -1.526656  0.274174 -0.029063 -1.117617   \n",
       "1 -2.434688  1.363615 -1.120222 -0.982513 -0.769129 -0.898502 -0.336453   \n",
       "2 -2.434688 -0.003205  0.824427 -0.719888 -0.402612  0.775205 -0.933160   \n",
       "3 -2.434688  1.349872 -0.201150 -1.462031  0.040580 -0.050193 -0.650792   \n",
       "4 -2.434688  0.666386 -0.189836  0.539876  0.937360 -0.444137  0.802877   \n",
       "\n",
       "         V7        V8        V9  ...       V20       V21       V22       V23  \\\n",
       "0  0.292364 -0.576662  0.749882  ... -0.688652 -0.718199 -1.400090  1.217046   \n",
       "1 -1.102617 -0.138696 -0.058446  ...  0.127433  0.203208  0.020885  0.578455   \n",
       "2  1.317136 -0.327171  0.005986  ... -0.070720 -0.699333 -1.259402  0.644384   \n",
       "3  0.049435 -0.258165  0.886196  ... -0.795861 -0.152446 -0.048410  0.685889   \n",
       "4 -0.991706  0.586008  0.702944  ... -0.485382  0.308014  1.103629  0.246506   \n",
       "\n",
       "        V24       V25       V26       V27       V28    Amount  \n",
       "0 -0.181829 -1.021451  0.417528 -0.388293 -0.466403 -0.426937  \n",
       "1 -0.773794 -1.449321 -1.001415 -0.100477 -0.336961  0.116982  \n",
       "2  1.608883 -1.551175  0.158620  0.901735  0.424868 -0.422228  \n",
       "3 -0.067352 -0.302912 -0.223754 -0.307748 -0.552913 -0.433436  \n",
       "4 -0.438073  0.329029 -0.554398  0.404124  0.022671 -0.433436  \n",
       "\n",
       "[5 rows x 30 columns]"
      ]
     },
     "execution_count": 13,
     "metadata": {},
     "output_type": "execute_result"
    }
   ],
   "source": [
    "X_train_scaled.head()"
   ]
  },
  {
   "cell_type": "code",
   "execution_count": 14,
   "id": "e0244dd8",
   "metadata": {
    "execution": {
     "iopub.execute_input": "2023-01-30T19:44:20.923544Z",
     "iopub.status.busy": "2023-01-30T19:44:20.923187Z",
     "iopub.status.idle": "2023-01-30T19:44:20.944886Z",
     "shell.execute_reply": "2023-01-30T19:44:20.944201Z"
    },
    "papermill": {
     "duration": 0.033189,
     "end_time": "2023-01-30T19:44:20.946336",
     "exception": false,
     "start_time": "2023-01-30T19:44:20.913147",
     "status": "completed"
    },
    "tags": []
   },
   "outputs": [
    {
     "data": {
      "text/html": [
       "<div>\n",
       "<style scoped>\n",
       "    .dataframe tbody tr th:only-of-type {\n",
       "        vertical-align: middle;\n",
       "    }\n",
       "\n",
       "    .dataframe tbody tr th {\n",
       "        vertical-align: top;\n",
       "    }\n",
       "\n",
       "    .dataframe thead th {\n",
       "        text-align: right;\n",
       "    }\n",
       "</style>\n",
       "<table border=\"1\" class=\"dataframe\">\n",
       "  <thead>\n",
       "    <tr style=\"text-align: right;\">\n",
       "      <th></th>\n",
       "      <th>Time</th>\n",
       "      <th>V1</th>\n",
       "      <th>V2</th>\n",
       "      <th>V3</th>\n",
       "      <th>V4</th>\n",
       "      <th>V5</th>\n",
       "      <th>V6</th>\n",
       "      <th>V7</th>\n",
       "      <th>V8</th>\n",
       "      <th>V9</th>\n",
       "      <th>...</th>\n",
       "      <th>V20</th>\n",
       "      <th>V21</th>\n",
       "      <th>V22</th>\n",
       "      <th>V23</th>\n",
       "      <th>V24</th>\n",
       "      <th>V25</th>\n",
       "      <th>V26</th>\n",
       "      <th>V27</th>\n",
       "      <th>V28</th>\n",
       "      <th>Amount</th>\n",
       "    </tr>\n",
       "  </thead>\n",
       "  <tbody>\n",
       "    <tr>\n",
       "      <th>0</th>\n",
       "      <td>2.271738</td>\n",
       "      <td>1.447241</td>\n",
       "      <td>-0.638173</td>\n",
       "      <td>-1.675036</td>\n",
       "      <td>-0.602438</td>\n",
       "      <td>-0.448525</td>\n",
       "      <td>-0.747227</td>\n",
       "      <td>-0.974097</td>\n",
       "      <td>-0.240939</td>\n",
       "      <td>-0.172452</td>\n",
       "      <td>...</td>\n",
       "      <td>0.131187</td>\n",
       "      <td>0.645192</td>\n",
       "      <td>1.226771</td>\n",
       "      <td>0.277521</td>\n",
       "      <td>-0.916993</td>\n",
       "      <td>-0.607417</td>\n",
       "      <td>-0.199994</td>\n",
       "      <td>-0.039913</td>\n",
       "      <td>-0.238127</td>\n",
       "      <td>-0.241453</td>\n",
       "    </tr>\n",
       "    <tr>\n",
       "      <th>1</th>\n",
       "      <td>2.271738</td>\n",
       "      <td>1.180659</td>\n",
       "      <td>-1.491439</td>\n",
       "      <td>-1.005833</td>\n",
       "      <td>-0.902056</td>\n",
       "      <td>-0.499539</td>\n",
       "      <td>1.933733</td>\n",
       "      <td>-1.841196</td>\n",
       "      <td>1.290116</td>\n",
       "      <td>1.059176</td>\n",
       "      <td>...</td>\n",
       "      <td>0.983074</td>\n",
       "      <td>1.358501</td>\n",
       "      <td>2.250585</td>\n",
       "      <td>1.131681</td>\n",
       "      <td>6.250089</td>\n",
       "      <td>-0.901276</td>\n",
       "      <td>0.124142</td>\n",
       "      <td>-0.048875</td>\n",
       "      <td>0.287380</td>\n",
       "      <td>0.644189</td>\n",
       "    </tr>\n",
       "    <tr>\n",
       "      <th>2</th>\n",
       "      <td>2.271738</td>\n",
       "      <td>1.511772</td>\n",
       "      <td>-1.396609</td>\n",
       "      <td>-0.733587</td>\n",
       "      <td>-1.381980</td>\n",
       "      <td>-1.393858</td>\n",
       "      <td>-0.156677</td>\n",
       "      <td>-1.901407</td>\n",
       "      <td>-0.061323</td>\n",
       "      <td>-1.071508</td>\n",
       "      <td>...</td>\n",
       "      <td>-0.856873</td>\n",
       "      <td>-0.237628</td>\n",
       "      <td>0.229965</td>\n",
       "      <td>1.074589</td>\n",
       "      <td>1.251192</td>\n",
       "      <td>-1.639897</td>\n",
       "      <td>-0.649327</td>\n",
       "      <td>0.127123</td>\n",
       "      <td>-0.334642</td>\n",
       "      <td>-0.333963</td>\n",
       "    </tr>\n",
       "    <tr>\n",
       "      <th>3</th>\n",
       "      <td>2.271738</td>\n",
       "      <td>1.357095</td>\n",
       "      <td>-0.880542</td>\n",
       "      <td>-2.233562</td>\n",
       "      <td>-1.204513</td>\n",
       "      <td>-0.004956</td>\n",
       "      <td>-0.771565</td>\n",
       "      <td>0.466362</td>\n",
       "      <td>-0.766985</td>\n",
       "      <td>2.018455</td>\n",
       "      <td>...</td>\n",
       "      <td>-0.133882</td>\n",
       "      <td>-0.116021</td>\n",
       "      <td>0.067113</td>\n",
       "      <td>0.037655</td>\n",
       "      <td>1.112501</td>\n",
       "      <td>0.539572</td>\n",
       "      <td>-1.345129</td>\n",
       "      <td>-0.164435</td>\n",
       "      <td>-0.324256</td>\n",
       "      <td>0.362216</td>\n",
       "    </tr>\n",
       "    <tr>\n",
       "      <th>4</th>\n",
       "      <td>2.271738</td>\n",
       "      <td>-1.461605</td>\n",
       "      <td>-1.480516</td>\n",
       "      <td>-0.201699</td>\n",
       "      <td>-0.835420</td>\n",
       "      <td>2.661300</td>\n",
       "      <td>-1.805850</td>\n",
       "      <td>0.205497</td>\n",
       "      <td>-0.277054</td>\n",
       "      <td>-0.221424</td>\n",
       "      <td>...</td>\n",
       "      <td>0.868946</td>\n",
       "      <td>0.270717</td>\n",
       "      <td>-0.428340</td>\n",
       "      <td>0.937704</td>\n",
       "      <td>-0.655552</td>\n",
       "      <td>-2.248910</td>\n",
       "      <td>-0.075101</td>\n",
       "      <td>1.357266</td>\n",
       "      <td>1.930292</td>\n",
       "      <td>-0.426937</td>\n",
       "    </tr>\n",
       "  </tbody>\n",
       "</table>\n",
       "<p>5 rows × 30 columns</p>\n",
       "</div>"
      ],
      "text/plain": [
       "       Time        V1        V2        V3        V4        V5        V6  \\\n",
       "0  2.271738  1.447241 -0.638173 -1.675036 -0.602438 -0.448525 -0.747227   \n",
       "1  2.271738  1.180659 -1.491439 -1.005833 -0.902056 -0.499539  1.933733   \n",
       "2  2.271738  1.511772 -1.396609 -0.733587 -1.381980 -1.393858 -0.156677   \n",
       "3  2.271738  1.357095 -0.880542 -2.233562 -1.204513 -0.004956 -0.771565   \n",
       "4  2.271738 -1.461605 -1.480516 -0.201699 -0.835420  2.661300 -1.805850   \n",
       "\n",
       "         V7        V8        V9  ...       V20       V21       V22       V23  \\\n",
       "0 -0.974097 -0.240939 -0.172452  ...  0.131187  0.645192  1.226771  0.277521   \n",
       "1 -1.841196  1.290116  1.059176  ...  0.983074  1.358501  2.250585  1.131681   \n",
       "2 -1.901407 -0.061323 -1.071508  ... -0.856873 -0.237628  0.229965  1.074589   \n",
       "3  0.466362 -0.766985  2.018455  ... -0.133882 -0.116021  0.067113  0.037655   \n",
       "4  0.205497 -0.277054 -0.221424  ...  0.868946  0.270717 -0.428340  0.937704   \n",
       "\n",
       "        V24       V25       V26       V27       V28    Amount  \n",
       "0 -0.916993 -0.607417 -0.199994 -0.039913 -0.238127 -0.241453  \n",
       "1  6.250089 -0.901276  0.124142 -0.048875  0.287380  0.644189  \n",
       "2  1.251192 -1.639897 -0.649327  0.127123 -0.334642 -0.333963  \n",
       "3  1.112501  0.539572 -1.345129 -0.164435 -0.324256  0.362216  \n",
       "4 -0.655552 -2.248910 -0.075101  1.357266  1.930292 -0.426937  \n",
       "\n",
       "[5 rows x 30 columns]"
      ]
     },
     "execution_count": 14,
     "metadata": {},
     "output_type": "execute_result"
    }
   ],
   "source": [
    "X_test_scaled.head()"
   ]
  },
  {
   "cell_type": "markdown",
   "id": "8e85ebf3",
   "metadata": {
    "papermill": {
     "duration": 0.009884,
     "end_time": "2023-01-30T19:44:20.965060",
     "exception": false,
     "start_time": "2023-01-30T19:44:20.955176",
     "status": "completed"
    },
    "tags": []
   },
   "source": [
    "importing catboost"
   ]
  },
  {
   "cell_type": "code",
   "execution_count": 15,
   "id": "42ec7ce6",
   "metadata": {
    "execution": {
     "iopub.execute_input": "2023-01-30T19:44:20.983502Z",
     "iopub.status.busy": "2023-01-30T19:44:20.982920Z",
     "iopub.status.idle": "2023-01-30T19:44:21.452350Z",
     "shell.execute_reply": "2023-01-30T19:44:21.450480Z"
    },
    "papermill": {
     "duration": 0.482,
     "end_time": "2023-01-30T19:44:21.455511",
     "exception": false,
     "start_time": "2023-01-30T19:44:20.973511",
     "status": "completed"
    },
    "tags": []
   },
   "outputs": [],
   "source": [
    "from catboost import CatBoostClassifier\n"
   ]
  },
  {
   "cell_type": "markdown",
   "id": "be01409f",
   "metadata": {
    "papermill": {
     "duration": 0.008123,
     "end_time": "2023-01-30T19:44:21.472250",
     "exception": false,
     "start_time": "2023-01-30T19:44:21.464127",
     "status": "completed"
    },
    "tags": []
   },
   "source": [
    "defining a classifier model"
   ]
  },
  {
   "cell_type": "code",
   "execution_count": 16,
   "id": "cae0b7e1",
   "metadata": {
    "execution": {
     "iopub.execute_input": "2023-01-30T19:44:21.490179Z",
     "iopub.status.busy": "2023-01-30T19:44:21.489836Z",
     "iopub.status.idle": "2023-01-30T19:44:21.499419Z",
     "shell.execute_reply": "2023-01-30T19:44:21.497789Z"
    },
    "papermill": {
     "duration": 0.021774,
     "end_time": "2023-01-30T19:44:21.502214",
     "exception": false,
     "start_time": "2023-01-30T19:44:21.480440",
     "status": "completed"
    },
    "tags": []
   },
   "outputs": [],
   "source": [
    "model_cbc=CatBoostClassifier(iterations=100,random_state=42,eval_metric='AUC')"
   ]
  },
  {
   "cell_type": "code",
   "execution_count": 17,
   "id": "12cd3e82",
   "metadata": {
    "execution": {
     "iopub.execute_input": "2023-01-30T19:44:21.520838Z",
     "iopub.status.busy": "2023-01-30T19:44:21.520470Z",
     "iopub.status.idle": "2023-01-30T19:44:26.374313Z",
     "shell.execute_reply": "2023-01-30T19:44:26.372233Z"
    },
    "papermill": {
     "duration": 4.866671,
     "end_time": "2023-01-30T19:44:26.377508",
     "exception": false,
     "start_time": "2023-01-30T19:44:21.510837",
     "status": "completed"
    },
    "scrolled": true,
    "tags": []
   },
   "outputs": [
    {
     "name": "stdout",
     "output_type": "stream",
     "text": [
      "Learning rate set to 0.5\n",
      "0:\ttotal: 129ms\tremaining: 12.8s\n",
      "1:\ttotal: 191ms\tremaining: 9.37s\n",
      "2:\ttotal: 238ms\tremaining: 7.7s\n",
      "3:\ttotal: 294ms\tremaining: 7.05s\n",
      "4:\ttotal: 358ms\tremaining: 6.8s\n",
      "5:\ttotal: 407ms\tremaining: 6.38s\n",
      "6:\ttotal: 449ms\tremaining: 5.97s\n",
      "7:\ttotal: 496ms\tremaining: 5.7s\n",
      "8:\ttotal: 542ms\tremaining: 5.48s\n",
      "9:\ttotal: 583ms\tremaining: 5.25s\n",
      "10:\ttotal: 630ms\tremaining: 5.09s\n",
      "11:\ttotal: 668ms\tremaining: 4.9s\n",
      "12:\ttotal: 706ms\tremaining: 4.73s\n",
      "13:\ttotal: 754ms\tremaining: 4.63s\n",
      "14:\ttotal: 790ms\tremaining: 4.48s\n",
      "15:\ttotal: 825ms\tremaining: 4.33s\n",
      "16:\ttotal: 862ms\tremaining: 4.21s\n",
      "17:\ttotal: 899ms\tremaining: 4.09s\n",
      "18:\ttotal: 942ms\tremaining: 4.02s\n",
      "19:\ttotal: 979ms\tremaining: 3.92s\n",
      "20:\ttotal: 1.02s\tremaining: 3.83s\n",
      "21:\ttotal: 1.06s\tremaining: 3.75s\n",
      "22:\ttotal: 1.1s\tremaining: 3.68s\n",
      "23:\ttotal: 1.14s\tremaining: 3.62s\n",
      "24:\ttotal: 1.19s\tremaining: 3.56s\n",
      "25:\ttotal: 1.23s\tremaining: 3.49s\n",
      "26:\ttotal: 1.27s\tremaining: 3.42s\n",
      "27:\ttotal: 1.31s\tremaining: 3.37s\n",
      "28:\ttotal: 1.35s\tremaining: 3.3s\n",
      "29:\ttotal: 1.39s\tremaining: 3.25s\n",
      "30:\ttotal: 1.43s\tremaining: 3.17s\n",
      "31:\ttotal: 1.46s\tremaining: 3.11s\n",
      "32:\ttotal: 1.5s\tremaining: 3.04s\n",
      "33:\ttotal: 1.54s\tremaining: 2.98s\n",
      "34:\ttotal: 1.58s\tremaining: 2.93s\n",
      "35:\ttotal: 1.62s\tremaining: 2.88s\n",
      "36:\ttotal: 1.66s\tremaining: 2.83s\n",
      "37:\ttotal: 1.71s\tremaining: 2.78s\n",
      "38:\ttotal: 1.76s\tremaining: 2.75s\n",
      "39:\ttotal: 1.8s\tremaining: 2.7s\n",
      "40:\ttotal: 1.84s\tremaining: 2.65s\n",
      "41:\ttotal: 1.88s\tremaining: 2.6s\n",
      "42:\ttotal: 1.92s\tremaining: 2.55s\n",
      "43:\ttotal: 1.97s\tremaining: 2.51s\n",
      "44:\ttotal: 2.02s\tremaining: 2.46s\n",
      "45:\ttotal: 2.06s\tremaining: 2.42s\n",
      "46:\ttotal: 2.1s\tremaining: 2.37s\n",
      "47:\ttotal: 2.14s\tremaining: 2.31s\n",
      "48:\ttotal: 2.18s\tremaining: 2.27s\n",
      "49:\ttotal: 2.22s\tremaining: 2.22s\n",
      "50:\ttotal: 2.27s\tremaining: 2.18s\n",
      "51:\ttotal: 2.3s\tremaining: 2.12s\n",
      "52:\ttotal: 2.33s\tremaining: 2.07s\n",
      "53:\ttotal: 2.38s\tremaining: 2.02s\n",
      "54:\ttotal: 2.42s\tremaining: 1.98s\n",
      "55:\ttotal: 2.46s\tremaining: 1.93s\n",
      "56:\ttotal: 2.49s\tremaining: 1.88s\n",
      "57:\ttotal: 2.53s\tremaining: 1.83s\n",
      "58:\ttotal: 2.57s\tremaining: 1.79s\n",
      "59:\ttotal: 2.61s\tremaining: 1.74s\n",
      "60:\ttotal: 2.66s\tremaining: 1.7s\n",
      "61:\ttotal: 2.7s\tremaining: 1.66s\n",
      "62:\ttotal: 2.74s\tremaining: 1.61s\n",
      "63:\ttotal: 2.79s\tremaining: 1.57s\n",
      "64:\ttotal: 2.84s\tremaining: 1.53s\n",
      "65:\ttotal: 2.89s\tremaining: 1.49s\n",
      "66:\ttotal: 2.93s\tremaining: 1.44s\n",
      "67:\ttotal: 2.96s\tremaining: 1.39s\n",
      "68:\ttotal: 3s\tremaining: 1.34s\n",
      "69:\ttotal: 3.03s\tremaining: 1.3s\n",
      "70:\ttotal: 3.07s\tremaining: 1.25s\n",
      "71:\ttotal: 3.11s\tremaining: 1.21s\n",
      "72:\ttotal: 3.14s\tremaining: 1.16s\n",
      "73:\ttotal: 3.18s\tremaining: 1.12s\n",
      "74:\ttotal: 3.23s\tremaining: 1.07s\n",
      "75:\ttotal: 3.27s\tremaining: 1.03s\n",
      "76:\ttotal: 3.31s\tremaining: 990ms\n",
      "77:\ttotal: 3.37s\tremaining: 950ms\n",
      "78:\ttotal: 3.41s\tremaining: 906ms\n",
      "79:\ttotal: 3.45s\tremaining: 863ms\n",
      "80:\ttotal: 3.5s\tremaining: 821ms\n",
      "81:\ttotal: 3.55s\tremaining: 779ms\n",
      "82:\ttotal: 3.59s\tremaining: 735ms\n",
      "83:\ttotal: 3.63s\tremaining: 693ms\n",
      "84:\ttotal: 3.67s\tremaining: 648ms\n",
      "85:\ttotal: 3.71s\tremaining: 604ms\n",
      "86:\ttotal: 3.75s\tremaining: 561ms\n",
      "87:\ttotal: 3.79s\tremaining: 518ms\n",
      "88:\ttotal: 3.83s\tremaining: 473ms\n",
      "89:\ttotal: 3.87s\tremaining: 430ms\n",
      "90:\ttotal: 3.91s\tremaining: 387ms\n",
      "91:\ttotal: 3.96s\tremaining: 344ms\n",
      "92:\ttotal: 4s\tremaining: 301ms\n",
      "93:\ttotal: 4.04s\tremaining: 258ms\n",
      "94:\ttotal: 4.07s\tremaining: 214ms\n",
      "95:\ttotal: 4.12s\tremaining: 171ms\n",
      "96:\ttotal: 4.15s\tremaining: 128ms\n",
      "97:\ttotal: 4.2s\tremaining: 85.6ms\n",
      "98:\ttotal: 4.24s\tremaining: 42.8ms\n",
      "99:\ttotal: 4.27s\tremaining: 0us\n"
     ]
    },
    {
     "data": {
      "text/plain": [
       "<catboost.core.CatBoostClassifier at 0x7efc0979b790>"
      ]
     },
     "execution_count": 17,
     "metadata": {},
     "output_type": "execute_result"
    }
   ],
   "source": [
    "model_cbc.fit(X_train_scaled,y_train)"
   ]
  },
  {
   "cell_type": "markdown",
   "id": "bb338c84",
   "metadata": {
    "papermill": {
     "duration": 0.00953,
     "end_time": "2023-01-30T19:44:26.397772",
     "exception": false,
     "start_time": "2023-01-30T19:44:26.388242",
     "status": "completed"
    },
    "tags": []
   },
   "source": [
    "predicting values using the fitted model"
   ]
  },
  {
   "cell_type": "code",
   "execution_count": 18,
   "id": "3b252ea2",
   "metadata": {
    "execution": {
     "iopub.execute_input": "2023-01-30T19:44:26.419216Z",
     "iopub.status.busy": "2023-01-30T19:44:26.418853Z",
     "iopub.status.idle": "2023-01-30T19:44:26.485711Z",
     "shell.execute_reply": "2023-01-30T19:44:26.484568Z"
    },
    "papermill": {
     "duration": 0.080348,
     "end_time": "2023-01-30T19:44:26.487998",
     "exception": false,
     "start_time": "2023-01-30T19:44:26.407650",
     "status": "completed"
    },
    "tags": []
   },
   "outputs": [],
   "source": [
    "pred=model_cbc.predict(X_test_scaled)"
   ]
  },
  {
   "cell_type": "code",
   "execution_count": 19,
   "id": "05b3faca",
   "metadata": {
    "execution": {
     "iopub.execute_input": "2023-01-30T19:44:26.507542Z",
     "iopub.status.busy": "2023-01-30T19:44:26.507034Z",
     "iopub.status.idle": "2023-01-30T19:44:26.654690Z",
     "shell.execute_reply": "2023-01-30T19:44:26.653258Z"
    },
    "papermill": {
     "duration": 0.160291,
     "end_time": "2023-01-30T19:44:26.657463",
     "exception": false,
     "start_time": "2023-01-30T19:44:26.497172",
     "status": "completed"
    },
    "tags": []
   },
   "outputs": [
    {
     "name": "stdout",
     "output_type": "stream",
     "text": [
      "Submission successful\n"
     ]
    }
   ],
   "source": [
    "output=pd.DataFrame({'id':test_data['id'],'Class':pred})\n",
    "output.to_csv('submission.csv',index=False)\n",
    "print('Submission successful')"
   ]
  },
  {
   "cell_type": "code",
   "execution_count": 20,
   "id": "12befbf3",
   "metadata": {
    "execution": {
     "iopub.execute_input": "2023-01-30T19:44:26.679241Z",
     "iopub.status.busy": "2023-01-30T19:44:26.678827Z",
     "iopub.status.idle": "2023-01-30T19:44:26.690289Z",
     "shell.execute_reply": "2023-01-30T19:44:26.688380Z"
    },
    "papermill": {
     "duration": 0.025231,
     "end_time": "2023-01-30T19:44:26.692635",
     "exception": false,
     "start_time": "2023-01-30T19:44:26.667404",
     "status": "completed"
    },
    "tags": []
   },
   "outputs": [
    {
     "data": {
      "text/html": [
       "<div>\n",
       "<style scoped>\n",
       "    .dataframe tbody tr th:only-of-type {\n",
       "        vertical-align: middle;\n",
       "    }\n",
       "\n",
       "    .dataframe tbody tr th {\n",
       "        vertical-align: top;\n",
       "    }\n",
       "\n",
       "    .dataframe thead th {\n",
       "        text-align: right;\n",
       "    }\n",
       "</style>\n",
       "<table border=\"1\" class=\"dataframe\">\n",
       "  <thead>\n",
       "    <tr style=\"text-align: right;\">\n",
       "      <th></th>\n",
       "      <th>id</th>\n",
       "      <th>Class</th>\n",
       "    </tr>\n",
       "  </thead>\n",
       "  <tbody>\n",
       "    <tr>\n",
       "      <th>0</th>\n",
       "      <td>219129</td>\n",
       "      <td>0</td>\n",
       "    </tr>\n",
       "    <tr>\n",
       "      <th>1</th>\n",
       "      <td>219130</td>\n",
       "      <td>0</td>\n",
       "    </tr>\n",
       "    <tr>\n",
       "      <th>2</th>\n",
       "      <td>219131</td>\n",
       "      <td>0</td>\n",
       "    </tr>\n",
       "    <tr>\n",
       "      <th>3</th>\n",
       "      <td>219132</td>\n",
       "      <td>0</td>\n",
       "    </tr>\n",
       "    <tr>\n",
       "      <th>4</th>\n",
       "      <td>219133</td>\n",
       "      <td>0</td>\n",
       "    </tr>\n",
       "  </tbody>\n",
       "</table>\n",
       "</div>"
      ],
      "text/plain": [
       "       id  Class\n",
       "0  219129      0\n",
       "1  219130      0\n",
       "2  219131      0\n",
       "3  219132      0\n",
       "4  219133      0"
      ]
     },
     "execution_count": 20,
     "metadata": {},
     "output_type": "execute_result"
    }
   ],
   "source": [
    "output.head()"
   ]
  },
  {
   "cell_type": "markdown",
   "id": "3874f94f",
   "metadata": {
    "papermill": {
     "duration": 0.00932,
     "end_time": "2023-01-30T19:44:26.711669",
     "exception": false,
     "start_time": "2023-01-30T19:44:26.702349",
     "status": "completed"
    },
    "tags": []
   },
   "source": [
    "**first submission.**"
   ]
  },
  {
   "cell_type": "code",
   "execution_count": null,
   "id": "656cfdee",
   "metadata": {
    "papermill": {
     "duration": 0.008816,
     "end_time": "2023-01-30T19:44:26.729909",
     "exception": false,
     "start_time": "2023-01-30T19:44:26.721093",
     "status": "completed"
    },
    "tags": []
   },
   "outputs": [],
   "source": []
  }
 ],
 "metadata": {
  "kernelspec": {
   "display_name": "Python 3",
   "language": "python",
   "name": "python3"
  },
  "language_info": {
   "codemirror_mode": {
    "name": "ipython",
    "version": 3
   },
   "file_extension": ".py",
   "mimetype": "text/x-python",
   "name": "python",
   "nbconvert_exporter": "python",
   "pygments_lexer": "ipython3",
   "version": "3.7.12"
  },
  "papermill": {
   "default_parameters": {},
   "duration": 58.582706,
   "end_time": "2023-01-30T19:44:27.562114",
   "environment_variables": {},
   "exception": null,
   "input_path": "__notebook__.ipynb",
   "output_path": "__notebook__.ipynb",
   "parameters": {},
   "start_time": "2023-01-30T19:43:28.979408",
   "version": "2.3.4"
  }
 },
 "nbformat": 4,
 "nbformat_minor": 5
}
